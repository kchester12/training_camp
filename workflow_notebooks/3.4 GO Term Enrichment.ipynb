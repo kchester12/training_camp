{
 "cells": [
  {
   "cell_type": "markdown",
   "metadata": {},
   "source": [
    "# 3.4 GO Term Enrichment with Foreground and Background Set#"
   ]
  },
  {
   "cell_type": "markdown",
   "metadata": {},
   "source": [
    "### IMPORTANT: Please make sure that you are using the bash kernel to run this notebook. ###\n"
   ]
  },
  {
   "cell_type": "code",
   "execution_count": 1,
   "metadata": {
    "collapsed": false
   },
   "outputs": [
    {
     "name": "stdout",
     "output_type": "stream",
     "text": []
    }
   ],
   "source": [
    "### Set up variables storing the location of our data\n",
    "### The proper way to load your variables is with the ~/.bashrc command, but this is very slow in iPython \n",
    "export SUNETID=\"$(whoami)\"\n",
    "export WORK_DIR=\"/srv/scratch/training_camp/work/${SUNETID}\"\n",
    "export DATA_DIR=\"${WORK_DIR}/data\"\n",
    "[[ ! -d ${WORK_DIR}/data ]] && mkdir \"${WORK_DIR}/data\"\n",
    "export SRC_DIR=\"${WORK_DIR}/src\"\n",
    "[[ ! -d ${WORK_DIR}/src ]] && mkdir -p \"${WORK_DIR}/src\"\n",
    "export METADATA_DIR=\"/srv/scratch/training_camp/metadata\"\n",
    "export AGGREGATE_DATA_DIR=\"/srv/scratch/training_camp/data\"\n",
    "export AGGREGATE_ANALYSIS_DIR=\"/srv/scratch/training_camp/aggregate_analysis\"\n",
    "export YEAST_DIR=\"/srv/scratch/training_camp/saccer3\"\n",
    "export TMP=\"${WORK_DIR}/tmp\"\n",
    "export TEMP=$TMP\n",
    "export TMPDIR=$TMP\n",
    "[[ ! -d ${TMP} ]] && mkdir -p \"${TMP}\"\n",
    "\n"
   ]
  },
  {
   "cell_type": "markdown",
   "metadata": {},
   "source": [
    "In this tutorial, we will focus on GO term enrichment analysis: \n",
    "![Analysis pipeline](images/part5.png)"
   ]
  },
  {
   "cell_type": "markdown",
   "metadata": {},
   "source": [
    "In the previous tutorial, we identified differential peaks between pairs of strains and media. These were stored in the $WORK_DIR, as the following files: \n",
    "\n",
    "* Media_SCD_vs_SCE.txt  \n",
    "* Media_SCD_vs_SCE.differential.txt  \n",
    "\n",
    "\n",
    "* Strain_WT_vs_cln3.txt  \n",
    "* Strain_WT_vs_cln3.differential.txt\n",
    "\n",
    "* Strain_WT_vs_whi5.txt  \n",
    "* Strain_WT_vs_whi5.txt.sigPeakNames  \n",
    "\n",
    "\n",
    "* Strain_WT_vs_cln3.txt\n",
    "* Strain_WT_vs_cln3.differential.txt\n",
    "\n",
    "\n",
    "We'll perform GO Term enrichment for the Media variable. You can look at term enrichment between the different strains as an exercise. "
   ]
  },
  {
   "cell_type": "code",
   "execution_count": 11,
   "metadata": {
    "collapsed": false
   },
   "outputs": [
    {
     "name": "stdout",
     "output_type": "stream",
     "text": [
      "baseMean\tlog2FoldChange\tlfcSE\tstat\tpvalue\tpadj\r\n",
      "chrI\t0\t781\t71.4247594771033\t0.362542651434563\t0.191033277028369\t1.8977984206423\t0.057722641357702\t0.412486273145827\r\n",
      "chrI\t6332\t6549\t391.519300192043\t-0.0903453826781279\t0.122585917923755\t-0.736996420211335\t0.461124526325371\t0.696855927778159\r\n",
      "chrI\t9138\t9609\t103.122109647538\t0.170848189475769\t0.152245402286897\t1.12218948427629\t0.261781882791821\t0.589369470704246\r\n",
      "chrI\t20611\t21197\t116.903606874811\t0.456142166962172\t0.206984101656355\t2.20375460391389\t0.0275416067274062\t0.303433319639802\r\n",
      "chrI\t28155\t29092\t17.918683845665\t0.354579784474876\t0.269386440193253\t1.31624956408536\t0.188090293004623\t0.543158882236564\r\n",
      "chrI\t29173\t30197\t72.0299111447025\t-0.218158510802214\t0.148134090467285\t-1.47270969237424\t0.140829331980554\t0.50517128958626\r\n",
      "chrI\t31527\t31972\t17.6993060460414\t0.0878247958481518\t0.272882234659731\t0.321841383180054\t0.74757286164616\t0.8584568746176\r\n",
      "chrI\t32456\t36256\t25.4848246195161\t-0.249976827324697\t0.276448051484265\t-0.904245213458939\t0.365865390411011\t0.643787404040741\r\n",
      "chrI\t39017\t39243\t41.897921479625\t0.0485268412170747\t0.210877012489741\t0.230119161136331\t0.817999175969628\t0.905341407955033\r\n"
     ]
    }
   ],
   "source": [
    "cd $WORK_DIR\n",
    "head Media_SCD_vs_SCE.txt"
   ]
  },
  {
   "cell_type": "code",
   "execution_count": 12,
   "metadata": {
    "collapsed": false
   },
   "outputs": [
    {
     "name": "stdout",
     "output_type": "stream",
     "text": [
      "chrI\t60701\t61907\r\n",
      "chrI\t166120\t166935\r\n",
      "chrI\t189485\t192687\r\n",
      "chrII\t306681\t307593\r\n",
      "chrII\t623263\t623436\r\n",
      "chrIII\t90707\t91411\r\n",
      "chrIV\t47634\t48030\r\n",
      "chrIV\t73358\t73585\r\n",
      "chrIV\t124897\t125699\r\n",
      "chrIV\t524555\t525548\r\n"
     ]
    }
   ],
   "source": [
    "head Media_SCD_vs_SCE.differential.txt"
   ]
  },
  {
   "cell_type": "markdown",
   "metadata": {},
   "source": [
    "We will map the differentially expressed peaks to their nearest genes, as we did in tutorial 3.2, and search for GO term enrichment. The genes close to differential peaks will be the foreground set. The full set of genes near peaks will be the background set. \n",
    "\n"
   ]
  },
  {
   "cell_type": "code",
   "execution_count": 16,
   "metadata": {
    "collapsed": false
   },
   "outputs": [
    {
     "name": "stdout",
     "output_type": "stream",
     "text": []
    }
   ],
   "source": [
    "#foreground mapping\n",
    "bedtools closest -D a -a Media_SCD_vs_SCE.differential.txt -b $YEAST_DIR/yeast_tss_coords.bed > Media_SCD_vs_SCE.differential.togene.txt\n",
    "#background mapping \n",
    "tail -n +2 Media_SCD_vs_SCE.txt| cut -f1,2,3 | bedtools closest -D a -a stdin -b $YEAST_DIR/yeast_tss_coords.bed > Media_SCD_vs_SCE.togene.txt\n"
   ]
  },
  {
   "cell_type": "code",
   "execution_count": 10,
   "metadata": {
    "collapsed": false
   },
   "outputs": [
    {
     "name": "stdout",
     "output_type": "stream",
     "text": [
      "chrI\t60701\t61907\tchrI\t61315\t61316\tYAL042W\t0\t+\t0\r\n",
      "chrI\t166120\t166935\tchrI\t165865\t165866\tYAR010C\t0\t-\t-255\r\n",
      "chrI\t189485\t192687\tchrI\t192618\t192619\tYAR042W\t0\t+\t0\r\n",
      "chrII\t306681\t307593\tchrII\t306954\t306955\tYBR035C\t0\t-\t0\r\n",
      "chrII\t623263\t623436\tchrII\t623575\t623576\tYBR201W\t0\t+\t140\r\n",
      "chrIII\t90707\t91411\tchrIII\t91323\t91324\tYCL018W\t0\t+\t0\r\n",
      "chrIV\t47634\t48030\tchrIV\t48030\t48031\tYDL227C\t0\t-\t1\r\n",
      "chrIV\t73358\t73585\tchrIV\t73917\t73918\tYDL215C\t0\t-\t333\r\n",
      "chrIV\t124897\t125699\tchrIV\t125615\t125616\tYDL186W\t0\t+\t0\r\n",
      "chrIV\t524555\t525548\tchrIV\t525439\t525440\tYDR037W\t0\t+\t0\r\n"
     ]
    }
   ],
   "source": [
    "head Media_SCD_vs_SCE.differential.togene.txt"
   ]
  },
  {
   "cell_type": "code",
   "execution_count": 17,
   "metadata": {
    "collapsed": false
   },
   "outputs": [
    {
     "name": "stdout",
     "output_type": "stream",
     "text": [
      "chrI\t0\t781\tchrI\t537\t538\tYAL068W-A\t0\t+\t0\r\n",
      "chrI\t6332\t6549\tchrI\t9015\t9016\tYAL067C\t0\t-\t2467\r\n",
      "chrI\t9138\t9609\tchrI\t9015\t9016\tYAL067C\t0\t-\t-123\r\n",
      "chrI\t20611\t21197\tchrI\t21565\t21566\tYAL064W\t0\t+\t369\r\n",
      "chrI\t28155\t29092\tchrI\t27967\t27968\tYAL063C\t0\t-\t-188\r\n",
      "chrI\t29173\t30197\tchrI\t27967\t27968\tYAL063C\t0\t-\t-1206\r\n",
      "chrI\t31527\t31972\tchrI\t31566\t31567\tYAL062W\t0\t+\t0\r\n",
      "chrI\t32456\t36256\tchrI\t35154\t35155\tYAL060W\t0\t+\t0\r\n",
      "chrI\t39017\t39243\tchrI\t39045\t39046\tYAL056C-A\t0\t-\t0\r\n",
      "chrI\t42035\t42993\tchrI\t42176\t42177\tYAL055W\t0\t+\t0\r\n"
     ]
    }
   ],
   "source": [
    "head Media_SCD_vs_SCE.togene.txt"
   ]
  },
  {
   "cell_type": "code",
   "execution_count": 18,
   "metadata": {
    "collapsed": false
   },
   "outputs": [
    {
     "name": "stdout",
     "output_type": "stream",
     "text": []
    }
   ],
   "source": [
    "#As before, we want a list of genes to use in GO Term enrichment, so we extract column 7, which contains the gene names\n",
    "cut -f7 Media_SCD_vs_SCE.differential.togene.txt > Media.foreground.txt\n",
    "cut -f7 Media_SCD_vs_SCE.togene.txt > Media.background.txt "
   ]
  },
  {
   "cell_type": "code",
   "execution_count": 19,
   "metadata": {
    "collapsed": false
   },
   "outputs": [
    {
     "name": "stdout",
     "output_type": "stream",
     "text": []
    }
   ],
   "source": [
    "#Add symbolic links to the gene lists in the folder where this notebook is stored.\n",
    "ln -s $WORK_DIR/*foreground* ~/training_camp/workflow_notebooks\n",
    "ln -s $WORK_DIR/*background* ~/training_camp/workflow_notebooks\n"
   ]
  },
  {
   "cell_type": "markdown",
   "metadata": {},
   "source": [
    "\n",
    "Now use the saccharomyces Genome Databases (SGD’s) GO Term finder tools (http://www.yeastgenome.org/cgi-bin/GO/goTermFinder.pl) to check for GO Term enrichment. Upload your differential gene list as the foreground set and the full gene list as the background set. "
   ]
  },
  {
   "cell_type": "code",
   "execution_count": null,
   "metadata": {
    "collapsed": true
   },
   "outputs": [],
   "source": []
  }
 ],
 "metadata": {
  "kernelspec": {
   "display_name": "Bash",
   "language": "bash",
   "name": "bash"
  },
  "language_info": {
   "codemirror_mode": "shell",
   "file_extension": ".sh",
   "mimetype": "text/x-sh",
   "name": "bash"
  }
 },
 "nbformat": 4,
 "nbformat_minor": 0
}
