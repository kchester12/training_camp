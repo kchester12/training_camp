{
 "cells": [
  {
   "cell_type": "markdown",
   "metadata": {},
   "source": [
    "# 3.3 Finding enriched GO Terms in the dataset with GORilla"
   ]
  },
  {
   "cell_type": "markdown",
   "metadata": {},
   "source": [
    "### IMPORTANT: Please make sure that you are using the bash kernel to run this notebook. ###\n"
   ]
  },
  {
   "cell_type": "code",
   "execution_count": 1,
   "metadata": {
    "collapsed": false
   },
   "outputs": [
    {
     "name": "stdout",
     "output_type": "stream",
     "text": []
    }
   ],
   "source": [
    "### Set up variables storing the location of our data\n",
    "### The proper way to load your variables is with the ~/.bashrc command, but this is very slow in iPython \n",
    "export SUNETID=\"$(whoami)\"\n",
    "export WORK_DIR=\"/srv/scratch/training_camp/work/${SUNETID}\"\n",
    "export DATA_DIR=\"${WORK_DIR}/data\"\n",
    "[[ ! -d ${WORK_DIR}/data ]] && mkdir \"${WORK_DIR}/data\"\n",
    "export SRC_DIR=\"${WORK_DIR}/src\"\n",
    "[[ ! -d ${WORK_DIR}/src ]] && mkdir -p \"${WORK_DIR}/src\"\n",
    "export METADATA_DIR=\"/srv/scratch/training_camp/metadata\"\n",
    "export AGGREGATE_DATA_DIR=\"/srv/scratch/training_camp/data\"\n",
    "export AGGREGATE_ANALYSIS_DIR=\"/srv/scratch/training_camp/aggregate_analysis\"\n",
    "export YEAST_DIR=\"/srv/scratch/training_camp/saccer3\"\n",
    "export TMP=\"${WORK_DIR}/tmp\"\n",
    "export TEMP=$TMP\n",
    "export TMPDIR=$TMP\n",
    "[[ ! -d ${TMP} ]] && mkdir -p \"${TMP}\"\n",
    "\n"
   ]
  },
  {
   "cell_type": "code",
   "execution_count": 2,
   "metadata": {
    "collapsed": false
   },
   "outputs": [
    {
     "name": "stdout",
     "output_type": "stream",
     "text": []
    }
   ],
   "source": [
    "cd $WORK_DIR"
   ]
  },
  {
   "cell_type": "code",
   "execution_count": 3,
   "metadata": {
    "collapsed": false
   },
   "outputs": [
    {
     "name": "stdout",
     "output_type": "stream",
     "text": [
      "all.fc.bigwig\t      all.tagAlign.files.txt   pc3_contribs.txt\r\n",
      "all.fc.txt\t      data\t\t       pgoddard_rtt109_YPD_1_out\r\n",
      "all_merged.peaks.bed  hrosenbl_asf1_YPD_1_out  src\r\n",
      "all.peaks.bed\t      narrowPeak_files.txt     tmp\r\n",
      "all.peaks.sorted.bed  pc1_contribs.txt\t       WT-SCD-0_6MNaCl-Rep1_out\r\n",
      "all.readcount.txt     pc2_contribs.txt\t       WT-SCD-0_6MNaCl-Rep2_out\r\n"
     ]
    }
   ],
   "source": [
    "ls"
   ]
  },
  {
   "cell_type": "markdown",
   "metadata": {
    "collapsed": false
   },
   "source": [
    "In the previous tutorial (3.1) we calculated the contribution of each peak in the dataset to principal components 1, 2, and 3.\n",
    "\n",
    "Now, we sort the pc_contribs\\*.txt files. \n",
    "\n",
    "Then, we map the peaks to their nearest genes. \n",
    " \n",
    "Finally, we use the resulting ranked list with software such as GOrilla, which accept a ranked list of genes and outputs GO terms that are overrepresented in the data: (http://cbl-gorilla.cs.technion.ac.il/)\n",
    "\n"
   ]
  },
  {
   "cell_type": "code",
   "execution_count": 4,
   "metadata": {
    "collapsed": false
   },
   "outputs": [
    {
     "name": "stdout",
     "output_type": "stream",
     "text": [
      "chrIV\t434072\t434393\t-0.0616686185905887\r\n",
      "chrII\t443796\t445325\t-0.0588197973192415\r\n",
      "chrXVI\t125756\t125981\t-0.0577292944721955\r\n",
      "chrVII\t110196\t110840\t-0.0566929315383855\r\n",
      "chrIV\t946172\t946834\t-0.0557534137561471\r\n",
      "chrXIII\t480480\t480670\t-0.0543690085795371\r\n",
      "chrIV\t1165638\t1165873\t-0.0533390655801499\r\n",
      "chrVII\t828251\t828932\t-0.0532967343341985\r\n",
      "chrXIV\t102595\t103081\t-0.0508382428149161\r\n",
      "chrV\t61653\t62071\t-0.0507213730808103\r\n"
     ]
    }
   ],
   "source": [
    "head pc1_contribs.txt"
   ]
  },
  {
   "cell_type": "code",
   "execution_count": 8,
   "metadata": {
    "collapsed": false
   },
   "outputs": [
    {
     "name": "stdout",
     "output_type": "stream",
     "text": []
    }
   ],
   "source": [
    "#sort the peak_contris files by the fourth column, which contains the contribution to the PC. \n",
    "sort -g -k4,4 pc1_contribs.txt > pc1_contribs.ascending.txt\n",
    "\n",
    "#get the descending peak list by sorting in reverse \n",
    "sort -gr -k4,4 pc1_contribs.txt > pc1_contribs.descending.txt\n"
   ]
  },
  {
   "cell_type": "code",
   "execution_count": 9,
   "metadata": {
    "collapsed": false
   },
   "outputs": [
    {
     "name": "stdout",
     "output_type": "stream",
     "text": [
      "chrIV\t434072\t434393\t-0.0616686185905887\r\n",
      "chrII\t443796\t445325\t-0.0588197973192415\r\n",
      "chrXVI\t125756\t125981\t-0.0577292944721955\r\n",
      "chrVII\t110196\t110840\t-0.0566929315383855\r\n",
      "chrIV\t946172\t946834\t-0.0557534137561471\r\n",
      "chrXIII\t480480\t480670\t-0.0543690085795371\r\n",
      "chrIV\t1165638\t1165873\t-0.0533390655801499\r\n",
      "chrVII\t828251\t828932\t-0.0532967343341985\r\n",
      "chrXIV\t102595\t103081\t-0.0508382428149161\r\n",
      "chrV\t61653\t62071\t-0.0507213730808103\r\n"
     ]
    }
   ],
   "source": [
    "head pc1_contribs.ascending.txt"
   ]
  },
  {
   "cell_type": "code",
   "execution_count": null,
   "metadata": {
    "collapsed": false
   },
   "outputs": [],
   "source": [
    "head pc1_contribs.descending.txt"
   ]
  },
  {
   "cell_type": "markdown",
   "metadata": {},
   "source": [
    "To map peaks to their nearest gene, we need to know the SacCer3 gene coordinates. The gene coordinates are indicated in the file **$YEAST_DIR/yeast_tss_coords.bed**"
   ]
  },
  {
   "cell_type": "code",
   "execution_count": 10,
   "metadata": {
    "collapsed": false
   },
   "outputs": [
    {
     "name": "stdout",
     "output_type": "stream",
     "text": [
      "chrI\t130798\t130799\tYAL012W\t0\t+\r\n",
      "chrI\t334\t335\tYAL069W\t0\t+\r\n",
      "chrI\t537\t538\tYAL068W-A\t0\t+\r\n",
      "chrI\t2168\t2169\tYAL068C\t0\t-\r\n",
      "chrI\t2479\t2480\tYAL067W-A\t0\t+\r\n",
      "chrI\t9015\t9016\tYAL067C\t0\t-\r\n",
      "chrI\t10090\t10091\tYAL066W\t0\t+\r\n",
      "chrI\t11950\t11951\tYAL065C\t0\t-\r\n",
      "chrI\t12045\t12046\tYAL064W-B\t0\t+\r\n",
      "chrI\t13742\t13743\tYAL064C-A\t0\t-\r\n"
     ]
    }
   ],
   "source": [
    "head $YEAST_DIR/yeast_tss_coords.bed"
   ]
  },
  {
   "cell_type": "code",
   "execution_count": 11,
   "metadata": {
    "collapsed": false
   },
   "outputs": [
    {
     "name": "stdout",
     "output_type": "stream",
     "text": [
      "\r\n",
      "Tool:    bedtools closest (aka closestBed)\r\n",
      "Version: v2.17.0\r\n",
      "Summary: For each feature in A, finds the closest \r\n",
      "\t feature (upstream or downstream) in B.\r\n",
      "\r\n",
      "Usage:   bedtools closest [OPTIONS] -a <bed/gff/vcf> -b <bed/gff/vcf>\r\n",
      "\r\n",
      "Options: \r\n",
      "\t-s\tReq. same strandedness.  That is, find the closest feature in\r\n",
      "\t\tB that overlaps A on the _same_ strand.\r\n",
      "\t\t- By default, overlaps are reported without respect to strand.\r\n",
      "\r\n",
      "\t-S\tReq. opposite strandedness.  That is, find the closest feature\r\n",
      "\t\tin B that overlaps A on the _opposite_ strand.\r\n",
      "\t\t- By default, overlaps are reported without respect to strand.\r\n",
      "\r\n",
      "\t-d\tIn addition to the closest feature in B, \r\n",
      "\t\treport its distance to A as an extra column.\r\n",
      "\t\t- The reported distance for overlapping features will be 0.\r\n",
      "\r\n",
      "\t-D\tLike -d, report the closest feature in B, and its distance to A\r\n",
      "\t\tas an extra column. Unlike -d, use negative distances to report\r\n",
      "\t\tupstream features.\r\n",
      "\t\tThe options for defining which orientation is \"upstream\" are:\r\n",
      "\t\t- \"ref\"   Report distance with respect to the reference genome. \r\n",
      "\t\t            B features with a lower (start, stop) are upstream\r\n",
      "\t\t- \"a\"     Report distance with respect to A.\r\n",
      "\t\t            When A is on the - strand, \"upstream\" means B has a\r\n",
      "\t\t            higher (start,stop).\r\n",
      "\t\t- \"b\"     Report distance with respect to B.\r\n",
      "\t\t            When B is on the - strand, \"upstream\" means A has a\r\n",
      "\t\t            higher (start,stop).\r\n",
      "\r\n",
      "\t-io\tIgnore features in B that overlap A.  That is, we want close,\r\n",
      "\t\tyet not touching features only.\r\n",
      "\r\n",
      "\t-iu\tIgnore features in B that are upstream of features in A.\r\n",
      "\t\tThis option requires -D and follows its orientation\r\n",
      "\t\trules for determining what is \"upstream\".\r\n",
      "\t-id\tIgnore features in B that are downstream of features in A.\r\n",
      "\t\tThis option requires -D and follows its orientation\r\n",
      "\t\trules for determining what is \"downstream\".\r\n",
      "\t-t\tHow ties for closest feature are handled.  This occurs when two\r\n",
      "\t\tfeatures in B have exactly the same \"closeness\" with A.\r\n",
      "\t\tBy default, all such features in B are reported.\r\n",
      "\t\tHere are all the options:\r\n",
      "\t\t- \"all\"    Report all ties (default).\r\n",
      "\t\t- \"first\"  Report the first tie that occurred in the B file.\r\n",
      "\t\t- \"last\"   Report the last tie that occurred in the B file.\r\n",
      "\r\n",
      "\t-N\tRequire that the query and the closest hit have different names.\r\n",
      "\t\tFor BED, the 4th column is compared.\r\n",
      "\r\n",
      "\t-header\tPrint the header from the A file prior to results.\r\n",
      "\r\n",
      "Notes: \r\n",
      "\tReports \"none\" for chrom and \"-1\" for all other fields when a feature\r\n",
      "\tis not found in B on the same chromosome as the feature in A.\r\n",
      "\tE.g. none\t-1\t-1\r\n",
      "\r\n"
     ]
    }
   ],
   "source": [
    "bedtools closest"
   ]
  },
  {
   "cell_type": "code",
   "execution_count": 12,
   "metadata": {
    "collapsed": false
   },
   "outputs": [
    {
     "name": "stdout",
     "output_type": "stream",
     "text": []
    }
   ],
   "source": [
    "cd $WORK_DIR\n",
    "#We map the sorted peaks to their nearest genes. \n",
    "bedtools closest -D a -a pc1_contribs.ascending.txt -b $YEAST_DIR/yeast_tss_coords.bed > pc1_contribs.ascending.togene.txt\n",
    "bedtools closest -D a -a pc1_contribs.descending.txt -b $YEAST_DIR/yeast_tss_coords.bed > pc1_contribs.descending.togene.txt"
   ]
  },
  {
   "cell_type": "code",
   "execution_count": 13,
   "metadata": {
    "collapsed": false,
    "scrolled": true
   },
   "outputs": [
    {
     "name": "stdout",
     "output_type": "stream",
     "text": [
      "chrIV\t434072\t434393\t-0.0616686185905887\tchrIV\t433496\t433497\tYDL008W\t0\t+\t-576\r\n",
      "chrII\t443796\t445325\t-0.0588197973192415\tchrII\t444692\t444693\tYBR101C\t0\t-\t0\r\n",
      "chrXVI\t125756\t125981\t-0.0577292944721955\tchrXVI\t126005\t126006\tYPL225W\t0\t+\t25\r\n",
      "chrVII\t110196\t110840\t-0.0566929315383855\tchrVII\t112004\t112005\tYGL204C\t0\t-\t1165\r\n",
      "chrIV\t946172\t946834\t-0.0557534137561471\tchrIV\t946806\t946807\tYDR242W\t0\t+\t0\r\n",
      "chrXIII\t480480\t480670\t-0.0543690085795371\tchrXIII\t480189\t480190\tYMR106C\t0\t-\t-291\r\n",
      "chrIV\t1165638\t1165873\t-0.0533390655801499\tchrIV\t1164659\t1164660\tYDR345C\t0\t-\t-979\r\n",
      "chrVII\t828251\t828932\t-0.0532967343341985\tchrVII\t828624\t828625\tYGR164W\t0\t+\t0\r\n",
      "chrXIV\t102595\t103081\t-0.0508382428149161\tchrXIV\t102231\t102232\tYNL284C-B\t0\t-\t-364\r\n",
      "chrXIV\t102595\t103081\t-0.0508382428149161\tchrXIV\t102231\t102232\tYNL284C-A\t0\t-\t-364\r\n"
     ]
    }
   ],
   "source": [
    "head pc1_contribs.ascending.togene.txt"
   ]
  },
  {
   "cell_type": "code",
   "execution_count": 14,
   "metadata": {
    "collapsed": false
   },
   "outputs": [
    {
     "name": "stdout",
     "output_type": "stream",
     "text": [
      "chrXIII\t458005\t458409\t0.0722876214884511\tchrXIII\t458407\t458408\tYMR096W\t0\t+\t0\r\n",
      "chrVI\t19579\t20032\t0.0703114703344558\tchrVI\t17003\t17004\tYFL055W\t0\t+\t-2576\r\n",
      "chrXV\t1058531\t1059974\t0.0683952492488027\tchrXV\t1059530\t1059531\tYOR382W\t0\t+\t0\r\n",
      "chrX\t265103\t265858\t0.0634861880255522\tchrX\t265050\t265051\tYJL090C\t0\t-\t-53\r\n",
      "chrVII\t1066859\t1067088\t0.0619424875138834\tchrVII\t1068990\t1068991\tYGR287C\t0\t-\t1903\r\n",
      "chrX\t278556\t279386\t0.0615391834653188\tchrX\t278840\t278841\tYJL083W\t0\t+\t0\r\n",
      "chrVIII\t379297\t380235\t0.0600915029232951\tchrVIII\t379198\t379199\tYHR139C\t0\t-\t-99\r\n",
      "chrXV\t164309\t165752\t0.0596787268589957\tchrXV\t165713\t165714\tYOL083W\t0\t+\t0\r\n",
      "chrIX\t426903\t427901\t0.0596772234690976\tchrIX\t424512\t424513\tYIR038C\t0\t-\t-2391\r\n",
      "chrXII\t747273\t747828\t0.0596709512130742\tchrXII\t747936\t747937\tYLR308W\t0\t+\t109\r\n"
     ]
    }
   ],
   "source": [
    "head pc1_contribs.descending.togene.txt"
   ]
  },
  {
   "cell_type": "markdown",
   "metadata": {},
   "source": [
    "The GOrilla software expects a ranked list of genes, so we use the cut command to extract just the gene name column \n",
    "from the files. "
   ]
  },
  {
   "cell_type": "code",
   "execution_count": 15,
   "metadata": {
    "collapsed": false
   },
   "outputs": [
    {
     "name": "stdout",
     "output_type": "stream",
     "text": [
      "YDL008W\r\n",
      "YBR101C\r\n",
      "YPL225W\r\n",
      "YGL204C\r\n",
      "YDR242W\r\n",
      "YMR106C\r\n",
      "YDR345C\r\n",
      "YGR164W\r\n",
      "YNL284C-B\r\n",
      "YNL284C-A\r\n"
     ]
    }
   ],
   "source": [
    "cut -f8 pc1_contribs.ascending.togene.txt > pc1_contribs.ascending.geneonly.txt\n",
    "cut -f8 pc1_contribs.descending.togene.txt > pc1_contribs.descending.geneonly.txt\n",
    "head pc1_contribs.ascending.geneonly.txt"
   ]
  },
  {
   "cell_type": "code",
   "execution_count": 16,
   "metadata": {
    "collapsed": false
   },
   "outputs": [
    {
     "name": "stdout",
     "output_type": "stream",
     "text": []
    }
   ],
   "source": [
    "#we create a symbolic link to the sorted genes files so you can load them directly into GORilla.\n",
    "\n",
    "ln -s $WORK_DIR/pc1_contribs.ascending.geneonly.txt ~/training_camp/workflow_notebooks\n",
    "ln -s $WORK_DIR/pc1_contribs.descending.geneonly.txt ~/training_camp/workflow_notebooks"
   ]
  },
  {
   "cell_type": "code",
   "execution_count": 17,
   "metadata": {
    "collapsed": false
   },
   "outputs": [
    {
     "name": "stdout",
     "output_type": "stream",
     "text": [
      "0.0 Introduction to Jupyter notebooks.ipynb\r\n",
      "1.0 Big Ideas.ipynb\r\n",
      "1.1 Unix Basics.ipynb\r\n",
      "1.2 Getting ready to run code on the cluster.ipynb\r\n",
      "2.0 The metadata file and analysis overview.ipynb\r\n",
      "2.1_Sequencing_Data_Analysis.ipynb\r\n",
      "3.1 Clustering analysis and PCA on fold change data .ipynb\r\n",
      "3.2 Clustering analysis and PCA on count data.ipynb\r\n",
      "3.4 Calling differentially expressed peaks with DESeq2 and limma .ipynb\r\n",
      "3.4 Finding enriched GO Terms  with  GORilla.ipynb\r\n",
      "3.5 GO Term enrichment for differentially accessible chromatin regions.ipynb\r\n",
      "3.6 Finding TF motifs.ipynb\r\n",
      "4.0 Introduction to shell scripts.ipynb\r\n",
      "4.1 Introduction to SCG and Sherlock compute clusters.ipynb\r\n",
      "4.2 Install Missing R packages.ipynb\r\n",
      "atac.bds.20180911_232450_810.dag.js\r\n",
      "atac.bds.20180911_232450_810.report.html\r\n",
      "atac.bds.20180911_232452_967.dag.js\r\n",
      "atac.bds.20180911_232452_967.report.html\r\n",
      "hrosenbl_asf1_YPD_1_out\r\n",
      "images\r\n",
      "pc1_contribs.ascending.geneonly.txt\r\n",
      "pc1_contribs.descending.geneonly.txt\r\n",
      "pgoddard_rtt109_YPD_1_out\r\n",
      "qc_analysis\r\n"
     ]
    }
   ],
   "source": [
    "ls ~/training_camp/workflow_notebooks"
   ]
  },
  {
   "cell_type": "markdown",
   "metadata": {},
   "source": [
    "Exercise: copy & paste the lists of genes into GOrilla (http://cbl-gorilla.cs.technion.ac.il/) to discover over-represented GO terms."
   ]
  },
  {
   "cell_type": "markdown",
   "metadata": {
    "collapsed": true
   },
   "source": [
    "Exercis: Repeat the above analysis for genes contributing to PC2 and PC3. "
   ]
  }
 ],
 "metadata": {
  "kernelspec": {
   "display_name": "Bash",
   "language": "bash",
   "name": "bash"
  },
  "language_info": {
   "codemirror_mode": "shell",
   "file_extension": ".sh",
   "mimetype": "text/x-sh",
   "name": "bash"
  }
 },
 "nbformat": 4,
 "nbformat_minor": 0
}
