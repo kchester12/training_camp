{
 "cells": [
  {
   "cell_type": "markdown",
   "metadata": {},
   "source": [
    "# Clustering analysis and PCA #"
   ]
  },
  {
   "cell_type": "markdown",
   "metadata": {},
   "source": [
    "### IMPORTANT: Please make sure that you are using the R kernel to run this notebook.###\n",
    "We are now switching from the bash kernel to the R kernel. \n",
    "The R language provides a number of utilities for genomic data analysis and visualization. We will explore some of these. "
   ]
  },
  {
   "cell_type": "code",
   "execution_count": 55,
   "metadata": {
    "collapsed": false
   },
   "outputs": [],
   "source": [
    "library(\"preprocessCore\")"
   ]
  },
  {
   "cell_type": "code",
   "execution_count": 56,
   "metadata": {
    "collapsed": false
   },
   "outputs": [
    {
     "data": {
      "text/html": [
       "<ol class=list-inline>\n",
       "\t<li>'all_merged.peaks.bed'</li>\n",
       "\t<li>'all_merged.peaks.bed~'</li>\n",
       "\t<li>'all.fc.bigwig'</li>\n",
       "\t<li>'all.fc.txt'</li>\n",
       "\t<li>'all.peaks.bed'</li>\n",
       "\t<li>'all.peaks.sorted.bed'</li>\n",
       "\t<li>'all.pval.bigwig'</li>\n",
       "\t<li>'all.pval.txt'</li>\n",
       "\t<li>'data'</li>\n",
       "\t<li>'narrowPeak_files.txt'</li>\n",
       "\t<li>'src'</li>\n",
       "\t<li>'tmp'</li>\n",
       "\t<li>'WT-SCD-Rep1_out'</li>\n",
       "\t<li>'WT-SCD-Rep2_out'</li>\n",
       "</ol>\n"
      ],
      "text/latex": [
       "\\begin{enumerate*}\n",
       "\\item 'all\\_merged.peaks.bed'\n",
       "\\item 'all\\_merged.peaks.bed\\textasciitilde{}'\n",
       "\\item 'all.fc.bigwig'\n",
       "\\item 'all.fc.txt'\n",
       "\\item 'all.peaks.bed'\n",
       "\\item 'all.peaks.sorted.bed'\n",
       "\\item 'all.pval.bigwig'\n",
       "\\item 'all.pval.txt'\n",
       "\\item 'data'\n",
       "\\item 'narrowPeak\\_files.txt'\n",
       "\\item 'src'\n",
       "\\item 'tmp'\n",
       "\\item 'WT-SCD-Rep1\\_out'\n",
       "\\item 'WT-SCD-Rep2\\_out'\n",
       "\\end{enumerate*}\n"
      ],
      "text/markdown": [
       "1. 'all_merged.peaks.bed'\n",
       "2. 'all_merged.peaks.bed~'\n",
       "3. 'all.fc.bigwig'\n",
       "4. 'all.fc.txt'\n",
       "5. 'all.peaks.bed'\n",
       "6. 'all.peaks.sorted.bed'\n",
       "7. 'all.pval.bigwig'\n",
       "8. 'all.pval.txt'\n",
       "9. 'data'\n",
       "10. 'narrowPeak_files.txt'\n",
       "11. 'src'\n",
       "12. 'tmp'\n",
       "13. 'WT-SCD-Rep1_out'\n",
       "14. 'WT-SCD-Rep2_out'\n",
       "\n",
       "\n"
      ],
      "text/plain": [
       " [1] \"all_merged.peaks.bed\"  \"all_merged.peaks.bed~\" \"all.fc.bigwig\"        \n",
       " [4] \"all.fc.txt\"            \"all.peaks.bed\"         \"all.peaks.sorted.bed\" \n",
       " [7] \"all.pval.bigwig\"       \"all.pval.txt\"          \"data\"                 \n",
       "[10] \"narrowPeak_files.txt\"  \"src\"                   \"tmp\"                  \n",
       "[13] \"WT-SCD-Rep1_out\"       \"WT-SCD-Rep2_out\"      "
      ]
     },
     "metadata": {},
     "output_type": "display_data"
    }
   ],
   "source": [
    "sunetid=\"ubuntu\"\n",
    "setwd(paste(\"/srv/scratch/training_camp/work/\",sunetid,sep=\"\"))\n",
    "dir()"
   ]
  },
  {
   "cell_type": "code",
   "execution_count": 61,
   "metadata": {
    "collapsed": false
   },
   "outputs": [
    {
     "data": {
      "text/html": [
       "<table>\n",
       "<thead><tr><th scope=col>WT.SCD.Rep1_R1_001</th><th scope=col>WT.SCD.Rep2_R1_001</th></tr></thead>\n",
       "<tbody>\n",
       "\t<tr><td>2.898790</td><td> 8.19296</td></tr>\n",
       "\t<tr><td>0.553166</td><td> 4.91670</td></tr>\n",
       "\t<tr><td>4.613150</td><td>18.20770</td></tr>\n",
       "\t<tr><td>2.087980</td><td>22.77610</td></tr>\n",
       "\t<tr><td>2.065930</td><td>13.58310</td></tr>\n",
       "\t<tr><td>3.067050</td><td>12.13700</td></tr>\n",
       "</tbody>\n",
       "</table>\n"
      ],
      "text/latex": [
       "\\begin{tabular}{r|ll}\n",
       " WT.SCD.Rep1\\_R1\\_001 & WT.SCD.Rep2\\_R1\\_001\\\\\n",
       "\\hline\n",
       "\t 2.898790 &  8.19296\\\\\n",
       "\t 0.553166 &  4.91670\\\\\n",
       "\t 4.613150 & 18.20770\\\\\n",
       "\t 2.087980 & 22.77610\\\\\n",
       "\t 2.065930 & 13.58310\\\\\n",
       "\t 3.067050 & 12.13700\\\\\n",
       "\\end{tabular}\n"
      ],
      "text/markdown": [
       "\n",
       "WT.SCD.Rep1_R1_001 | WT.SCD.Rep2_R1_001 | \n",
       "|---|---|---|---|---|---|\n",
       "| 2.898790 |  8.19296 | \n",
       "| 0.553166 |  4.91670 | \n",
       "| 4.613150 | 18.20770 | \n",
       "| 2.087980 | 22.77610 | \n",
       "| 2.065930 | 13.58310 | \n",
       "| 3.067050 | 12.13700 | \n",
       "\n",
       "\n"
      ],
      "text/plain": [
       "  WT.SCD.Rep1_R1_001 WT.SCD.Rep2_R1_001\n",
       "1 2.898790            8.19296          \n",
       "2 0.553166            4.91670          \n",
       "3 4.613150           18.20770          \n",
       "4 2.087980           22.77610          \n",
       "5 2.065930           13.58310          \n",
       "6 3.067050           12.13700          "
      ]
     },
     "metadata": {},
     "output_type": "display_data"
    }
   ],
   "source": [
    "#load the pval signal matrix \n",
    "\n",
    "pval_data=read.table(\"all.pval.txt\",header=TRUE)\n",
    "#remove the columns we will not use \n",
    "pval_data$Chrom=NULL\n",
    "pval_data$Start=NULL\n",
    "pval_data$End=NULL\n",
    "rownames(pval_data)=pval_data$ID\n",
    "pval_data$ID=NULL\n",
    "head(pval_data)\n"
   ]
  },
  {
   "cell_type": "code",
   "execution_count": 62,
   "metadata": {
    "collapsed": false
   },
   "outputs": [
    {
     "data": {
      "text/html": [
       "<table>\n",
       "<thead><tr><th scope=col>WT.SCD.Rep1_R1_001</th><th scope=col>WT.SCD.Rep2_R1_001</th></tr></thead>\n",
       "<tbody>\n",
       "\t<tr><td>2.39082</td><td>2.04151</td></tr>\n",
       "\t<tr><td>1.13347</td><td>1.73337</td></tr>\n",
       "\t<tr><td>2.93900</td><td>2.66924</td></tr>\n",
       "\t<tr><td>1.95022</td><td>2.79871</td></tr>\n",
       "\t<tr><td>1.85043</td><td>2.10170</td></tr>\n",
       "\t<tr><td>2.17361</td><td>2.18958</td></tr>\n",
       "</tbody>\n",
       "</table>\n"
      ],
      "text/latex": [
       "\\begin{tabular}{r|ll}\n",
       " WT.SCD.Rep1\\_R1\\_001 & WT.SCD.Rep2\\_R1\\_001\\\\\n",
       "\\hline\n",
       "\t 2.39082 & 2.04151\\\\\n",
       "\t 1.13347 & 1.73337\\\\\n",
       "\t 2.93900 & 2.66924\\\\\n",
       "\t 1.95022 & 2.79871\\\\\n",
       "\t 1.85043 & 2.10170\\\\\n",
       "\t 2.17361 & 2.18958\\\\\n",
       "\\end{tabular}\n"
      ],
      "text/markdown": [
       "\n",
       "WT.SCD.Rep1_R1_001 | WT.SCD.Rep2_R1_001 | \n",
       "|---|---|---|---|---|---|\n",
       "| 2.39082 | 2.04151 | \n",
       "| 1.13347 | 1.73337 | \n",
       "| 2.93900 | 2.66924 | \n",
       "| 1.95022 | 2.79871 | \n",
       "| 1.85043 | 2.10170 | \n",
       "| 2.17361 | 2.18958 | \n",
       "\n",
       "\n"
      ],
      "text/plain": [
       "  WT.SCD.Rep1_R1_001 WT.SCD.Rep2_R1_001\n",
       "1 2.39082            2.04151           \n",
       "2 1.13347            1.73337           \n",
       "3 2.93900            2.66924           \n",
       "4 1.95022            2.79871           \n",
       "5 1.85043            2.10170           \n",
       "6 2.17361            2.18958           "
      ]
     },
     "metadata": {},
     "output_type": "display_data"
    }
   ],
   "source": [
    "#load the fc signal matrix\n",
    "fc_data=read.table(\"all.fc.txt\",header=TRUE)\n",
    "#remove the columns we will not use \n",
    "fc_data$Chrom=NULL\n",
    "fc_data$Start=NULL\n",
    "fc_data$End=NULL\n",
    "rownames(fc_data)=fc_data$ID\n",
    "fc_data$ID=NULL\n",
    "head(fc_data)\n"
   ]
  },
  {
   "cell_type": "code",
   "execution_count": 63,
   "metadata": {
    "collapsed": false
   },
   "outputs": [],
   "source": [
    "#normalize the data \n",
    "#quantile normalization \n",
    "pval_data_matrix=normalize.quantiles(data.matrix(asinh(pval_data)))\n",
    "fc_data_matrix=normalize.quantiles(data.matrix(asinh(fc_data)))"
   ]
  },
  {
   "cell_type": "code",
   "execution_count": 68,
   "metadata": {
    "collapsed": false
   },
   "outputs": [],
   "source": [
    "colnames(pval_data_matrix)=names(pval_data)\n",
    "colnames(fc_data_matrix)=names(fc_data)"
   ]
  },
  {
   "cell_type": "code",
   "execution_count": 69,
   "metadata": {
    "collapsed": false
   },
   "outputs": [
    {
     "data": {
      "text/html": [
       "<table>\n",
       "<thead><tr><th scope=col>WT.SCD.Rep1_R1_001</th><th scope=col>WT.SCD.Rep2_R1_001</th></tr></thead>\n",
       "<tbody>\n",
       "\t<tr><td>2.501635</td><td>2.042671</td></tr>\n",
       "\t<tr><td>1.310581</td><td>1.481230</td></tr>\n",
       "\t<tr><td>2.923203</td><td>2.906645</td></tr>\n",
       "\t<tr><td>2.216120</td><td>3.117839</td></tr>\n",
       "\t<tr><td>2.209171</td><td>2.588126</td></tr>\n",
       "\t<tr><td>2.555396</td><td>2.477220</td></tr>\n",
       "</tbody>\n",
       "</table>\n"
      ],
      "text/latex": [
       "\\begin{tabular}{ll}\n",
       " WT.SCD.Rep1\\_R1\\_001 & WT.SCD.Rep2\\_R1\\_001\\\\\n",
       "\\hline\n",
       "\t 2.501635 & 2.042671\\\\\n",
       "\t 1.310581 & 1.481230\\\\\n",
       "\t 2.923203 & 2.906645\\\\\n",
       "\t 2.216120 & 3.117839\\\\\n",
       "\t 2.209171 & 2.588126\\\\\n",
       "\t 2.555396 & 2.477220\\\\\n",
       "\\end{tabular}\n"
      ],
      "text/markdown": [
       "\n",
       "WT.SCD.Rep1_R1_001 | WT.SCD.Rep2_R1_001 | \n",
       "|---|---|---|---|---|---|\n",
       "| 2.501635 | 2.042671 | \n",
       "| 1.310581 | 1.481230 | \n",
       "| 2.923203 | 2.906645 | \n",
       "| 2.216120 | 3.117839 | \n",
       "| 2.209171 | 2.588126 | \n",
       "| 2.555396 | 2.477220 | \n",
       "\n",
       "\n"
      ],
      "text/plain": [
       "     WT.SCD.Rep1_R1_001 WT.SCD.Rep2_R1_001\n",
       "[1,] 2.501635           2.042671          \n",
       "[2,] 1.310581           1.481230          \n",
       "[3,] 2.923203           2.906645          \n",
       "[4,] 2.216120           3.117839          \n",
       "[5,] 2.209171           2.588126          \n",
       "[6,] 2.555396           2.477220          "
      ]
     },
     "metadata": {},
     "output_type": "display_data"
    }
   ],
   "source": [
    "head(pval_data_matrix)"
   ]
  },
  {
   "cell_type": "markdown",
   "metadata": {},
   "source": [
    "In this tutorial we will focus on the clustering and PCA analysis steps of the pipeline: \n",
    "![Analysis pipeline](images/part3.png)"
   ]
  },
  {
   "cell_type": "markdown",
   "metadata": {},
   "source": [
    "## Missing R packages##"
   ]
  },
  {
   "cell_type": "markdown",
   "metadata": {},
   "source": [
    "When running the scripts in this section, if you get an error saying the gplots package has not been installed, you can install the package locally by  running the **3.5 Install R packages** notebook."
   ]
  },
  {
   "cell_type": "markdown",
   "metadata": {},
   "source": [
    "## Hierarchical Clustering of Peak Signal Across Samples ##"
   ]
  },
  {
   "cell_type": "markdown",
   "metadata": {},
   "source": [
    "Cluster analysis is a simple way to visualize patterns in the data. By clustering peaks according to their signal across different time points, we may find groups of peaks that have similar behavior across these time points. By clustering samples according to their signal across peaks, we can perform a simple sanity check of data quality ‐ samples of the same time point should cluster together."
   ]
  },
  {
   "cell_type": "code",
   "execution_count": 43,
   "metadata": {
    "collapsed": false,
    "scrolled": true
   },
   "outputs": [],
   "source": [
    "library(gplots)\n"
   ]
  },
  {
   "cell_type": "code",
   "execution_count": 74,
   "metadata": {
    "collapsed": false
   },
   "outputs": [
    {
     "data": {
      "image/png": "[encoded data removed]",
      "text/plain": [
       "Plot with title “Color Key\n",
       "and Histogram”"
      ]
     },
     "metadata": {},
     "output_type": "display_data"
    }
   ],
   "source": [
    "heatmap.2(pval_data_matrix,\n",
    "          scale     = \"none\",\n",
    "          col       = rev(colorRampPalette(brewer.pal(10, \"RdBu\"))(256)),\n",
    "          distfun   = function(x) dist(x,method=\"euclidean\"),\n",
    "          hclustfun = function(x) hclust(x, method=\"ward.D\"),\n",
    "          Rowv=TRUE,\n",
    "          Colv=TRUE,\n",
    "          dendrogram = \"none\",\n",
    "          trace=\"none\",\n",
    "          cexCol = 0.9,\n",
    "          margins=c(10,10),\n",
    "          labRow=\"\")\n",
    "\n"
   ]
  },
  {
   "cell_type": "code",
   "execution_count": 75,
   "metadata": {
    "collapsed": false
   },
   "outputs": [
    {
     "data": {
      "image/png": "[encoded data removed]",
      "text/plain": [
       "Plot with title “Color Key\n",
       "and Histogram”"
      ]
     },
     "metadata": {},
     "output_type": "display_data"
    }
   ],
   "source": [
    "heatmap.2(fc_data_matrix,\n",
    "          scale     = \"none\",\n",
    "          col       = rev(colorRampPalette(brewer.pal(10, \"RdBu\"))(256)),\n",
    "          distfun   = function(x) dist(x,method=\"euclidean\"),\n",
    "          hclustfun = function(x) hclust(x, method=\"ward.D\"),\n",
    "          Rowv=TRUE,\n",
    "          Colv=TRUE,\n",
    "          dendrogram = \"none\",\n",
    "          trace=\"none\",\n",
    "          cexCol = 0.9,\n",
    "          margins=c(10,10),\n",
    "          labRow=\"\")\n"
   ]
  },
  {
   "cell_type": "markdown",
   "metadata": {},
   "source": [
    "## PCA ##"
   ]
  },
  {
   "cell_type": "markdown",
   "metadata": {},
   "source": [
    "PCA (Principal Component Analysis) is a way to identify the primary directions of variation in the data. It can also be used for very coarse-grained clustering of samples; similar samples will have similar coordinates along the principal axes.\n",
    "\n",
    "We will perform PCA on foldChange.tab. The first step is to clean up the column labels in foldChange.tab with the following perl one-liner:"
   ]
  },
  {
   "cell_type": "code",
   "execution_count": null,
   "metadata": {
    "collapsed": false
   },
   "outputs": [],
   "source": [
    "cd $SIGNAL_DIR\n",
    "perl -i\".bak\" -pe '$_ = $.==1 ? do {$_ =~ s/\\/[^\\s]+\\///g; $_ =~ s/\\\"//g; $_ =~ s/\\-/\\./g; $_ =~ s/PooledReps_Sample/samp/g; $_} : $_' $MASTER_DATA/foldChange.tab\n",
    "sed -i 's/\\_R1.trimmed.nodup\\_FE//g' $MASTER_DATA/foldChange.tab"
   ]
  },
  {
   "cell_type": "markdown",
   "metadata": {},
   "source": [
    "We will now do PCA. We treat each sample as a single point in a very high dimensional space (where the dimensionality is equal to the number of genes the vary), and then we will perform dimensionality reduction in this space. We can color-code the PCA plots by \"Strain\", \"Media\", \"Salt\", or \"Rep\" to determine which parameter separates the samples most effectively. "
   ]
  },
  {
   "cell_type": "code",
   "execution_count": null,
   "metadata": {
    "collapsed": false
   },
   "outputs": [],
   "source": [
    "TODO:\n",
    "\n",
    "explain pca code \n",
    "use qplot code \n",
    "\n",
    "add in batch correction section \n",
    "run model with confounders vs base model & subtract out the difference \n",
    "hide file i/o code \n"
   ]
  },
  {
   "cell_type": "code",
   "execution_count": null,
   "metadata": {
    "collapsed": false
   },
   "outputs": [],
   "source": [
    "cd $SIGNAL_DIR\n",
    "#color-code by Strain \n",
    "$SRC_DIR/doPCA.R $MASTER_DATA/foldChange.tab $MASTER_DATA/batches.txt  Strain"
   ]
  },
  {
   "cell_type": "code",
   "execution_count": null,
   "metadata": {
    "collapsed": false
   },
   "outputs": [],
   "source": [
    "#display the resulting PCA images\n",
    "display < PCA_scree_plot.png\n",
    "display < PC_1_vs_2.png \n",
    "display < PC_2_vs_3.png \n",
    "display < PC_1_vs_3.png\n",
    "display < PC_3_vs_4.png "
   ]
  },
  {
   "cell_type": "markdown",
   "metadata": {},
   "source": [
    "Strain does not appear to be the main separator for the samples. What about media? "
   ]
  },
  {
   "cell_type": "code",
   "execution_count": null,
   "metadata": {
    "collapsed": false
   },
   "outputs": [],
   "source": [
    "$SRC_DIR/doPCA.R $MASTER_DATA/foldChange.tab $MASTER_DATA/batches.txt Media\n",
    "#display the resulting PCA images\n",
    "display < PCA_scree_plot.png\n",
    "display < PC_1_vs_2.png \n",
    "display < PC_2_vs_3.png \n",
    "display < PC_1_vs_3.png\n",
    "display < PC_3_vs_4.png "
   ]
  },
  {
   "cell_type": "markdown",
   "metadata": {},
   "source": [
    "Exercise: Repeat the above analysis for \"Salt\" and \"Rep\" variables. What PC is explained by Media? What PC is explained by Salt? "
   ]
  },
  {
   "cell_type": "markdown",
   "metadata": {},
   "source": [
    "We see that principal component 1 is pulling out the three samples that had very low read count : \n",
    "\n",
    "* Cln3-SCD-0_6MNaCl-Rep1\n",
    "* Cln3-SCD-0_6MNaCl-Rep2\n",
    "\n",
    "Interestingly, a sample with a relatively high number of reads is being separated as well: \n",
    "* Whi5-SCE-Rep2"
   ]
  },
  {
   "cell_type": "markdown",
   "metadata": {},
   "source": [
    "Let's remove the 2 samples with low reads and re-run the PCA analysis. These 3 samples have been removed from the foldChange file to generate the file **$MASTER_DATA/foldChange.filtered.tab**"
   ]
  },
  {
   "cell_type": "code",
   "execution_count": null,
   "metadata": {
    "collapsed": false
   },
   "outputs": [],
   "source": [
    "$SRC_DIR/doPCA.R $MASTER_DATA/foldChange.filtered.tab $MASTER_DATA/batches.filtered.txt  Salt\n",
    "#display the resulting PCA images\n",
    "display < PCA_scree_plot.png\n",
    "display < PC_1_vs_2.png \n",
    "display < PC_2_vs_3.png \n",
    "display < PC_1_vs_3.png\n",
    "display < PC_3_vs_4.png "
   ]
  },
  {
   "cell_type": "code",
   "execution_count": null,
   "metadata": {
    "collapsed": false
   },
   "outputs": [],
   "source": [
    "head -n20  pc1_rotation.txt"
   ]
  },
  {
   "cell_type": "code",
   "execution_count": null,
   "metadata": {
    "collapsed": false
   },
   "outputs": [],
   "source": [
    "head -n20 pc2_rotation.txt"
   ]
  },
  {
   "cell_type": "raw",
   "metadata": {},
   "source": [
    "head -n20 pc3_rotation.txt"
   ]
  },
  {
   "cell_type": "markdown",
   "metadata": {},
   "source": [
    "This script will produce PCA_sdev.png, which shows the standard deviation explained by each of the principle components. Since there are only 32 datapoints, the effective dimensionality of our data is 32, even though there are thousands of genes; this is why there are only 32 PCs.\n",
    "\n",
    "It also produces PC_[x]_vs_[y].png for components 1..3. How do you interpret the different principle components?\n",
    "\n",
    "Finally, it produces the files pc[x]_rotation.txt for components 1..3, which show the contribution of each peak to the direction of the principle component; this file can be used to get a sense of which peaks are critical in defining the principle components, and in which direction (positive or negative). One interesting analysis we can do with these files is to sort the peaks by their contribution to the principle component in ascending or descending order, map the peaks to their nearest genes, and then used the ranked list with software such as GOrilla which accept a ranked list of genes and output which GO terms are overrepresented towards the top: (http://cbl-gorilla.cs.technion.ac.il/)\n",
    "\n",
    "First, identify genes that are nearest to the peaks:"
   ]
  },
  {
   "cell_type": "code",
   "execution_count": null,
   "metadata": {
    "collapsed": false
   },
   "outputs": [],
   "source": [
    "cd $PEAKS_DIR\n",
    "bedtools closest -D a -a $MASTER_DATA/all_merged.peaks.bed.gz -b $SRC_DIR/yeast_tss_coords.bed > peaks2genes.bed"
   ]
  },
  {
   "cell_type": "markdown",
   "metadata": {},
   "source": [
    "The following commands will sort the genes by their contribution to each principle component and then map them to their nearest gene:"
   ]
  },
  {
   "cell_type": "code",
   "execution_count": null,
   "metadata": {
    "collapsed": false
   },
   "outputs": [],
   "source": [
    "cd $SIGNAL_DIR\n",
    "for pcFile in `ls pc*_rotation.txt`; do\n",
    "    theBase=`basename ${pcFile}`\n",
    "    cat $pcFile | sort -k 2r > \"ascending_\"$theBase\n",
    "    cat $pcFile | sort -k 2rg > \"descending_\"$theBase\n",
    "done\n",
    "$SRC_DIR/mapToNearestPeak.py --sigPeakInputFiles ascending*.txt descending*.txt --peaks2genesFile $PEAKS_DIR/peaks2genes.bed"
   ]
  },
  {
   "cell_type": "markdown",
   "metadata": {},
   "source": [
    "You can examine the output:"
   ]
  },
  {
   "cell_type": "code",
   "execution_count": null,
   "metadata": {
    "collapsed": false
   },
   "outputs": [],
   "source": [
    "ls nearestGene* "
   ]
  },
  {
   "cell_type": "markdown",
   "metadata": {},
   "source": [
    "Use the **head** command to print a specified number of lines from a file.\n",
    "Use the **cat** command to print the full contents of the file."
   ]
  },
  {
   "cell_type": "code",
   "execution_count": null,
   "metadata": {
    "collapsed": false
   },
   "outputs": [],
   "source": [
    "#example: print first 20 lines in nearestGenes_ascending_pc1_rotation.txt\n",
    "head -n20 nearestGenes_ascending_pc1_rotation.txt"
   ]
  },
  {
   "cell_type": "markdown",
   "metadata": {},
   "source": [
    "Exercise: copy & paste the lists of genes into GOrilla (http://cbl-gorilla.cs.technion.ac.il/) to discover over-represented GO terms."
   ]
  },
  {
   "cell_type": "code",
   "execution_count": null,
   "metadata": {
    "collapsed": false
   },
   "outputs": [],
   "source": [
    "#we create a symbolic link to the gene file, so that you can load it directly into GOrilla. \n",
    "ln -s $SIGNAL_DIR/nearestGenes_ascending_pc1_rotation.txt ~/training_camp/workflow_notebooks"
   ]
  },
  {
   "cell_type": "code",
   "execution_count": null,
   "metadata": {
    "collapsed": false
   },
   "outputs": [],
   "source": [
    "ls ~/training_camp/workflow_notebooks"
   ]
  }
 ],
 "metadata": {
  "kernelspec": {
   "display_name": "R",
   "language": "R",
   "name": "ir"
  },
  "language_info": {
   "codemirror_mode": "r",
   "file_extension": ".r",
   "mimetype": "text/x-r-source",
   "name": "R",
   "pygments_lexer": "r",
   "version": "3.5.0"
  }
 },
 "nbformat": 4,
 "nbformat_minor": 1
}
