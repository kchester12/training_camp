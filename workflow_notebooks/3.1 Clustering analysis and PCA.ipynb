{
 "cells": [
  {
   "cell_type": "markdown",
   "metadata": {},
   "source": [
    "# Clustering analysis and PCA #"
   ]
  },
  {
   "cell_type": "markdown",
   "metadata": {},
   "source": [
    "### IMPORTANT: Please make sure that you are using the R kernel to run this notebook.###\n",
    "We are now switching from the bash kernel to the R kernel. \n",
    "The R language provides a number of utilities for genomic data analysis and visualization. We will explore some of these. "
   ]
  },
  {
   "cell_type": "code",
   "execution_count": 15,
   "metadata": {
    "collapsed": false
   },
   "outputs": [],
   "source": [
    "#The preprocessCore library provides a number of functions useful for statistical analysis,\n",
    "#including functions for data normalization that we will use below. \n",
    "library(\"preprocessCore\")"
   ]
  },
  {
   "cell_type": "code",
   "execution_count": 16,
   "metadata": {
    "collapsed": false
   },
   "outputs": [
    {
     "data": {
      "text/html": [
       "<ol class=list-inline>\n",
       "\t<li>'all_merged.peaks.bed'</li>\n",
       "\t<li>'all.fc.bigwig'</li>\n",
       "\t<li>'all.fc.txt'</li>\n",
       "\t<li>'all.peaks.bed'</li>\n",
       "\t<li>'all.peaks.sorted.bed'</li>\n",
       "\t<li>'all.readcount.txt'</li>\n",
       "\t<li>'all.tagAlign.files.txt'</li>\n",
       "\t<li>'cln3-SCD-0_6MNaCl-Rep1'</li>\n",
       "\t<li>'cln3-SCD-0_6MNaCl-Rep2'</li>\n",
       "\t<li>'cln3-SCD-Rep1'</li>\n",
       "\t<li>'cln3-SCD-Rep2'</li>\n",
       "\t<li>'cln3-SCE-0_6MNaCl-Rep1'</li>\n",
       "\t<li>'cln3-SCE-0_6MNaCl-Rep2'</li>\n",
       "\t<li>'cln3-SCE-Rep1'</li>\n",
       "\t<li>'cln3-SCE-Rep2'</li>\n",
       "\t<li>'data'</li>\n",
       "\t<li>'narrowPeak_files.txt'</li>\n",
       "\t<li>'src'</li>\n",
       "\t<li>'tmp'</li>\n",
       "\t<li>'whi5-cln3-SCE-Rep1'</li>\n",
       "\t<li>'whi5-cln3-SCE-Rep2'</li>\n",
       "\t<li>'whi5-SCE-Rep1'</li>\n",
       "\t<li>'whi5-SCE-Rep2'</li>\n",
       "\t<li>'WT-SCD-0_6MNaCl-Rep1'</li>\n",
       "\t<li>'WT-SCD-0_6MNaCl-Rep2'</li>\n",
       "\t<li>'WT-SCD-Rep1'</li>\n",
       "\t<li>'WT-SCD-Rep1_out'</li>\n",
       "\t<li>'WT-SCD-Rep2'</li>\n",
       "\t<li>'WT-SCD-Rep2_out'</li>\n",
       "\t<li>'WT-SCE-0_6MNaCl-Rep1'</li>\n",
       "\t<li>'WT-SCE-0_6MNaCl-Rep2'</li>\n",
       "\t<li>'WT-SCE-Rep1'</li>\n",
       "\t<li>'WT-SCE-Rep2'</li>\n",
       "</ol>\n"
      ],
      "text/latex": [
       "\\begin{enumerate*}\n",
       "\\item 'all\\_merged.peaks.bed'\n",
       "\\item 'all.fc.bigwig'\n",
       "\\item 'all.fc.txt'\n",
       "\\item 'all.peaks.bed'\n",
       "\\item 'all.peaks.sorted.bed'\n",
       "\\item 'all.readcount.txt'\n",
       "\\item 'all.tagAlign.files.txt'\n",
       "\\item 'cln3-SCD-0\\_6MNaCl-Rep1'\n",
       "\\item 'cln3-SCD-0\\_6MNaCl-Rep2'\n",
       "\\item 'cln3-SCD-Rep1'\n",
       "\\item 'cln3-SCD-Rep2'\n",
       "\\item 'cln3-SCE-0\\_6MNaCl-Rep1'\n",
       "\\item 'cln3-SCE-0\\_6MNaCl-Rep2'\n",
       "\\item 'cln3-SCE-Rep1'\n",
       "\\item 'cln3-SCE-Rep2'\n",
       "\\item 'data'\n",
       "\\item 'narrowPeak\\_files.txt'\n",
       "\\item 'src'\n",
       "\\item 'tmp'\n",
       "\\item 'whi5-cln3-SCE-Rep1'\n",
       "\\item 'whi5-cln3-SCE-Rep2'\n",
       "\\item 'whi5-SCE-Rep1'\n",
       "\\item 'whi5-SCE-Rep2'\n",
       "\\item 'WT-SCD-0\\_6MNaCl-Rep1'\n",
       "\\item 'WT-SCD-0\\_6MNaCl-Rep2'\n",
       "\\item 'WT-SCD-Rep1'\n",
       "\\item 'WT-SCD-Rep1\\_out'\n",
       "\\item 'WT-SCD-Rep2'\n",
       "\\item 'WT-SCD-Rep2\\_out'\n",
       "\\item 'WT-SCE-0\\_6MNaCl-Rep1'\n",
       "\\item 'WT-SCE-0\\_6MNaCl-Rep2'\n",
       "\\item 'WT-SCE-Rep1'\n",
       "\\item 'WT-SCE-Rep2'\n",
       "\\end{enumerate*}\n"
      ],
      "text/markdown": [
       "1. 'all_merged.peaks.bed'\n",
       "2. 'all.fc.bigwig'\n",
       "3. 'all.fc.txt'\n",
       "4. 'all.peaks.bed'\n",
       "5. 'all.peaks.sorted.bed'\n",
       "6. 'all.readcount.txt'\n",
       "7. 'all.tagAlign.files.txt'\n",
       "8. 'cln3-SCD-0_6MNaCl-Rep1'\n",
       "9. 'cln3-SCD-0_6MNaCl-Rep2'\n",
       "10. 'cln3-SCD-Rep1'\n",
       "11. 'cln3-SCD-Rep2'\n",
       "12. 'cln3-SCE-0_6MNaCl-Rep1'\n",
       "13. 'cln3-SCE-0_6MNaCl-Rep2'\n",
       "14. 'cln3-SCE-Rep1'\n",
       "15. 'cln3-SCE-Rep2'\n",
       "16. 'data'\n",
       "17. 'narrowPeak_files.txt'\n",
       "18. 'src'\n",
       "19. 'tmp'\n",
       "20. 'whi5-cln3-SCE-Rep1'\n",
       "21. 'whi5-cln3-SCE-Rep2'\n",
       "22. 'whi5-SCE-Rep1'\n",
       "23. 'whi5-SCE-Rep2'\n",
       "24. 'WT-SCD-0_6MNaCl-Rep1'\n",
       "25. 'WT-SCD-0_6MNaCl-Rep2'\n",
       "26. 'WT-SCD-Rep1'\n",
       "27. 'WT-SCD-Rep1_out'\n",
       "28. 'WT-SCD-Rep2'\n",
       "29. 'WT-SCD-Rep2_out'\n",
       "30. 'WT-SCE-0_6MNaCl-Rep1'\n",
       "31. 'WT-SCE-0_6MNaCl-Rep2'\n",
       "32. 'WT-SCE-Rep1'\n",
       "33. 'WT-SCE-Rep2'\n",
       "\n",
       "\n"
      ],
      "text/plain": [
       " [1] \"all_merged.peaks.bed\"   \"all.fc.bigwig\"          \"all.fc.txt\"            \n",
       " [4] \"all.peaks.bed\"          \"all.peaks.sorted.bed\"   \"all.readcount.txt\"     \n",
       " [7] \"all.tagAlign.files.txt\" \"cln3-SCD-0_6MNaCl-Rep1\" \"cln3-SCD-0_6MNaCl-Rep2\"\n",
       "[10] \"cln3-SCD-Rep1\"          \"cln3-SCD-Rep2\"          \"cln3-SCE-0_6MNaCl-Rep1\"\n",
       "[13] \"cln3-SCE-0_6MNaCl-Rep2\" \"cln3-SCE-Rep1\"          \"cln3-SCE-Rep2\"         \n",
       "[16] \"data\"                   \"narrowPeak_files.txt\"   \"src\"                   \n",
       "[19] \"tmp\"                    \"whi5-cln3-SCE-Rep1\"     \"whi5-cln3-SCE-Rep2\"    \n",
       "[22] \"whi5-SCE-Rep1\"          \"whi5-SCE-Rep2\"          \"WT-SCD-0_6MNaCl-Rep1\"  \n",
       "[25] \"WT-SCD-0_6MNaCl-Rep2\"   \"WT-SCD-Rep1\"            \"WT-SCD-Rep1_out\"       \n",
       "[28] \"WT-SCD-Rep2\"            \"WT-SCD-Rep2_out\"        \"WT-SCE-0_6MNaCl-Rep1\"  \n",
       "[31] \"WT-SCE-0_6MNaCl-Rep2\"   \"WT-SCE-Rep1\"            \"WT-SCE-Rep2\"           "
      ]
     },
     "metadata": {},
     "output_type": "display_data"
    }
   ],
   "source": [
    "#Change to your $WORK_DIR. The syntax for switching directories in R is a little different than what we used in bash. \n",
    "#Use the \"setwd\" command to switch to your $WORK_DIR \n",
    "sunetid=\"ubuntu\"\n",
    "setwd(paste(\"/srv/scratch/training_camp/work/\",sunetid,sep=\"\"))\n",
    "#The \"dir\" command will list all files in your current working directory \n",
    "dir()"
   ]
  },
  {
   "cell_type": "code",
   "execution_count": 17,
   "metadata": {
    "collapsed": false
   },
   "outputs": [
    {
     "data": {
      "text/html": [
       "<table>\n",
       "<thead><tr><th scope=col>WT.SCD.Rep1_R1_001</th><th scope=col>WT.SCD.Rep2_R1_001</th></tr></thead>\n",
       "<tbody>\n",
       "\t<tr><td>2.39082</td><td>2.04151</td></tr>\n",
       "\t<tr><td>1.13347</td><td>1.73337</td></tr>\n",
       "\t<tr><td>2.93900</td><td>2.66924</td></tr>\n",
       "\t<tr><td>1.95022</td><td>2.79871</td></tr>\n",
       "\t<tr><td>1.85043</td><td>2.10170</td></tr>\n",
       "\t<tr><td>2.17361</td><td>2.18958</td></tr>\n",
       "</tbody>\n",
       "</table>\n"
      ],
      "text/latex": [
       "\\begin{tabular}{r|ll}\n",
       " WT.SCD.Rep1\\_R1\\_001 & WT.SCD.Rep2\\_R1\\_001\\\\\n",
       "\\hline\n",
       "\t 2.39082 & 2.04151\\\\\n",
       "\t 1.13347 & 1.73337\\\\\n",
       "\t 2.93900 & 2.66924\\\\\n",
       "\t 1.95022 & 2.79871\\\\\n",
       "\t 1.85043 & 2.10170\\\\\n",
       "\t 2.17361 & 2.18958\\\\\n",
       "\\end{tabular}\n"
      ],
      "text/markdown": [
       "\n",
       "WT.SCD.Rep1_R1_001 | WT.SCD.Rep2_R1_001 | \n",
       "|---|---|---|---|---|---|\n",
       "| 2.39082 | 2.04151 | \n",
       "| 1.13347 | 1.73337 | \n",
       "| 2.93900 | 2.66924 | \n",
       "| 1.95022 | 2.79871 | \n",
       "| 1.85043 | 2.10170 | \n",
       "| 2.17361 | 2.18958 | \n",
       "\n",
       "\n"
      ],
      "text/plain": [
       "  WT.SCD.Rep1_R1_001 WT.SCD.Rep2_R1_001\n",
       "1 2.39082            2.04151           \n",
       "2 1.13347            1.73337           \n",
       "3 2.93900            2.66924           \n",
       "4 1.95022            2.79871           \n",
       "5 1.85043            2.10170           \n",
       "6 2.17361            2.18958           "
      ]
     },
     "metadata": {},
     "output_type": "display_data"
    }
   ],
   "source": [
    "#load the fc signal matrix\n",
    "fc_data=read.table(\"all.fc.txt\",header=TRUE)\n",
    "#remove the columns we will not use \n",
    "fc_data$Chrom=NULL\n",
    "fc_data$Start=NULL\n",
    "fc_data$End=NULL\n",
    "rownames(fc_data)=fc_data$ID\n",
    "fc_data$ID=NULL\n",
    "head(fc_data)\n"
   ]
  },
  {
   "cell_type": "code",
   "execution_count": 18,
   "metadata": {
    "collapsed": false
   },
   "outputs": [],
   "source": [
    "#normalize the data \n",
    "#quantile normalization \n",
    "fc_data_matrix=normalize.quantiles(data.matrix(asinh(fc_data)))"
   ]
  },
  {
   "cell_type": "code",
   "execution_count": 19,
   "metadata": {
    "collapsed": false
   },
   "outputs": [],
   "source": [
    "colnames(fc_data_matrix)=names(fc_data)"
   ]
  },
  {
   "cell_type": "code",
   "execution_count": 20,
   "metadata": {
    "collapsed": false
   },
   "outputs": [
    {
     "data": {
      "text/html": [
       "<table>\n",
       "<thead><tr><th scope=col>WT.SCD.Rep1_R1_001</th><th scope=col>WT.SCD.Rep2_R1_001</th></tr></thead>\n",
       "<tbody>\n",
       "\t<tr><td>1.598265</td><td>1.426437</td></tr>\n",
       "\t<tr><td>1.114630</td><td>1.213119</td></tr>\n",
       "\t<tr><td>1.763483</td><td>1.738327</td></tr>\n",
       "\t<tr><td>1.449744</td><td>1.792747</td></tr>\n",
       "\t<tr><td>1.414497</td><td>1.465063</td></tr>\n",
       "\t<tr><td>1.528193</td><td>1.510675</td></tr>\n",
       "</tbody>\n",
       "</table>\n"
      ],
      "text/latex": [
       "\\begin{tabular}{ll}\n",
       " WT.SCD.Rep1\\_R1\\_001 & WT.SCD.Rep2\\_R1\\_001\\\\\n",
       "\\hline\n",
       "\t 1.598265 & 1.426437\\\\\n",
       "\t 1.114630 & 1.213119\\\\\n",
       "\t 1.763483 & 1.738327\\\\\n",
       "\t 1.449744 & 1.792747\\\\\n",
       "\t 1.414497 & 1.465063\\\\\n",
       "\t 1.528193 & 1.510675\\\\\n",
       "\\end{tabular}\n"
      ],
      "text/markdown": [
       "\n",
       "WT.SCD.Rep1_R1_001 | WT.SCD.Rep2_R1_001 | \n",
       "|---|---|---|---|---|---|\n",
       "| 1.598265 | 1.426437 | \n",
       "| 1.114630 | 1.213119 | \n",
       "| 1.763483 | 1.738327 | \n",
       "| 1.449744 | 1.792747 | \n",
       "| 1.414497 | 1.465063 | \n",
       "| 1.528193 | 1.510675 | \n",
       "\n",
       "\n"
      ],
      "text/plain": [
       "     WT.SCD.Rep1_R1_001 WT.SCD.Rep2_R1_001\n",
       "[1,] 1.598265           1.426437          \n",
       "[2,] 1.114630           1.213119          \n",
       "[3,] 1.763483           1.738327          \n",
       "[4,] 1.449744           1.792747          \n",
       "[5,] 1.414497           1.465063          \n",
       "[6,] 1.528193           1.510675          "
      ]
     },
     "metadata": {},
     "output_type": "display_data"
    }
   ],
   "source": [
    "head(fc_data_matrix)"
   ]
  },
  {
   "cell_type": "markdown",
   "metadata": {},
   "source": [
    "Now, we load the matrix of read counts for each peak using the same series of commands as we used above for the fold change data matrix. "
   ]
  },
  {
   "cell_type": "code",
   "execution_count": 24,
   "metadata": {
    "collapsed": false
   },
   "outputs": [
    {
     "data": {
      "text/html": [
       "<table>\n",
       "<thead><tr><th scope=col>WT.SCD.Rep1_R1_001</th><th scope=col>WT.SCD.Rep2_R1_001</th></tr></thead>\n",
       "<tbody>\n",
       "\t<tr><td>35 </td><td>241</td></tr>\n",
       "\t<tr><td>12 </td><td> 71</td></tr>\n",
       "\t<tr><td>25 </td><td>147</td></tr>\n",
       "\t<tr><td>13 </td><td>118</td></tr>\n",
       "\t<tr><td>31 </td><td>182</td></tr>\n",
       "\t<tr><td>16 </td><td>144</td></tr>\n",
       "</tbody>\n",
       "</table>\n"
      ],
      "text/latex": [
       "\\begin{tabular}{r|ll}\n",
       " WT.SCD.Rep1\\_R1\\_001 & WT.SCD.Rep2\\_R1\\_001\\\\\n",
       "\\hline\n",
       "\t 35  & 241\\\\\n",
       "\t 12  &  71\\\\\n",
       "\t 25  & 147\\\\\n",
       "\t 13  & 118\\\\\n",
       "\t 31  & 182\\\\\n",
       "\t 16  & 144\\\\\n",
       "\\end{tabular}\n"
      ],
      "text/markdown": [
       "\n",
       "WT.SCD.Rep1_R1_001 | WT.SCD.Rep2_R1_001 | \n",
       "|---|---|---|---|---|---|\n",
       "| 35  | 241 | \n",
       "| 12  |  71 | \n",
       "| 25  | 147 | \n",
       "| 13  | 118 | \n",
       "| 31  | 182 | \n",
       "| 16  | 144 | \n",
       "\n",
       "\n"
      ],
      "text/plain": [
       "  WT.SCD.Rep1_R1_001 WT.SCD.Rep2_R1_001\n",
       "1 35                 241               \n",
       "2 12                  71               \n",
       "3 25                 147               \n",
       "4 13                 118               \n",
       "5 31                 182               \n",
       "6 16                 144               "
      ]
     },
     "metadata": {},
     "output_type": "display_data"
    },
    {
     "data": {
      "text/html": [
       "<table>\n",
       "<thead><tr><th scope=col>WT.SCD.Rep1_R1_001</th><th scope=col>WT.SCD.Rep2_R1_001</th></tr></thead>\n",
       "<tbody>\n",
       "\t<tr><td>5.160875</td><td>5.267411</td></tr>\n",
       "\t<tr><td>4.139845</td><td>3.977050</td></tr>\n",
       "\t<tr><td>4.834087</td><td>4.756352</td></tr>\n",
       "\t<tr><td>4.209330</td><td>4.524070</td></tr>\n",
       "\t<tr><td>5.044203</td><td>4.978951</td></tr>\n",
       "\t<tr><td>4.416354</td><td>4.746043</td></tr>\n",
       "</tbody>\n",
       "</table>\n"
      ],
      "text/latex": [
       "\\begin{tabular}{ll}\n",
       " WT.SCD.Rep1\\_R1\\_001 & WT.SCD.Rep2\\_R1\\_001\\\\\n",
       "\\hline\n",
       "\t 5.160875 & 5.267411\\\\\n",
       "\t 4.139845 & 3.977050\\\\\n",
       "\t 4.834087 & 4.756352\\\\\n",
       "\t 4.209330 & 4.524070\\\\\n",
       "\t 5.044203 & 4.978951\\\\\n",
       "\t 4.416354 & 4.746043\\\\\n",
       "\\end{tabular}\n"
      ],
      "text/markdown": [
       "\n",
       "WT.SCD.Rep1_R1_001 | WT.SCD.Rep2_R1_001 | \n",
       "|---|---|---|---|---|---|\n",
       "| 5.160875 | 5.267411 | \n",
       "| 4.139845 | 3.977050 | \n",
       "| 4.834087 | 4.756352 | \n",
       "| 4.209330 | 4.524070 | \n",
       "| 5.044203 | 4.978951 | \n",
       "| 4.416354 | 4.746043 | \n",
       "\n",
       "\n"
      ],
      "text/plain": [
       "     WT.SCD.Rep1_R1_001 WT.SCD.Rep2_R1_001\n",
       "[1,] 5.160875           5.267411          \n",
       "[2,] 4.139845           3.977050          \n",
       "[3,] 4.834087           4.756352          \n",
       "[4,] 4.209330           4.524070          \n",
       "[5,] 5.044203           4.978951          \n",
       "[6,] 4.416354           4.746043          "
      ]
     },
     "metadata": {},
     "output_type": "display_data"
    }
   ],
   "source": [
    "#load the read count matrix\n",
    "count_data=read.table(\"all.readcount.txt\",header=TRUE)\n",
    "#remove the columns we will not use \n",
    "count_data$Chrom=NULL\n",
    "count_data$Start=NULL\n",
    "count_data$End=NULL\n",
    "rownames(count_data)=count_data$ID\n",
    "count_data$ID=NULL\n",
    "head(count_data)\n",
    "\n",
    "#quantile normalize \n",
    "count_data_matrix=normalize.quantiles(data.matrix(asinh(count_data)))\n",
    "colnames(count_data_matrix)=names(count_data)\n",
    "head(count_data_matrix)"
   ]
  },
  {
   "cell_type": "markdown",
   "metadata": {},
   "source": [
    "Much better! After quantile normalization, the read counts and fold change values across samples are on the same scale. "
   ]
  },
  {
   "cell_type": "markdown",
   "metadata": {},
   "source": [
    "In this tutorial we will focus on the clustering and PCA analysis steps of the pipeline: \n",
    "![Analysis pipeline](images/part3.png)"
   ]
  },
  {
   "cell_type": "markdown",
   "metadata": {},
   "source": [
    "## Missing R packages##"
   ]
  },
  {
   "cell_type": "markdown",
   "metadata": {},
   "source": [
    "When running the scripts in this section, if you get an error saying the gplots package has not been installed, you can install the package locally by  running the **3.5 Install R packages** notebook."
   ]
  },
  {
   "cell_type": "markdown",
   "metadata": {},
   "source": [
    "## Hierarchical Clustering of Fold Change Signal Across Samples ##"
   ]
  },
  {
   "cell_type": "markdown",
   "metadata": {},
   "source": [
    "Cluster analysis is a simple way to visualize patterns in the data. By clustering peaks according to their signal across different time points, we may find groups of peaks that have similar behavior across these time points. By clustering samples according to their signal across peaks, we can perform a simple sanity check of data quality ‐ samples of the same time point should cluster together."
   ]
  },
  {
   "cell_type": "code",
   "execution_count": 25,
   "metadata": {
    "collapsed": false,
    "scrolled": true
   },
   "outputs": [],
   "source": [
    "library(gplots)\n",
    "library(RColorBrewer)"
   ]
  },
  {
   "cell_type": "code",
   "execution_count": 26,
   "metadata": {
    "collapsed": false
   },
   "outputs": [
    {
     "data": {
      "image/png": "[encoded data removed]",
      "text/plain": [
       "Plot with title “Color Key\n",
       "and Histogram”"
      ]
     },
     "metadata": {},
     "output_type": "display_data"
    }
   ],
   "source": [
    "heatmap.2(fc_data_matrix,\n",
    "          scale     = \"none\",\n",
    "          col       = rev(colorRampPalette(brewer.pal(10, \"RdBu\"))(256)),\n",
    "          distfun   = function(x) dist(x,method=\"euclidean\"),\n",
    "          hclustfun = function(x) hclust(x, method=\"ward.D\"),\n",
    "          Rowv=TRUE,\n",
    "          Colv=TRUE,\n",
    "          dendrogram = \"none\",\n",
    "          trace=\"none\",\n",
    "          cexCol = 0.9,\n",
    "          margins=c(10,10),\n",
    "          labRow=\"\")\n",
    "\n"
   ]
  },
  {
   "cell_type": "code",
   "execution_count": 27,
   "metadata": {
    "collapsed": false
   },
   "outputs": [
    {
     "data": {
      "image/png": "[encoded data removed]",
      "text/plain": [
       "Plot with title “Color Key\n",
       "and Histogram”"
      ]
     },
     "metadata": {},
     "output_type": "display_data"
    }
   ],
   "source": [
    "heatmap.2(count_data_matrix,\n",
    "          scale     = \"none\",\n",
    "          col       = rev(colorRampPalette(brewer.pal(10, \"RdBu\"))(256)),\n",
    "          distfun   = function(x) dist(x,method=\"euclidean\"),\n",
    "          hclustfun = function(x) hclust(x, method=\"ward.D\"),\n",
    "          Rowv=TRUE,\n",
    "          Colv=TRUE,\n",
    "          dendrogram = \"none\",\n",
    "          trace=\"none\",\n",
    "          cexCol = 0.9,\n",
    "          margins=c(10,10),\n",
    "          labRow=\"\")"
   ]
  },
  {
   "cell_type": "markdown",
   "metadata": {},
   "source": [
    "## PCA ##"
   ]
  },
  {
   "cell_type": "markdown",
   "metadata": {},
   "source": [
    "PCA (Principal Component Analysis) is a way to identify the primary directions of variation in the data. It can also be used for very coarse-grained clustering of samples; similar samples will have similar coordinates along the principal axes.\n",
    "\n",
    "We will perform PCA on *all.fc.txt*. We treat each sample as a single point in a very high dimensional space (where the dimensionality is equal to the number of genes the vary), and then we will perform dimensionality reduction in this space. We can color-code the PCA plots by \"Strain\", \"Media\", \"Researcher\", or \"Rep\" to determine which parameter separates the samples most effectively. "
   ]
  },
  {
   "cell_type": "code",
   "execution_count": null,
   "metadata": {
    "collapsed": true
   },
   "outputs": [],
   "source": []
  },
  {
   "cell_type": "code",
   "execution_count": null,
   "metadata": {
    "collapsed": false
   },
   "outputs": [],
   "source": [
    "TODO:\n",
    "\n",
    "explain pca code \n",
    "use qplot code \n",
    "\n",
    "add in batch correction section \n",
    "run model with confounders vs base model & subtract out the difference \n",
    "hide file i/o code \n"
   ]
  },
  {
   "cell_type": "code",
   "execution_count": null,
   "metadata": {
    "collapsed": false
   },
   "outputs": [],
   "source": [
    "cd $SIGNAL_DIR\n",
    "#color-code by Strain \n",
    "$SRC_DIR/doPCA.R $MASTER_DATA/foldChange.tab $MASTER_DATA/batches.txt  Strain"
   ]
  },
  {
   "cell_type": "code",
   "execution_count": null,
   "metadata": {
    "collapsed": false
   },
   "outputs": [],
   "source": [
    "#display the resulting PCA images\n",
    "display < PCA_scree_plot.png\n",
    "display < PC_1_vs_2.png \n",
    "display < PC_2_vs_3.png \n",
    "display < PC_1_vs_3.png\n",
    "display < PC_3_vs_4.png "
   ]
  },
  {
   "cell_type": "markdown",
   "metadata": {},
   "source": [
    "Strain does not appear to be the main separator for the samples. What about media? "
   ]
  },
  {
   "cell_type": "code",
   "execution_count": null,
   "metadata": {
    "collapsed": false
   },
   "outputs": [],
   "source": [
    "$SRC_DIR/doPCA.R $MASTER_DATA/foldChange.tab $MASTER_DATA/batches.txt Media\n",
    "#display the resulting PCA images\n",
    "display < PCA_scree_plot.png\n",
    "display < PC_1_vs_2.png \n",
    "display < PC_2_vs_3.png \n",
    "display < PC_1_vs_3.png\n",
    "display < PC_3_vs_4.png "
   ]
  },
  {
   "cell_type": "markdown",
   "metadata": {},
   "source": [
    "Exercise: Repeat the above analysis for \"Media\" and \"Rep\" variables. What PC is explained by Media? What PC is explained by Rep? "
   ]
  },
  {
   "cell_type": "markdown",
   "metadata": {},
   "source": [
    "We see that principal component 1 is pulling out the three samples that had very low read count : \n",
    "\n",
    "* Cln3-SCD-0_6MNaCl-Rep1\n",
    "* Cln3-SCD-0_6MNaCl-Rep2\n",
    "\n",
    "Interestingly, a sample with a relatively high number of reads is being separated as well: \n",
    "* Whi5-SCE-Rep2"
   ]
  },
  {
   "cell_type": "markdown",
   "metadata": {},
   "source": [
    "Let's remove the 2 samples with low reads and re-run the PCA analysis. These 3 samples have been removed from the foldChange file to generate the file **$MASTER_DATA/foldChange.filtered.tab**"
   ]
  },
  {
   "cell_type": "code",
   "execution_count": null,
   "metadata": {
    "collapsed": false
   },
   "outputs": [],
   "source": [
    "$SRC_DIR/doPCA.R $MASTER_DATA/foldChange.filtered.tab $MASTER_DATA/batches.filtered.txt  Salt\n",
    "#display the resulting PCA images\n",
    "display < PCA_scree_plot.png\n",
    "display < PC_1_vs_2.png \n",
    "display < PC_2_vs_3.png \n",
    "display < PC_1_vs_3.png\n",
    "display < PC_3_vs_4.png "
   ]
  },
  {
   "cell_type": "code",
   "execution_count": null,
   "metadata": {
    "collapsed": false
   },
   "outputs": [],
   "source": [
    "head -n20  pc1_rotation.txt"
   ]
  },
  {
   "cell_type": "code",
   "execution_count": null,
   "metadata": {
    "collapsed": false
   },
   "outputs": [],
   "source": [
    "head -n20 pc2_rotation.txt"
   ]
  },
  {
   "cell_type": "raw",
   "metadata": {},
   "source": [
    "head -n20 pc3_rotation.txt"
   ]
  },
  {
   "cell_type": "markdown",
   "metadata": {},
   "source": [
    "This script will produce PCA_sdev.png, which shows the standard deviation explained by each of the principle components. Since there are only 32 datapoints, the effective dimensionality of our data is 32, even though there are thousands of genes; this is why there are only 32 PCs.\n",
    "\n",
    "It also produces PC_[x]_vs_[y].png for components 1..3. How do you interpret the different principle components?\n",
    "\n",
    "Finally, it produces the files pc[x]_rotation.txt for components 1..3, which show the contribution of each peak to the direction of the principle component; this file can be used to get a sense of which peaks are critical in defining the principle components, and in which direction (positive or negative). One interesting analysis we can do with these files is to sort the peaks by their contribution to the principle component in ascending or descending order, map the peaks to their nearest genes, and then used the ranked list with software such as GOrilla which accept a ranked list of genes and output which GO terms are overrepresented towards the top: (http://cbl-gorilla.cs.technion.ac.il/)\n",
    "\n",
    "We will do this analysis in bash rather than in R, so continue on to the next tutorial to get started. "
   ]
  }
 ],
 "metadata": {
  "kernelspec": {
   "display_name": "R",
   "language": "R",
   "name": "ir"
  },
  "language_info": {
   "codemirror_mode": "r",
   "file_extension": ".r",
   "mimetype": "text/x-r-source",
   "name": "R",
   "pygments_lexer": "r",
   "version": "3.5.0"
  }
 },
 "nbformat": 4,
 "nbformat_minor": 1
}
