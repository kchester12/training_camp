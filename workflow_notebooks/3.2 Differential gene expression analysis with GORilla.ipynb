{
 "cells": [
  {
   "cell_type": "markdown",
   "metadata": {},
   "source": [
    "# 3.2 Calling differentially expressed genes with GO"
   ]
  },
  {
   "cell_type": "markdown",
   "metadata": {},
   "source": [
    "### IMPORTANT: Please make sure that you are using the bash kernel to run this notebook. ###\n"
   ]
  },
  {
   "cell_type": "code",
   "execution_count": 6,
   "metadata": {
    "collapsed": false
   },
   "outputs": [
    {
     "name": "stdout",
     "output_type": "stream",
     "text": []
    }
   ],
   "source": [
    "### Set up variables storing the location of our data\n",
    "### The proper way to load your variables is with the ~/.bashrc command, but this is very slow in iPython \n",
    "export SUNETID=\"$(whoami)\"\n",
    "export WORK_DIR=\"/srv/scratch/training_camp/work/${SUNETID}\"\n",
    "export DATA_DIR=\"${WORK_DIR}/data\"\n",
    "[[ ! -d ${WORK_DIR}/data ]] && mkdir \"${WORK_DIR}/data\"\n",
    "export SRC_DIR=\"${WORK_DIR}/src\"\n",
    "[[ ! -d ${WORK_DIR}/src ]] && mkdir -p \"${WORK_DIR}/src\"\n",
    "export METADATA_DIR=\"/srv/scratch/training_camp/metadata\"\n",
    "export AGGREGATE_DATA_DIR=\"/srv/scratch/training_camp/data\"\n",
    "export AGGREGATE_ANALYSIS_DIR=\"/srv/scratch/training_camp/aggregate_analysis\"\n",
    "export YEAST_DIR=\"/srv/scratch/training_camp/saccer3\"\n",
    "export TMP=\"${WORK_DIR}/tmp\"\n",
    "export TEMP=$TMP\n",
    "export TMPDIR=$TMP\n",
    "[[ ! -d ${TMP} ]] && mkdir -p \"${TMP}\"\n",
    "\n"
   ]
  },
  {
   "cell_type": "code",
   "execution_count": null,
   "metadata": {
    "collapsed": false
   },
   "outputs": [],
   "source": [
    "cd $WORK_DIR"
   ]
  },
  {
   "cell_type": "markdown",
   "metadata": {
    "collapsed": false
   },
   "source": [
    "In the previous tutorial (3.1) we calculated the contribution of each peak in the dataset to principal components 1, 2, and 3.\n",
    "\n",
    "Now, we sort the pc_contribs\\*.txt files. \n",
    "\n",
    "Then, we map the peaks to their nearest genes. \n",
    " \n",
    "Finally, we use the resulting ranked list with software such as GOrilla, which accept a ranked list of genes and outputs GO terms that are overrepresented in the data: (http://cbl-gorilla.cs.technion.ac.il/)\n",
    "\n"
   ]
  },
  {
   "cell_type": "code",
   "execution_count": 8,
   "metadata": {
    "collapsed": false
   },
   "outputs": [
    {
     "name": "stdout",
     "output_type": "stream",
     "text": []
    }
   ],
   "source": [
    "#sort the peak_contris files by the fourth column, which contains the contribution to the PC. \n",
    "sort -n -k4,4 pc1_contribs.txt > pc1_contribs.ascending.txt\n",
    "\n",
    "#get the descending peak list by sorting in reverse \n",
    "sort -nr -k4,4 pc1_contribs.txt > pc1_contribs.descending.txt\n"
   ]
  },
  {
   "cell_type": "code",
   "execution_count": 9,
   "metadata": {
    "collapsed": false
   },
   "outputs": [
    {
     "name": "stdout",
     "output_type": "stream",
     "text": [
      "chrXI\t381701\t382552\t-9.00607341480353e-05\r\n",
      "chrXV\t196157\t196924\t-8.92315277797249e-05\r\n",
      "chrXIII\t880107\t881290\t-7.30785285107545e-05\r\n",
      "chrV\t241887\t243164\t-6.348727749738e-05\r\n",
      "chrXIII\t523247\t523662\t-5.36550742122443e-05\r\n",
      "chrXI\t554628\t554937\t-4.63722176043807e-05\r\n",
      "chrXV\t924864\t925718\t-4.0911430098774e-05\r\n",
      "chrXI\t437379\t437791\t-3.09810708327273e-05\r\n",
      "chrIV\t212030\t212256\t-3.07049025609486e-06\r\n",
      "chrIV\t1164630\t1165943\t-0.0767684058707863\r\n"
     ]
    }
   ],
   "source": [
    "head pc1_contribs.ascending.txt"
   ]
  },
  {
   "cell_type": "code",
   "execution_count": 10,
   "metadata": {
    "collapsed": false
   },
   "outputs": [
    {
     "name": "stdout",
     "output_type": "stream",
     "text": [
      "chrIV\t1445158\t1446115\t7.50936387031513e-05\r\n",
      "chrXV\t1003066\t1004648\t5.61800065935932e-05\r\n",
      "chrXII\t931669\t933147\t5.19492539880198e-05\r\n",
      "chrV\t86062\t87064\t2.70898543069069e-05\r\n",
      "chrVII\t1022307\t1022842\t1.64906830135266e-05\r\n",
      "chrXII\t28871\t30024\t0.0678804358542824\r\n",
      "chrXII\t746924\t747874\t0.0669235095057691\r\n",
      "chrVIII\t38277\t39700\t0.0660310452695733\r\n",
      "chrXV\t244410\t244812\t0.0604821622051676\r\n",
      "chrVIII\t556266\t556857\t0.0583396391306409\r\n"
     ]
    }
   ],
   "source": [
    "head pc1_contribs.descending.txt"
   ]
  },
  {
   "cell_type": "markdown",
   "metadata": {},
   "source": [
    "To map peaks to their nearest gene, we need to know the SacCer3 gene coordinates. The gene coordinates are indicated in the file **$YEAST_DIR/yeast_tss_coords.bed**"
   ]
  },
  {
   "cell_type": "code",
   "execution_count": 11,
   "metadata": {
    "collapsed": false
   },
   "outputs": [
    {
     "name": "stdout",
     "output_type": "stream",
     "text": [
      "chrI\t130798\t130799\tYAL012W\t0\t+\r\n",
      "chrI\t334\t335\tYAL069W\t0\t+\r\n",
      "chrI\t537\t538\tYAL068W-A\t0\t+\r\n",
      "chrI\t2168\t2169\tYAL068C\t0\t-\r\n",
      "chrI\t2479\t2480\tYAL067W-A\t0\t+\r\n",
      "chrI\t9015\t9016\tYAL067C\t0\t-\r\n",
      "chrI\t10090\t10091\tYAL066W\t0\t+\r\n",
      "chrI\t11950\t11951\tYAL065C\t0\t-\r\n",
      "chrI\t12045\t12046\tYAL064W-B\t0\t+\r\n",
      "chrI\t13742\t13743\tYAL064C-A\t0\t-\r\n"
     ]
    }
   ],
   "source": [
    "head $YEAST_DIR/yeast_tss_coords.bed"
   ]
  },
  {
   "cell_type": "code",
   "execution_count": 13,
   "metadata": {
    "collapsed": false
   },
   "outputs": [
    {
     "name": "stdout",
     "output_type": "stream",
     "text": []
    }
   ],
   "source": [
    "cd $WORK_DIR\n",
    "#We map the sorted peaks to their nearest genes. \n",
    "bedtools closest -D a -a pc1_contribs.ascending.txt -b $YEAST_DIR/yeast_tss_coords.bed > pc1_contribs.ascending.togene.txt\n",
    "bedtools closest -D a -a pc1_contribs.descending.txt -b $YEAST_DIR/yeast_tss_coords.bed > pc1_contribs.descending.togene.txt"
   ]
  },
  {
   "cell_type": "code",
   "execution_count": 14,
   "metadata": {
    "collapsed": false,
    "scrolled": true
   },
   "outputs": [
    {
     "name": "stdout",
     "output_type": "stream",
     "text": [
      "chrXI\t381701\t382552\t-9.00607341480353e-05\tchrXI\t382497\t382498\tYKL030W\t0\t+\t0\r\n",
      "chrXV\t196157\t196924\t-8.92315277797249e-05\tchrXV\t196506\t196507\tYOL071W\t0\t+\t0\r\n",
      "chrXIII\t880107\t881290\t-7.30785285107545e-05\tchrXIII\t881158\t881159\tYMR306W\t0\t+\t0\r\n",
      "chrV\t241887\t243164\t-6.348727749738e-05\tchrV\t243179\t243180\tYER046W\t0\t+\t16\r\n",
      "chrXIII\t523247\t523662\t-5.36550742122443e-05\tchrXIII\t523344\t523345\tYMR127C\t0\t-\t0\r\n",
      "chrXI\t554628\t554937\t-4.63722176043807e-05\tchrXI\t554986\t554987\tYKR059W\t0\t+\t50\r\n",
      "chrXV\t924864\t925718\t-4.0911430098774e-05\tchrXV\t925039\t925040\tYOR324C\t0\t-\t0\r\n",
      "chrXI\t437379\t437791\t-3.09810708327273e-05\tchrXI\t437777\t437778\tYKL002W\t0\t+\t0\r\n",
      "chrIV\t212030\t212256\t-3.07049025609486e-06\tchrIV\t212045\t212046\tYDL139C\t0\t-\t0\r\n",
      "chrIV\t1164630\t1165943\t-0.0767684058707863\tchrIV\t1164659\t1164660\tYDR345C\t0\t-\t0\r\n"
     ]
    }
   ],
   "source": [
    "head pc1_contribs.ascending.togene.txt"
   ]
  },
  {
   "cell_type": "code",
   "execution_count": 15,
   "metadata": {
    "collapsed": false
   },
   "outputs": [
    {
     "name": "stdout",
     "output_type": "stream",
     "text": [
      "chrIV\t1445158\t1446115\t7.50936387031513e-05\tchrIV\t1445466\t1445467\tYDR497C\t0\t-\t0\r\n",
      "chrXV\t1003066\t1004648\t5.61800065935932e-05\tchrXV\t1003224\t1003225\tYOR354C\t0\t-\t0\r\n",
      "chrXII\t931669\t933147\t5.19492539880198e-05\tchrXII\t932966\t932967\tYLR407W\t0\t+\t0\r\n",
      "chrV\t86062\t87064\t2.70898543069069e-05\tchrV\t86936\t86937\tYEL032W\t0\t+\t0\r\n",
      "chrVII\t1022307\t1022842\t1.64906830135266e-05\tchrVII\t1022655\t1022656\tYGR266W\t0\t+\t0\r\n",
      "chrXII\t28871\t30024\t0.0678804358542824\tchrXII\t30108\t30109\tYLL055W\t0\t+\t85\r\n",
      "chrXII\t746924\t747874\t0.0669235095057691\tchrXII\t747110\t747111\tYLR307C-A\t0\t-\t0\r\n",
      "chrVIII\t38277\t39700\t0.0660310452695733\tchrVIII\t39073\t39074\tYHL030W-A\t0\t+\t0\r\n",
      "chrXV\t244410\t244812\t0.0604821622051676\tchrXV\t244139\t244140\tYOL046C\t0\t-\t-271\r\n",
      "chrVIII\t556266\t556857\t0.0583396391306409\tchrVIII\t557041\t557042\tYHR217C\t0\t-\t185\r\n"
     ]
    }
   ],
   "source": [
    "head pc1_contribs.descending.togene.txt"
   ]
  },
  {
   "cell_type": "markdown",
   "metadata": {},
   "source": [
    "The GOrilla software expects a ranked list of genes, so we use the cut command to extract just the gene name column \n",
    "from the files. "
   ]
  },
  {
   "cell_type": "code",
   "execution_count": 17,
   "metadata": {
    "collapsed": false
   },
   "outputs": [
    {
     "name": "stdout",
     "output_type": "stream",
     "text": [
      "YKL030W\r\n",
      "YOL071W\r\n",
      "YMR306W\r\n",
      "YER046W\r\n",
      "YMR127C\r\n",
      "YKR059W\r\n",
      "YOR324C\r\n",
      "YKL002W\r\n",
      "YDL139C\r\n",
      "YDR345C\r\n"
     ]
    }
   ],
   "source": [
    "cut -f8 pc1_contribs.ascending.togene.txt > pc1_contribs.ascending.geneonly.txt\n",
    "cut -f8 pc1_contribs.descending.togene.txt > pc1_contribs.descending.geneonly.txt\n",
    "head pc1_contribs.ascending.geneonly.txt"
   ]
  },
  {
   "cell_type": "code",
   "execution_count": 18,
   "metadata": {
    "collapsed": false
   },
   "outputs": [
    {
     "name": "stdout",
     "output_type": "stream",
     "text": []
    }
   ],
   "source": [
    "#we create a symbolic link to the sorted genes files so you can load them directly into GORilla.\n",
    "\n",
    "ln -s $WORK_DIR/pc1_contribs.ascending.geneonly.txt ~/training_camp/workflow_notebooks\n",
    "ln -s $WORK_DIR/pc1_contribs.descending.geneonly.txt ~/training_camp/workflow_notebooks"
   ]
  },
  {
   "cell_type": "code",
   "execution_count": 19,
   "metadata": {
    "collapsed": false
   },
   "outputs": [
    {
     "name": "stdout",
     "output_type": "stream",
     "text": [
      "0.0 Introduction to Jupyter notebooks.ipynb\r\n",
      "1.0 Big Ideas.ipynb\r\n",
      "1.1 Unix Basics.ipynb\r\n",
      "1.2 Shell scripts and job submission.ipynb\r\n",
      "1.3 Getting ready to run code on the cluster.ipynb\r\n",
      "2.0 The metadata file and analysis overview.ipynb\r\n",
      "2.1_Sequencing_Data_Analysis.ipynb\r\n",
      "3.1 Clustering analysis and PCA.ipynb\r\n",
      "3.2 Differential gene expression analysis with GORilla.ipynb\r\n",
      "3.3 Calling differentially expressed peaks with DESeq2.ipynb\r\n",
      "3.4 GO Term Enrichment.ipynb\r\n",
      "3.5 Install Missing R packages.ipynb\r\n",
      "images\r\n",
      "pc1_contribs.ascending.geneonly.txt\r\n",
      "pc1_contribs.descending.geneonly.txt\r\n",
      "peaks2genes.bed\r\n",
      "qc_analysis\r\n"
     ]
    }
   ],
   "source": [
    "ls ~/training_camp/workflow_notebooks"
   ]
  },
  {
   "cell_type": "markdown",
   "metadata": {},
   "source": [
    "Exercise: copy & paste the lists of genes into GOrilla (http://cbl-gorilla.cs.technion.ac.il/) to discover over-represented GO terms."
   ]
  },
  {
   "cell_type": "markdown",
   "metadata": {
    "collapsed": true
   },
   "source": [
    "Exercis: Repeat the above analysis for genes contributing to PC2 and PC3. "
   ]
  }
 ],
 "metadata": {
  "kernelspec": {
   "display_name": "Bash",
   "language": "bash",
   "name": "bash"
  },
  "language_info": {
   "codemirror_mode": "shell",
   "file_extension": ".sh",
   "mimetype": "text/x-sh",
   "name": "bash"
  }
 },
 "nbformat": 4,
 "nbformat_minor": 0
}
