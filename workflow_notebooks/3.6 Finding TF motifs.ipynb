{
 "cells": [
  {
   "cell_type": "markdown",
   "metadata": {},
   "source": [
    "# 3.6 Finding TF motifs # "
   ]
  },
  {
   "cell_type": "markdown",
   "metadata": {},
   "source": [
    "### IMPORTANT: Please make sure that you are using the bash kernel to run this notebook. ###\n"
   ]
  },
  {
   "cell_type": "code",
   "execution_count": 1,
   "metadata": {
    "collapsed": false
   },
   "outputs": [
    {
     "name": "stdout",
     "output_type": "stream",
     "text": []
    }
   ],
   "source": [
    "### Set up variables storing the location of our data\n",
    "### The proper way to load your variables is with the ~/.bashrc command, but this is very slow in iPython \n",
    "export SUNETID=\"$(whoami)\"\n",
    "export WORK_DIR=\"/srv/scratch/training_camp/work/${SUNETID}\"\n",
    "export DATA_DIR=\"${WORK_DIR}/data\"\n",
    "[[ ! -d ${WORK_DIR}/data ]] && mkdir \"${WORK_DIR}/data\"\n",
    "export SRC_DIR=\"${WORK_DIR}/src\"\n",
    "[[ ! -d ${WORK_DIR}/src ]] && mkdir -p \"${WORK_DIR}/src\"\n",
    "export METADATA_DIR=\"/srv/scratch/training_camp/metadata\"\n",
    "export AGGREGATE_DATA_DIR=\"/srv/scratch/training_camp/data\"\n",
    "export AGGREGATE_ANALYSIS_DIR=\"/srv/scratch/training_camp/aggregate_analysis\"\n",
    "export YEAST_DIR=\"/srv/scratch/training_camp/saccer3\"\n",
    "export TMP=\"${WORK_DIR}/tmp\"\n",
    "export TEMP=$TMP\n",
    "export TMPDIR=$TMP\n",
    "[[ ! -d ${TMP} ]] && mkdir -p \"${TMP}\"\n",
    "\n"
   ]
  },
  {
   "cell_type": "markdown",
   "metadata": {},
   "source": [
    "In this tutorial, we will focus on identifying motifs in the ATAC-seq peaks: \n",
    "![Analysis pipeline](images/part6.png)"
   ]
  },
  {
   "cell_type": "code",
   "execution_count": 2,
   "metadata": {
    "collapsed": false
   },
   "outputs": [
    {
     "name": "stdout",
     "output_type": "stream",
     "text": []
    }
   ],
   "source": [
    "cd $WORK_DIR"
   ]
  },
  {
   "cell_type": "markdown",
   "metadata": {},
   "source": [
    "We will look for TF motifs in the differentially open  chromatin regions we have identified. Pick one of the following files to check for motif enrichment: \n",
    "\n",
    "* Media_YPD_vs_YPGE.differential.txt  \n",
    "* Strain_WT_vs_asdf1.differential.txt\n",
    "* Strain_WT_vs_rtt109.differential.txt  \n",
    "* Strain_asf1_vs_rtt109.differential.txt\n",
    "\n",
    "\n"
   ]
  },
  {
   "cell_type": "markdown",
   "metadata": {},
   "source": [
    "We will use HOMER (http://homer.ucsd.edu/homer/) to search for enriched motifs. First, we load the module for homer:"
   ]
  },
  {
   "cell_type": "code",
   "execution_count": 3,
   "metadata": {
    "collapsed": false
   },
   "outputs": [
    {
     "name": "stdout",
     "output_type": "stream",
     "text": []
    }
   ],
   "source": [
    "module load homer "
   ]
  },
  {
   "cell_type": "code",
   "execution_count": 4,
   "metadata": {
    "collapsed": false
   },
   "outputs": [
    {
     "name": "stdout",
     "output_type": "stream",
     "text": [
      "Currently Loaded Modulefiles:\r\n",
      "  1) homer/default\r\n"
     ]
    }
   ],
   "source": [
    "module list"
   ]
  },
  {
   "cell_type": "markdown",
   "metadata": {
    "collapsed": false
   },
   "source": [
    "The specific HOMER command we will use is `findMotifsGenome.pl`. Let's see the inputs and outputs needed by this command:"
   ]
  },
  {
   "cell_type": "code",
   "execution_count": 5,
   "metadata": {
    "collapsed": false
   },
   "outputs": [
    {
     "name": "stdout",
     "output_type": "stream",
     "text": [
      "\r\n",
      "\tProgram will find de novo and known motifs in regions in the genome\r\n",
      "\r\n",
      "\tUsage: findMotifsGenome.pl <pos file> <genome> <output directory> [additional options]\r\n",
      "\tExample: findMotifsGenome.pl peaks.txt mm8r peakAnalysis -size 200 -len 8\r\n",
      "\r\n",
      "\tPossible Genomes:\r\n",
      "\t\t\t-- or --\r\n",
      "\t\tCustom: provide the path to genome FASTA files (directory or single file)\r\n",
      "\t\t\tHeads up: will create the directory \"preparsed/\" in same location.\r\n",
      "\r\n",
      "\tBasic options:\r\n",
      "\t\t-mask (mask repeats/lower case sequence, can also add 'r' to genome, i.e. mm9r)\r\n",
      "\t\t-bg <background position file> (genomic positions to be used as background, default=automatic)\r\n",
      "\t\t\tremoves background positions overlapping with target positions\r\n",
      "\t\t\t-chopify (chop up large background regions to the avg size of target regions)\r\n",
      "\t\t-len <#>[,<#>,<#>...] (motif length, default=8,10,12) [NOTE: values greater 12 may cause the program\r\n",
      "\t\t\tto run out of memory - in these cases decrease the number of sequences analyzed (-N),\r\n",
      "\t\t\tor try analyzing shorter sequence regions (i.e. -size 100)]\r\n",
      "\t\t-size <#> (fragment size to use for motif finding, default=200)\r\n",
      "\t\t\t-size <#,#> (i.e. -size -100,50 will get sequences from -100 to +50 relative from center)\r\n",
      "\t\t\t-size given (uses the exact regions you give it)\r\n",
      "\t\t-S <#> (Number of motifs to optimize, default: 25)\r\n",
      "\t\t-mis <#> (global optimization: searches for strings with # mismatches, default: 2)\r\n",
      "\t\t-norevopp (don't search reverse strand for motifs)\r\n",
      "\t\t-nomotif (don't search for de novo motif enrichment)\r\n",
      "\t\t-rna (output RNA motif logos and compare to RNA motif database, automatically sets -norevopp)\r\n",
      "\r\n",
      "\tScanning sequence for motifs\r\n",
      "\t\t-find <motif file> (This will cause the program to only scan for motifs)\r\n",
      "\r\n",
      "\tKnown Motif Options/Visualization\r\n",
      "\t\t-mset <vertebrates|insects|worms|plants|yeast|all> (check against motif collects, default: auto)\r\n",
      "\t\t-basic (just visualize de novo motifs, don't check similarity with known motifs)\r\n",
      "\t\t-bits (scale sequence logos by information content, default: doesn't scale)\r\n",
      "\t\t-nocheck (don't search for de novo vs. known motif similarity)\r\n",
      "\t\t-mcheck <motif file> (known motifs to check against de novo motifs,\r\n",
      "\t\t-noknown (don't search for known motif enrichment, default: -known)\r\n",
      "\t\t-mknown <motif file> (known motifs to check for enrichment,\r\n",
      "\t\t-nofacts (omit humor)\r\n",
      "\r\n",
      "\tSequence normalization options:\r\n",
      "\t\t-gc (use GC% for sequence content normalization, now the default)\r\n",
      "\t\t-cpg (use CpG% instead of GC% for sequence content normalization)\r\n",
      "\t\t-noweight (no CG correction)\r\n",
      "\t\tAlso -nlen <#>, -olen <#>, see homer2 section below.\r\n",
      "\r\n",
      "\tAdvanced options:\r\n",
      "\t\t-h (use hypergeometric for p-values, binomial is default)\r\n",
      "\t\t-N <#> (Number of sequences to use for motif finding, default=max(50k, 2x input)\r\n",
      "\t\t-local <#> (use local background, # of equal size regions around peaks to use i.e. 2)\r\n",
      "\t\t-redundant <#> (Remove redundant sequences matching greater than # percent, i.e. -redundant 0.5)\r\n",
      "\t\t-maxN <#> (maximum percentage of N's in sequence to consider for motif finding, default: 0.7)\r\n",
      "\t\t-maskMotif <motif file1> [motif file 2]... (motifs to mask before motif finding)\r\n",
      "\t\t-opt <motif file1> [motif file 2]... (motifs to optimize or change length of)\r\n",
      "\t\t-rand (randomize target and background sequences labels)\r\n",
      "\t\t-ref <peak file> (use file for target and background - first argument is list of peak ids for targets)\r\n",
      "\t\t-oligo (perform analysis of individual oligo enrichment)\r\n",
      "\t\t-dumpFasta (Dump fasta files for target and background sequences for use with other programs)\r\n",
      "\t\t-preparse (force new background files to be created)\r\n",
      "\t\t-preparsedDir <directory> (location to search for preparsed file and/or place new files)\r\n",
      "\t\t-keepFiles (keep temporary files)\r\n",
      "\t\t-fdr <#> (Calculate empirical FDR for de novo discovery #=number of randomizations)\r\n",
      "\r\n",
      "\thomer2 specific options:\r\n",
      "\t\t-homer2 (use homer2 instead of original homer, default)\r\n",
      "\t\t-nlen <#> (length of lower-order oligos to normalize in background, default: -nlen 3)\r\n",
      "\t\t\t-nmax <#> (Max normalization iterations, default: 160)\r\n",
      "\t\t\t-neutral (weight sequences to neutral frequencies, i.e. 25%, 6.25%, etc.)\r\n",
      "\t\t-olen <#> (lower-order oligo normalization for oligo table, use if -nlen isn't working well)\r\n",
      "\t\t-p <#> (Number of processors to use, default: 1)\r\n",
      "\t\t-e <#> (Maximum expected motif instance per bp in random sequence, default: 0.01)\r\n",
      "\t\t-cache <#> (size in MB for statistics cache, default: 500)\r\n",
      "\t\t-quickMask (skip full masking after finding motifs, similar to original homer)\r\n",
      "\t\t-minlp <#> (stop looking for motifs when seed logp score gets above #, default: -10)\r\n",
      "\r\n",
      "\tOriginal homer specific options:\r\n",
      "\t\t-homer1 (to force the use of the original homer)\r\n",
      "\t\t-depth [low|med|high|allnight] (time spent on local optimization default: med)\r\n",
      "\r\n"
     ]
    }
   ],
   "source": [
    "findMotifsGenome.pl --help"
   ]
  },
  {
   "cell_type": "markdown",
   "metadata": {},
   "source": [
    "The **pos** file is our list of differential peaks. \n",
    "\n",
    "**genome** is the fasta file containing the yeast genome. \n",
    "\n",
    "**output dir** is the output directory where HOMER outputs will be stored. \n",
    "\n",
    "We leave all other values at their defaults. \n"
   ]
  },
  {
   "cell_type": "code",
   "execution_count": null,
   "metadata": {
    "collapsed": false
   },
   "outputs": [],
   "source": [
    "findMotifsGenome.pl $WORK_DIR/Media_YPD_vs_YPGE.differential.txt $YEAST_DIR/sacCer3.fa ~/training_camp/workflow_notebooks/homer_output"
   ]
  },
  {
   "cell_type": "markdown",
   "metadata": {},
   "source": [
    "We can examine the contents of the homer_output folder in the browser. "
   ]
  }
 ],
 "metadata": {
  "kernelspec": {
   "display_name": "Bash",
   "language": "bash",
   "name": "bash"
  },
  "language_info": {
   "codemirror_mode": "shell",
   "file_extension": ".sh",
   "mimetype": "text/x-sh",
   "name": "bash"
  }
 },
 "nbformat": 4,
 "nbformat_minor": 0
}
