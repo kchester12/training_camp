{
 "cells": [
  {
   "cell_type": "markdown",
   "metadata": {},
   "source": [
    "# The metadata file #"
   ]
  },
  {
   "cell_type": "markdown",
   "metadata": {},
   "source": [
    "This is a short section, but given its importance, it gets its own page on the wiki.\n",
    "\n",
    "For every project you work on, it is absolutely essential to have a metadata sheet describing your data, and use it every time you perform operations on your data. You should NEVER perform operations involving multiple data files in your data \"by hand\", because that is NOT reproducible research.\n",
    "\n",
    "\n",
    "In our experiment we are examining the following conditions:  \n",
    "\n",
    "* yeast strain (WT, whi5, cln3)\n",
    "* media (fructose, glucose, ethanol)\n",
    "\n",
    "There are two replicates for each combination of conditions listed above.\n",
    "\n"
   ]
  },
  {
   "cell_type": "markdown",
   "metadata": {},
   "source": [
    "For instance, in our project, the metadata file is located at **$METADATA_DIR/TC2017_samples.tsv** "
   ]
  },
  {
   "cell_type": "markdown",
   "metadata": {},
   "source": [
    "|  Sample   |  Index2       |  Index1      | \n",
    "|------------------------|--------|--------| \n",
    "| WT-SCE-Rep1            | N501   | N701   | \n",
    "| whi5-SCE-Rep1          | N501   | N702   | \n",
    "| cln3-SCE-Rep1          | N501   | N703   | \n",
    "| whi5 cln3-SCE-Rep1     | N501   | N704   | \n",
    "| whi5-SCE-0.6MNaCl-Rep1 | N501   | N705   | \n",
    "| cln3-SCE-0.6MNaCl-Rep1 | N501   | N706   | \n",
    "| whi5-SCD-Rep1          | N501   | N707   | \n",
    "| cln3-SCD-Rep1          | N501   | N708   | \n",
    "| whi5-SCD-0.6MNaCl-Rep1 | N501   | N711   | \n",
    "| cln3-SCD-0.6MNaCl-Rep1 | N501   | N710   | \n",
    "| WT-SCE-Rep2            | N502   | N701   | \n",
    "| whi5-SCE-Rep2          | N502   | N702   | \n",
    "| cln3-SCE-Rep2          | N502   | N703   | \n",
    "| whi5 cln3-SCE-Rep2     | N502   | N704   | \n",
    "| whi5-SCE-0.6MNaCl-Rep2 | N502   | N705   | \n",
    "| cln3-SCE-0.6MNaCl-Rep2 | N502   | N706   | \n",
    "| whi5-SCD-Rep2          | N502   | N707   | \n",
    "| cln3-SCD-Rep2          | N502   | N708   | \n",
    "| whi5-SCD-0.6MNaCl-Rep2 | N502   | N711   | \n",
    "| cln3-SCD-0.6MNaCl-Rep2 | N502   | N710   | \n"
   ]
  },
  {
   "cell_type": "markdown",
   "metadata": {},
   "source": [
    "You will see that the names of your sequencing files follow the format SampleName_L001_R1_001.fastq or SampleName_L001_R2_001.fastq."
   ]
  },
  {
   "cell_type": "markdown",
   "metadata": {},
   "source": [
    "## When will we use the metadata file? ##"
   ]
  },
  {
   "cell_type": "markdown",
   "metadata": {},
   "source": [
    "We will be using this metadata file when we merge the replicates corresponding to each condition."
   ]
  },
  {
   "cell_type": "markdown",
   "metadata": {
    "collapsed": true
   },
   "source": [
    "In case the data quality is suboptimal, the instructors did a 'pilot' run prior to the start of this course. The corresponding metadata file is: "
   ]
  },
  {
   "cell_type": "markdown",
   "metadata": {},
   "source": [
    "| Sample_ID  | Index1 | Index1Sequence | Index2 | Index2Sequence | \n",
    "|------------|--------|----------------|--------|----------------| \n",
    "| MS1_SCE_1  | N701   | TAAGGCGA       | N503   | TATCCTCT       | \n",
    "| MS49_SCE_1 | N702   | CGTACTAG       | N503   | TATCCTCT       | \n",
    "| MS51_SCE_1 | N703   | AGGCAGAA       | N503   | TATCCTCT       | \n",
    "| MS1_SCE_2  | N704   | TCCTGAGC       | N503   | TATCCTCT       | \n",
    "| MS49_SCE_2 | N705   | GGACTCCT       | N503   | TATCCTCT       | \n",
    "| MS51_SCE_2 | N706   | TAGGCATG       | N503   | TATCCTCT       | \n",
    "| MS1_SCD_1  | N701   | TAAGGCGA       | N504   | AGAGTAGA       | \n",
    "| MS49_SCD_1 | N702   | CGTACTAG       | N504   | AGAGTAGA       | \n",
    "| MS51_SCD_1 | N703   | AGGCAGAA       | N504   | AGAGTAGA       | \n",
    "| MS1_SCD_2  | N704   | TCCTGAGC       | N504   | AGAGTAGA       | \n",
    "| MS49_SCD_2 | N705   | GGACTCCT       | N504   | AGAGTAGA       | \n",
    "| MS51_SCD_2 | N706   | TAGGCATG       | N504   | AGAGTAGA       | \n"
   ]
  },
  {
   "cell_type": "markdown",
   "metadata": {
    "collapsed": true
   },
   "source": [
    "## Analysis Overview"
   ]
  },
  {
   "cell_type": "markdown",
   "metadata": {},
   "source": [
    "![Analysis Pipeline](tc2017_pipeline.png)"
   ]
  },
  {
   "cell_type": "code",
   "execution_count": null,
   "metadata": {
    "collapsed": true
   },
   "outputs": [],
   "source": []
  }
 ],
 "metadata": {
  "kernelspec": {
   "display_name": "Bash",
   "language": "bash",
   "name": "bash"
  },
  "language_info": {
   "codemirror_mode": "shell",
   "file_extension": ".sh",
   "mimetype": "text/x-sh",
   "name": "bash"
  }
 },
 "nbformat": 4,
 "nbformat_minor": 1
}
