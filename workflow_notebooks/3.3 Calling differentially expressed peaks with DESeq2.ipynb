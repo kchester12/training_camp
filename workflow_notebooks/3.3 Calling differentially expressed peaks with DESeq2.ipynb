{
 "cells": [
  {
   "cell_type": "markdown",
   "metadata": {},
   "source": [
    "# 3.3 Calling differentially expressed peaks with DESeq2"
   ]
  },
  {
   "cell_type": "markdown",
   "metadata": {},
   "source": [
    "### IMPORTANT: Please make sure that you are using the bash kernel to run this notebook. ###\n"
   ]
  },
  {
   "cell_type": "code",
   "execution_count": 2,
   "metadata": {
    "collapsed": false
   },
   "outputs": [
    {
     "name": "stdout",
     "output_type": "stream",
     "text": []
    }
   ],
   "source": []
  },
  {
   "cell_type": "markdown",
   "metadata": {},
   "source": [
    "In this tutorial, we will focus on calling differential peaks: \n",
    "![Analysis pipeline](part4.png)"
   ]
  },
  {
   "cell_type": "markdown",
   "metadata": {},
   "source": [
    "## Missing R packages "
   ]
  },
  {
   "cell_type": "markdown",
   "metadata": {},
   "source": [
    "When running the scripts in this section, if you get an error saying the gplots package has not been installed, you can install the package locally by  running the **3.5 Install R packages** notebook."
   ]
  },
  {
   "cell_type": "markdown",
   "metadata": {
    "collapsed": true
   },
   "source": [
    "## Running DESeq"
   ]
  },
  {
   "cell_type": "markdown",
   "metadata": {},
   "source": [
    "We run DESeq with 5 comparisons (which we call \"contrasts\"): \n",
    "* Media \n",
    "    * SCD vs SCE\n",
    "* Salt \n",
    "    * 1 vs 0 , where 1 = salt used, 0 = no salt used\n",
    "* Strain: \n",
    "    * WT vs cln3 \n",
    "    * WT vs whi5\n",
    "    * WT vs whi5cnl3\n",
    "   "
   ]
  },
  {
   "cell_type": "code",
   "execution_count": 3,
   "metadata": {
    "collapsed": false
   },
   "outputs": [
    {
     "name": "stdout",
     "output_type": "stream",
     "text": [
      "Loading required package: S4Vectors\r\n",
      "Loading required package: methods\r\n",
      "Loading required package: stats4\r\n",
      "Loading required package: BiocGenerics\r\n",
      "Loading required package: parallel\r\n",
      "\r\n",
      "Attaching package: ‘BiocGenerics’\r\n",
      "\r\n",
      "The following objects are masked from ‘package:parallel’:\r\n",
      "\r\n",
      "    clusterApply, clusterApplyLB, clusterCall, clusterEvalQ,\r\n",
      "    clusterExport, clusterMap, parApply, parCapply, parLapply,\r\n",
      "    parLapplyLB, parRapply, parSapply, parSapplyLB\r\n",
      "\r\n",
      "The following objects are masked from ‘package:stats’:\r\n",
      "\r\n",
      "    IQR, mad, xtabs\r\n",
      "\r\n",
      "The following objects are masked from ‘package:base’:\r\n",
      "\r\n",
      "    anyDuplicated, append, as.data.frame, cbind, colnames, do.call,\r\n",
      "    duplicated, eval, evalq, Filter, Find, get, grep, grepl, intersect,\r\n",
      "    is.unsorted, lapply, lengths, Map, mapply, match, mget, order,\r\n",
      "    paste, pmax, pmax.int, pmin, pmin.int, Position, rank, rbind,\r\n",
      "    Reduce, rownames, sapply, setdiff, sort, table, tapply, union,\r\n",
      "    unique, unsplit\r\n",
      "\r\n",
      "\r\n",
      "Attaching package: ‘S4Vectors’\r\n",
      "\r\n",
      "The following objects are masked from ‘package:base’:\r\n",
      "\r\n",
      "    colMeans, colSums, expand.grid, rowMeans, rowSums\r\n",
      "\r\n",
      "Loading required package: IRanges\r\n",
      "Loading required package: GenomicRanges\r\n",
      "Loading required package: GenomeInfoDb\r\n",
      "Loading required package: SummarizedExperiment\r\n",
      "Loading required package: Biobase\r\n",
      "Welcome to Bioconductor\r\n",
      "\r\n",
      "    Vignettes contain introductory material; view with\r\n",
      "    'browseVignettes()'. To cite Bioconductor, see\r\n",
      "    'citation(\"Biobase\")', and for packages 'citation(\"pkgname\")'.\r\n",
      "\r\n",
      "estimating size factors\r\n",
      "estimating dispersions\r\n",
      "gene-wise dispersion estimates: 4 workers\r\n",
      "mean-dispersion relationship\r\n",
      "final dispersion estimates, fitting model and testing: 4 workers\r\n"
     ]
    }
   ],
   "source": [
    "#create a directory to store the DeSeq output \n",
    "DESEQ_DIR=\"${ANALYSIS_DIR}deseq/\"\n",
    "[[ ! -d $DESEQ_DIR ]] && mkdir -p \"$DESEQ_DIR\"\n",
    "\n",
    "Rscript $SRC_DIR/runDESeqTrainingCamp.r $MASTER_DATA/counts.filtered.tab $MASTER_DATA/batches.deseq2.txt $DESEQ_DIR"
   ]
  },
  {
   "cell_type": "markdown",
   "metadata": {},
   "source": [
    "This code will generate 5 pairs of files: \n",
    "\n",
    "* DEMedia_SCD_vs_SCE.txt  \n",
    "* Media_SCD_vs_SCE.txt.sigPeakNames  \n",
    "\n",
    "\n",
    "* Salt_1_vs_0.txt  \n",
    "* DESalt_1_vs_0.txt.sigPeakNames  \n",
    "\n",
    "\n",
    "* Strain_WT_vs_cln3.txt  \n",
    "* DEStrain_WT_vs_cln3.txt.sigPeakNames\n",
    "\n",
    "\n",
    "* Strain_WT_vs_whi5.txt  \n",
    "* DEStrain_WT_vs_whi5.txt.sigPeakNames  \n",
    "\n",
    "\n",
    "* Strain_WT_vs_whi5cln3.txt\n",
    "* DEStrain_WT_vs_whi5cln3.txt.sigPeakNames\n",
    "\n",
    "\n",
    "The first is the raw output from DESeq for all peaks. We will not have time to discuss everything in this file, but feel free to read the DESeq manual and see if you can understand it. The second, which ends in “sigPeakNames,” contains a list of the IDs of the differentially open peaks from ATAC‐seq. The p‐value cutoff for differential openness that we use is 0.05. You can examine the content of these files with the following commands: "
   ]
  },
  {
   "cell_type": "code",
   "execution_count": 4,
   "metadata": {
    "collapsed": false
   },
   "outputs": [
    {
     "name": "stdout",
     "output_type": "stream",
     "text": [
      "baseMean\tlog2FoldChange\tlfcSE\tstat\tpvalue\tpadj\r\n",
      "chrI_0_156422\t26084.7015972314\t0.181049014703123\t1.96988531736345\t0.0919084035538903\t0.926770814654233\t0.999384634705468\r\n",
      "chrI_156464_156851\t44.9589928934705\t0.501374031244778\t1.33779989187538\t0.374775057383159\t0.707827765824978\t0.999384634705468\r\n",
      "chrI_157271_157456\t19.9526780442076\t0.645956988548164\t1.31637284527805\t0.490709749039012\t0.623631750219979\t0.999384634705468\r\n",
      "chrI_157831_157984\t9.07390983920557\t1.06394540998462\t1.22506164250447\t0.868483162863159\t0.385129885681319\t0.971104364520846\r\n",
      "chrI_158496_158893\t72.6942074836576\t-0.00515400304259715\t1.38361186260075\t-0.00372503530933109\t0.997027858711757\t0.999384634705468\r\n",
      "chrI_159448_159806\t42.7643467784961\t0.126253276130358\t1.38680152762531\t0.0910391816098931\t0.927461457885821\t0.999384634705468\r\n",
      "chrI_159903_160189\t47.6945001293688\t0.316446635561479\t1.50658461983367\t0.210042390845868\t0.833634587815822\t0.999384634705468\r\n",
      "chrI_166115_166931\t289.860262308754\t0.96948968596705\t1.54029269561973\t0.629419128405968\t0.529074698264574\t0.999384634705468\r\n",
      "chrI_167935_168290\t30.9297422553895\t0.779988464123664\t1.42841529791585\t0.546051603662965\t0.585030465720993\t0.999384634705468\r\n",
      "chrI_168652_169265\t153.385846913616\t-0.0301469909949168\t1.47417004305147\t-0.0204501449049349\t0.983684282350531\t0.999384634705468\r\n",
      "chrI_169376_169649\t28.1926078025876\t0.332228828580896\t1.27974735575818\t0.259605012728523\t0.79516846927721\t0.999384634705468\r\n",
      "chrI_170831_171106\t36.9716175984502\t0.891795581713349\t1.43640847766328\t0.620850959585051\t0.534697690277321\t0.999384634705468\r\n",
      "chrI_171885_172035\t20.5449198723827\t0.115856361946979\t1.24958621241425\t0.0927157812690171\t0.926129359376501\t0.999384634705468\r\n",
      "chrI_173949_174271\t24.5924956250774\t0.68740518994236\t1.43424863423321\t0.479278957312632\t0.631740189982135\t0.999384634705468\r\n",
      "chrI_174477_174755\t41.940734454692\t0.188848568965495\t1.33063274417781\t0.141923885303291\t0.887140127541489\t0.999384634705468\r\n",
      "chrI_174984_175482\t108.829294823943\t-0.0943485603006698\t1.44745993228191\t-0.0651821568227662\t0.948028967706056\t0.999384634705468\r\n",
      "chrI_177103_177872\t149.634874073092\t0.66739421535073\t1.47759447070741\t0.451676172712807\t0.651502285927605\t0.999384634705468\r\n",
      "chrI_179227_179409\t17.3747600669843\t0.799807796898057\t1.33438385959739\t0.599383596515753\t0.548917113061874\t0.999384634705468\r\n",
      "chrI_179752_179902\t15.2610627942489\t-0.00455931972922338\t1.33549625905936\t-0.00341395170394163\t0.997276065935371\t0.999384634705468\r\n"
     ]
    }
   ],
   "source": [
    "head -n20 $DESEQ_DIR/Media_SCD_vs_SCE.txt\n",
    "#head -n20 $DESEQ_DIR/Salt_1_vs_0.txt\n",
    "#head -n20 $DESEQ_DIR/Strain_WT_vs_cln3.txt\n",
    "#head -n20 $DESEQ_DIR/Strain_WT_vs_whi5.txt\n",
    "#head -n20 $DESEQ_DIR/Strain_WT_vs_whi5cln3.txt\n"
   ]
  },
  {
   "cell_type": "code",
   "execution_count": 6,
   "metadata": {
    "collapsed": false
   },
   "outputs": [
    {
     "name": "stdout",
     "output_type": "stream",
     "text": [
      "chrIV\t1515148\t1515306\r\n",
      "chrIV\t1516434\t1516627\r\n",
      "chrIX\t421454\t422802\r\n",
      "chrIX\t426990\t427998\r\n",
      "chrIX\t430190\t430883\r\n",
      "chrIX\t433561\t433834\r\n",
      "chrIX\t435365\t435534\r\n",
      "chrV\t561740\t561981\r\n",
      "chrVII\t1062872\t1063078\r\n",
      "chrVII\t1066835\t1067137\r\n",
      "chrX\t657235\t657746\r\n",
      "chrX\t667155\t667367\r\n",
      "chrX\t704762\t705655\r\n",
      "chrXI\t481814\t481986\r\n",
      "chrXI\t490886\t491632\r\n",
      "chrXI\t517827\t517992\r\n",
      "chrXI\t558757\t558930\r\n",
      "chrXI\t630070\t631067\r\n",
      "chrXII\t0\t455655\r\n",
      "chrXV\t1073696\t1074118\r\n"
     ]
    }
   ],
   "source": [
    "head -n20 $DESEQ_DIR/DEMedia_SCD_vs_SCE.txt.sigPeakNames\n",
    "#head -n20 $DESEQ_DIR/DESalt_1_vs_0.txt.sigPeakNames\n",
    "#head -n20 $DESEQ_DIR/DEStrain_WT_vs_cln3.txt.sigPeakNames\n",
    "#head -n20 $DESEQ_DIR/DEStrain_WT_vs_whi5.txt.sigPeakNames\n",
    "#head -n20 $DESEQ_DIR/DEStrain_WT_vs_whi5cln3.txt.sigPeakNames"
   ]
  },
  {
   "cell_type": "code",
   "execution_count": null,
   "metadata": {
    "collapsed": true
   },
   "outputs": [],
   "source": []
  }
 ],
 "metadata": {
  "kernelspec": {
   "display_name": "Bash",
   "language": "bash",
   "name": "bash"
  },
  "language_info": {
   "codemirror_mode": "shell",
   "file_extension": ".sh",
   "mimetype": "text/x-sh",
   "name": "bash"
  }
 },
 "nbformat": 4,
 "nbformat_minor": 0
}
