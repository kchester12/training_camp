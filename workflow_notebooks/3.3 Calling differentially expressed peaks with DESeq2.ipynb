{
 "cells": [
  {
   "cell_type": "markdown",
   "metadata": {},
   "source": [
    "# 3.3 Calling differentially expressed peaks with DESeq2"
   ]
  },
  {
   "cell_type": "markdown",
   "metadata": {},
   "source": [
    "### IMPORTANT: Please make sure that you are using the R kernel to run this notebook. ###\n"
   ]
  },
  {
   "cell_type": "markdown",
   "metadata": {},
   "source": [
    "In this tutorial, we will focus on calling differential peaks: \n",
    "![Analysis pipeline](images/part4.png)"
   ]
  },
  {
   "cell_type": "markdown",
   "metadata": {},
   "source": [
    "## Missing R packages "
   ]
  },
  {
   "cell_type": "markdown",
   "metadata": {},
   "source": [
    "When running the scripts in this section, if you get an error saying the gplots package has not been installed, you can install the package locally by  running the **3.5 Install R packages** notebook."
   ]
  },
  {
   "cell_type": "markdown",
   "metadata": {
    "collapsed": true
   },
   "source": [
    "## Running DESeq"
   ]
  },
  {
   "cell_type": "markdown",
   "metadata": {},
   "source": [
    "DESeq(https://bioconductor.org/packages/release/bioc/html/DESeq2.html) uses read count data, such as in our matrix **all.readcount.txt**, to estimate differential gene expression across conditions specified in a metdata file.  We run DESeq with 4 comparisons (which we call \"contrasts\"): \n",
    "* Media \n",
    "    * glucose vs ethanol\n",
    "* Strain: \n",
    "    *  WT vs asf1\n",
    "    *  WT vs rtt109\n",
    "    *  asf1 vs rtt109 \n",
    "   "
   ]
  },
  {
   "cell_type": "code",
   "execution_count": null,
   "metadata": {
    "collapsed": true
   },
   "outputs": [],
   "source": [
    "#change to your working directory \n",
    "username=\"ubuntu\"\n",
    "setwd(paste(\"/srv/scratch/training_camp/work/\",username,sep=\"\"))"
   ]
  },
  {
   "cell_type": "code",
   "execution_count": null,
   "metadata": {
    "collapsed": false
   },
   "outputs": [],
   "source": [
    "#load the DESeq2 library\n",
    "library(DESeq2,quietly = TRUE)\n"
   ]
  },
  {
   "cell_type": "code",
   "execution_count": null,
   "metadata": {
    "collapsed": false
   },
   "outputs": [],
   "source": [
    "#We read in the counts data matrix and the metdata matrix in the same manner as we did in tutorial 3.1 \n",
    "#load the read count matrix\n",
    "count_data=read.table(\"all.readcount.txt\",header=TRUE)\n",
    "rownames(count_data)=paste(count_data$Chrom,count_data$Start,count_data$End,sep='\\t')\n",
    "#remove the columns we will not use \n",
    "count_data$Chrom=NULL\n",
    "count_data$Start=NULL\n",
    "count_data$End=NULL\n",
    "count_data$ID=NULL\n",
    "#We mustn't forget to swap the sample columns for \"jkcheng_rtt109_YPGE_3\" and \"jkcheng_WT_YPD_3\"\n",
    "count_data$tmp1=count_data$jkcheng_rtt109_YPGE_3\n",
    "count_data$tmp2=count_data$jkcheng_WT_YPD_3\n",
    "count_data$jkcheng_rtt109_YPGE_3=count_data$tmp2\n",
    "count_data$jkcheng_WT_YPD_3=count_data$tmp1\n",
    "count_data$tmp1=NULL\n",
    "count_data$tmp2=NULL\n",
    "\n",
    "head(count_data)"
   ]
  },
  {
   "cell_type": "code",
   "execution_count": null,
   "metadata": {
    "collapsed": false
   },
   "outputs": [],
   "source": [
    "metadata=read.table(\"/srv/scratch/training_camp/metadata/TC2018_samples.tsv\",header=TRUE)\n",
    "#We use the \"factor\" function to tell R which variables are categorical rather than continuous \n",
    "metadata$Strain=factor(metadata$Strain)\n",
    "metadata$Media=factor(metadata$Media)\n",
    "metadata$Researcher=factor(metadata$Researcher)\n",
    "#we don't need the other metadata columns for this analysis \n",
    "metadata$Sample=NULL\n",
    "metadata$Replicate=NULL\n",
    "rownames(metadata)=metadata$ID\n",
    "metadata$ID=NULL\n",
    "metadata$ResearcherIntended=NULL\n",
    "metadata$Confounding=NULL\n",
    "metadata$Lane=NULL\n",
    "#make sure the rows in metadata match the order of the columns in count_data \n",
    "metadata=metadata[names(count_data),]\n",
    "head(metadata)"
   ]
  },
  {
   "cell_type": "code",
   "execution_count": null,
   "metadata": {
    "collapsed": true
   },
   "outputs": [],
   "source": [
    "#We set threshold for determining differential expression \n",
    "padjust_thresh=0.05 \n"
   ]
  },
  {
   "cell_type": "code",
   "execution_count": null,
   "metadata": {
    "collapsed": false
   },
   "outputs": [],
   "source": [
    "#create a DESeq2 object with the data, metadata, and model information \n",
    "ddsMat=DESeqDataSetFromMatrix(countData=as.matrix(count_data),\n",
    "                            colData=metadata,\n",
    "                            design=~Strain+Media+Researcher)\n"
   ]
  },
  {
   "cell_type": "code",
   "execution_count": null,
   "metadata": {
    "collapsed": false
   },
   "outputs": [],
   "source": [
    "#Run DESeq2 analysis \n",
    "dds<-DESeq(ddsMat)"
   ]
  },
  {
   "cell_type": "code",
   "execution_count": null,
   "metadata": {
    "collapsed": false
   },
   "outputs": [],
   "source": [
    "#We can examine several contrasts in the resulting DESeq2 object\n",
    "resultsNames(dds)"
   ]
  },
  {
   "cell_type": "code",
   "execution_count": null,
   "metadata": {
    "collapsed": true
   },
   "outputs": [],
   "source": [
    "#Specify the contrasts we want to examine (we indicated these above)\n",
    "deseq_contrasts=list(c(\"Media\",\"YPD\",\"YPGE\"),\n",
    "                     c(\"Strain\",\"WT\",\"asf1\"),\n",
    "                     c(\"Strain\",\"WT\",\"rtt109\"),\n",
    "                     c(\"Strain\",\"asf1\",\"rtt109\"))\n",
    "contrast_names=c(\"Media_YPD_vs_YPGE\",\n",
    "        \"Strain_WT_vs_asf1\",\n",
    "        \"Strain_WT_vs_rtt109\",\n",
    "        \"Strain_asf1_vs_rtt109\")\n",
    "\n"
   ]
  },
  {
   "cell_type": "code",
   "execution_count": null,
   "metadata": {
    "collapsed": false
   },
   "outputs": [],
   "source": [
    "#Query the DESeq2 results to find differential peaks for each contrast, using our padjust_thresh and lfc_thresh values.\n",
    "for(contrast_index in seq(1,4))\n",
    "{\n",
    "        comparison_name=unlist(contrast_names[contrast_index])    \n",
    "        print(comparison_name)\n",
    "        ds=results(dds,\n",
    "           contrast=unlist(deseq_contrasts[contrast_index]))\n",
    "        print(ds)\n",
    "        #write  entries for all peaks\n",
    "        write.table(ds,file=paste(comparison_name,\".txt\",sep=\"\"),quote=FALSE,row.names=TRUE,col.names=TRUE,sep='\\t')\n",
    "    \n",
    "        #subset the peak set to just the differential peaks \n",
    "        ds=na.omit(ds)\n",
    "        sig=ds[ds$padj<padjust_thresh,] \n",
    "        peaks_sig=rownames(sig)\n",
    "        head(peaks_sig)\n",
    "        write.table(peaks_sig,\n",
    "                    file=paste(comparison_name,\".differential.txt\",sep=\"\"),\n",
    "                    quote=FALSE,row.names=FALSE,col.names=FALSE,sep='\\t')\n",
    "}\n"
   ]
  },
  {
   "cell_type": "markdown",
   "metadata": {},
   "source": [
    "This code will generate 4 pairs of files: \n",
    "\n",
    "* Media_YPD_vs_YPGE.txt  \n",
    "* Media_YPD_vs_YPGE.differential.txt  \n",
    "\n",
    "\n",
    "* Strain_WT_vs_asf1.txt  \n",
    "* Strain_WT_vs_asdf1.differential.txt\n",
    "\n",
    "\n",
    "* Strain_WT_vs_rtt109.txt  \n",
    "* Strain_WT_vs_rtt109.differential.txt  \n",
    "\n",
    "\n",
    "* Strain_asf1_vs_rtt109.txt\n",
    "* Strain_asf1_vs_rtt109.differential.txt\n",
    "\n",
    "The first is the raw output from DESeq for all peaks. We will not have time to discuss everything in this file, but feel free to read the DESeq manual and see if you can understand it. The second,  contains a list of the IDs of the differentially open peaks from ATAC‐seq. The p‐value cutoff for differential openness that we use is 0.05. You can examine the content of these files with the following commands: "
   ]
  }
 ],
 "metadata": {
  "kernelspec": {
   "display_name": "R",
   "language": "R",
   "name": "ir"
  },
  "language_info": {
   "codemirror_mode": "r",
   "file_extension": ".r",
   "mimetype": "text/x-r-source",
   "name": "R",
   "pygments_lexer": "r",
   "version": "3.5.0"
  }
 },
 "nbformat": 4,
 "nbformat_minor": 0
}
