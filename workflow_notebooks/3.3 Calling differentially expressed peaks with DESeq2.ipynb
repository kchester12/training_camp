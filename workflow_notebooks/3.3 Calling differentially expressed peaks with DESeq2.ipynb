{
 "cells": [
  {
   "cell_type": "markdown",
   "metadata": {},
   "source": [
    "# 3.3 Calling differentially expressed peaks with DESeq2"
   ]
  },
  {
   "cell_type": "markdown",
   "metadata": {},
   "source": [
    "### IMPORTANT: Please make sure that you are using the R kernel to run this notebook. ###\n"
   ]
  },
  {
   "cell_type": "markdown",
   "metadata": {},
   "source": [
    "In this tutorial, we will focus on calling differential peaks: \n",
    "![Analysis pipeline](images/part4.png)"
   ]
  },
  {
   "cell_type": "markdown",
   "metadata": {},
   "source": [
    "## Missing R packages "
   ]
  },
  {
   "cell_type": "markdown",
   "metadata": {},
   "source": [
    "When running the scripts in this section, if you get an error saying the gplots package has not been installed, you can install the package locally by  running the **3.5 Install R packages** notebook."
   ]
  },
  {
   "cell_type": "markdown",
   "metadata": {
    "collapsed": true
   },
   "source": [
    "## Running DESeq"
   ]
  },
  {
   "cell_type": "markdown",
   "metadata": {},
   "source": [
    "DESeq(https://bioconductor.org/packages/release/bioc/html/DESeq2.html) uses read count data, such as in our matrix **all.readcount.txt**, to estimate differential gene expression across conditions specified in a metdata file.  We run DESeq with 4 comparisons (which we call \"contrasts\"): \n",
    "* Media \n",
    "    * glucose vs ethanol\n",
    "* Strain: \n",
    "    *  WT vs asf1\n",
    "    *  WT vs rtt109\n",
    "    *  asf1 vs rtt109 \n",
    "   "
   ]
  },
  {
   "cell_type": "code",
   "execution_count": 34,
   "metadata": {
    "collapsed": true
   },
   "outputs": [],
   "source": [
    "#change to your working directory \n",
    "username=\"ubuntu\"\n",
    "setwd(paste(\"/srv/scratch/training_camp/work/\",username,sep=\"\"))"
   ]
  },
  {
   "cell_type": "code",
   "execution_count": 35,
   "metadata": {
    "collapsed": false
   },
   "outputs": [],
   "source": [
    "#load the DESeq2 library\n",
    "library(DESeq2,quietly = TRUE)\n"
   ]
  },
  {
   "cell_type": "code",
   "execution_count": 36,
   "metadata": {
    "collapsed": false
   },
   "outputs": [
    {
     "data": {
      "text/html": [
       "<table>\n",
       "<thead><tr><th></th><th scope=col>cln3.SCD.0_6MNaCl.Rep1_R1_001</th><th scope=col>cln3.SCD.0_6MNaCl.Rep2_R1_001</th><th scope=col>cln3.SCD.Rep1_R1_001</th><th scope=col>cln3.SCD.Rep2_R1_001</th><th scope=col>cln3.SCE.0_6MNaCl.Rep1_R1_001</th><th scope=col>cln3.SCE.0_6MNaCl.Rep2_R1_001</th><th scope=col>cln3.SCE.Rep1_R1_001</th><th scope=col>cln3.SCE.Rep2_R1_001</th><th scope=col>whi5.cln3.SCE.Rep1_R1_001</th><th scope=col>whi5.cln3.SCE.Rep2_R1_001</th><th scope=col>whi5.SCE.Rep1_R1_001</th><th scope=col>whi5.SCE.Rep2_R1_001</th><th scope=col>WT.SCD.0_6MNaCl.Rep1_R1_001</th><th scope=col>WT.SCD.0_6MNaCl.Rep2_R1_001</th><th scope=col>WT.SCD.Rep1_R1_001</th><th scope=col>WT.SCD.Rep2_R1_001</th><th scope=col>WT.SCE.0_6MNaCl.Rep1_R1_001</th><th scope=col>WT.SCE.0_6MNaCl.Rep2_R1_001</th><th scope=col>WT.SCE.Rep1_R1_001</th><th scope=col>WT.SCE.Rep2_R1_001</th></tr></thead>\n",
       "<tbody>\n",
       "\t<tr><th scope=row>chrI\t0\t781</th><td>0   </td><td>0   </td><td>151 </td><td>191 </td><td> 226</td><td> 158</td><td> 210</td><td>127 </td><td> 292</td><td> 296</td><td> 232</td><td>188 </td><td> 83 </td><td> 246</td><td> 25 </td><td>182 </td><td> 241</td><td> 203</td><td> 9  </td><td> 244</td></tr>\n",
       "\t<tr><th scope=row>chrI\t6332\t6549</th><td>0   </td><td>0   </td><td>537 </td><td>820 </td><td>1342</td><td>1050</td><td>1157</td><td>590 </td><td>1460</td><td>1624</td><td>1562</td><td>713 </td><td>590 </td><td>1585</td><td>115 </td><td>732 </td><td>2227</td><td>2032</td><td>90  </td><td>1230</td></tr>\n",
       "\t<tr><th scope=row>chrI\t9138\t9609</th><td>0   </td><td>0   </td><td>175 </td><td>222 </td><td> 366</td><td> 251</td><td> 304</td><td>160 </td><td> 401</td><td> 483</td><td> 410</td><td>261 </td><td>143 </td><td> 379</td><td> 34 </td><td>220 </td><td> 379</td><td> 383</td><td>17  </td><td> 344</td></tr>\n",
       "\t<tr><th scope=row>chrI\t20611\t21197</th><td>0   </td><td>0   </td><td>249 </td><td>309 </td><td> 369</td><td> 282</td><td> 316</td><td>189 </td><td> 394</td><td> 406</td><td> 322</td><td>314 </td><td>134 </td><td> 342</td><td> 60 </td><td>370 </td><td> 334</td><td> 310</td><td>19  </td><td> 410</td></tr>\n",
       "\t<tr><th scope=row>chrI\t28155\t29092</th><td>0   </td><td>0   </td><td> 50 </td><td> 50 </td><td>  48</td><td>  37</td><td>  42</td><td> 22 </td><td>  57</td><td>  65</td><td>  55</td><td> 72 </td><td> 12 </td><td>  49</td><td>  7 </td><td> 47 </td><td>  65</td><td>  64</td><td> 1  </td><td>  60</td></tr>\n",
       "\t<tr><th scope=row>chrI\t29173\t30197</th><td>0   </td><td>0   </td><td> 88 </td><td>115 </td><td> 215</td><td> 226</td><td> 225</td><td>129 </td><td> 241</td><td> 390</td><td> 284</td><td>118 </td><td> 86 </td><td> 224</td><td> 27 </td><td>164 </td><td> 324</td><td> 316</td><td>25  </td><td> 249</td></tr>\n",
       "</tbody>\n",
       "</table>\n"
      ],
      "text/latex": [
       "\\begin{tabular}{r|llllllllllllllllllll}\n",
       "  & cln3.SCD.0\\_6MNaCl.Rep1\\_R1\\_001 & cln3.SCD.0\\_6MNaCl.Rep2\\_R1\\_001 & cln3.SCD.Rep1\\_R1\\_001 & cln3.SCD.Rep2\\_R1\\_001 & cln3.SCE.0\\_6MNaCl.Rep1\\_R1\\_001 & cln3.SCE.0\\_6MNaCl.Rep2\\_R1\\_001 & cln3.SCE.Rep1\\_R1\\_001 & cln3.SCE.Rep2\\_R1\\_001 & whi5.cln3.SCE.Rep1\\_R1\\_001 & whi5.cln3.SCE.Rep2\\_R1\\_001 & whi5.SCE.Rep1\\_R1\\_001 & whi5.SCE.Rep2\\_R1\\_001 & WT.SCD.0\\_6MNaCl.Rep1\\_R1\\_001 & WT.SCD.0\\_6MNaCl.Rep2\\_R1\\_001 & WT.SCD.Rep1\\_R1\\_001 & WT.SCD.Rep2\\_R1\\_001 & WT.SCE.0\\_6MNaCl.Rep1\\_R1\\_001 & WT.SCE.0\\_6MNaCl.Rep2\\_R1\\_001 & WT.SCE.Rep1\\_R1\\_001 & WT.SCE.Rep2\\_R1\\_001\\\\\n",
       "\\hline\n",
       "\tchrI\t0\t781 & 0    & 0    & 151  & 191  &  226 &  158 &  210 & 127  &  292 &  296 &  232 & 188  &  83  &  246 &  25  & 182  &  241 &  203 &  9   &  244\\\\\n",
       "\tchrI\t6332\t6549 & 0    & 0    & 537  & 820  & 1342 & 1050 & 1157 & 590  & 1460 & 1624 & 1562 & 713  & 590  & 1585 & 115  & 732  & 2227 & 2032 & 90   & 1230\\\\\n",
       "\tchrI\t9138\t9609 & 0    & 0    & 175  & 222  &  366 &  251 &  304 & 160  &  401 &  483 &  410 & 261  & 143  &  379 &  34  & 220  &  379 &  383 & 17   &  344\\\\\n",
       "\tchrI\t20611\t21197 & 0    & 0    & 249  & 309  &  369 &  282 &  316 & 189  &  394 &  406 &  322 & 314  & 134  &  342 &  60  & 370  &  334 &  310 & 19   &  410\\\\\n",
       "\tchrI\t28155\t29092 & 0    & 0    &  50  &  50  &   48 &   37 &   42 &  22  &   57 &   65 &   55 &  72  &  12  &   49 &   7  &  47  &   65 &   64 &  1   &   60\\\\\n",
       "\tchrI\t29173\t30197 & 0    & 0    &  88  & 115  &  215 &  226 &  225 & 129  &  241 &  390 &  284 & 118  &  86  &  224 &  27  & 164  &  324 &  316 & 25   &  249\\\\\n",
       "\\end{tabular}\n"
      ],
      "text/markdown": [
       "\n",
       "| <!--/--> | cln3.SCD.0_6MNaCl.Rep1_R1_001 | cln3.SCD.0_6MNaCl.Rep2_R1_001 | cln3.SCD.Rep1_R1_001 | cln3.SCD.Rep2_R1_001 | cln3.SCE.0_6MNaCl.Rep1_R1_001 | cln3.SCE.0_6MNaCl.Rep2_R1_001 | cln3.SCE.Rep1_R1_001 | cln3.SCE.Rep2_R1_001 | whi5.cln3.SCE.Rep1_R1_001 | whi5.cln3.SCE.Rep2_R1_001 | whi5.SCE.Rep1_R1_001 | whi5.SCE.Rep2_R1_001 | WT.SCD.0_6MNaCl.Rep1_R1_001 | WT.SCD.0_6MNaCl.Rep2_R1_001 | WT.SCD.Rep1_R1_001 | WT.SCD.Rep2_R1_001 | WT.SCE.0_6MNaCl.Rep1_R1_001 | WT.SCE.0_6MNaCl.Rep2_R1_001 | WT.SCE.Rep1_R1_001 | WT.SCE.Rep2_R1_001 | \n",
       "|---|---|---|---|---|---|\n",
       "| chrI\t0\t781 | 0    | 0    | 151  | 191  |  226 |  158 |  210 | 127  |  292 |  296 |  232 | 188  |  83  |  246 |  25  | 182  |  241 |  203 |  9   |  244 | \n",
       "| chrI\t6332\t6549 | 0    | 0    | 537  | 820  | 1342 | 1050 | 1157 | 590  | 1460 | 1624 | 1562 | 713  | 590  | 1585 | 115  | 732  | 2227 | 2032 | 90   | 1230 | \n",
       "| chrI\t9138\t9609 | 0    | 0    | 175  | 222  |  366 |  251 |  304 | 160  |  401 |  483 |  410 | 261  | 143  |  379 |  34  | 220  |  379 |  383 | 17   |  344 | \n",
       "| chrI\t20611\t21197 | 0    | 0    | 249  | 309  |  369 |  282 |  316 | 189  |  394 |  406 |  322 | 314  | 134  |  342 |  60  | 370  |  334 |  310 | 19   |  410 | \n",
       "| chrI\t28155\t29092 | 0    | 0    |  50  |  50  |   48 |   37 |   42 |  22  |   57 |   65 |   55 |  72  |  12  |   49 |   7  |  47  |   65 |   64 |  1   |   60 | \n",
       "| chrI\t29173\t30197 | 0    | 0    |  88  | 115  |  215 |  226 |  225 | 129  |  241 |  390 |  284 | 118  |  86  |  224 |  27  | 164  |  324 |  316 | 25   |  249 | \n",
       "\n",
       "\n"
      ],
      "text/plain": [
       "                   cln3.SCD.0_6MNaCl.Rep1_R1_001 cln3.SCD.0_6MNaCl.Rep2_R1_001\n",
       "chrI\\t0\\t781       0                             0                            \n",
       "chrI\\t6332\\t6549   0                             0                            \n",
       "chrI\\t9138\\t9609   0                             0                            \n",
       "chrI\\t20611\\t21197 0                             0                            \n",
       "chrI\\t28155\\t29092 0                             0                            \n",
       "chrI\\t29173\\t30197 0                             0                            \n",
       "                   cln3.SCD.Rep1_R1_001 cln3.SCD.Rep2_R1_001\n",
       "chrI\\t0\\t781       151                  191                 \n",
       "chrI\\t6332\\t6549   537                  820                 \n",
       "chrI\\t9138\\t9609   175                  222                 \n",
       "chrI\\t20611\\t21197 249                  309                 \n",
       "chrI\\t28155\\t29092  50                   50                 \n",
       "chrI\\t29173\\t30197  88                  115                 \n",
       "                   cln3.SCE.0_6MNaCl.Rep1_R1_001 cln3.SCE.0_6MNaCl.Rep2_R1_001\n",
       "chrI\\t0\\t781        226                           158                         \n",
       "chrI\\t6332\\t6549   1342                          1050                         \n",
       "chrI\\t9138\\t9609    366                           251                         \n",
       "chrI\\t20611\\t21197  369                           282                         \n",
       "chrI\\t28155\\t29092   48                            37                         \n",
       "chrI\\t29173\\t30197  215                           226                         \n",
       "                   cln3.SCE.Rep1_R1_001 cln3.SCE.Rep2_R1_001\n",
       "chrI\\t0\\t781        210                 127                 \n",
       "chrI\\t6332\\t6549   1157                 590                 \n",
       "chrI\\t9138\\t9609    304                 160                 \n",
       "chrI\\t20611\\t21197  316                 189                 \n",
       "chrI\\t28155\\t29092   42                  22                 \n",
       "chrI\\t29173\\t30197  225                 129                 \n",
       "                   whi5.cln3.SCE.Rep1_R1_001 whi5.cln3.SCE.Rep2_R1_001\n",
       "chrI\\t0\\t781        292                       296                     \n",
       "chrI\\t6332\\t6549   1460                      1624                     \n",
       "chrI\\t9138\\t9609    401                       483                     \n",
       "chrI\\t20611\\t21197  394                       406                     \n",
       "chrI\\t28155\\t29092   57                        65                     \n",
       "chrI\\t29173\\t30197  241                       390                     \n",
       "                   whi5.SCE.Rep1_R1_001 whi5.SCE.Rep2_R1_001\n",
       "chrI\\t0\\t781        232                 188                 \n",
       "chrI\\t6332\\t6549   1562                 713                 \n",
       "chrI\\t9138\\t9609    410                 261                 \n",
       "chrI\\t20611\\t21197  322                 314                 \n",
       "chrI\\t28155\\t29092   55                  72                 \n",
       "chrI\\t29173\\t30197  284                 118                 \n",
       "                   WT.SCD.0_6MNaCl.Rep1_R1_001 WT.SCD.0_6MNaCl.Rep2_R1_001\n",
       "chrI\\t0\\t781        83                          246                       \n",
       "chrI\\t6332\\t6549   590                         1585                       \n",
       "chrI\\t9138\\t9609   143                          379                       \n",
       "chrI\\t20611\\t21197 134                          342                       \n",
       "chrI\\t28155\\t29092  12                           49                       \n",
       "chrI\\t29173\\t30197  86                          224                       \n",
       "                   WT.SCD.Rep1_R1_001 WT.SCD.Rep2_R1_001\n",
       "chrI\\t0\\t781        25                182               \n",
       "chrI\\t6332\\t6549   115                732               \n",
       "chrI\\t9138\\t9609    34                220               \n",
       "chrI\\t20611\\t21197  60                370               \n",
       "chrI\\t28155\\t29092   7                 47               \n",
       "chrI\\t29173\\t30197  27                164               \n",
       "                   WT.SCE.0_6MNaCl.Rep1_R1_001 WT.SCE.0_6MNaCl.Rep2_R1_001\n",
       "chrI\\t0\\t781        241                         203                       \n",
       "chrI\\t6332\\t6549   2227                        2032                       \n",
       "chrI\\t9138\\t9609    379                         383                       \n",
       "chrI\\t20611\\t21197  334                         310                       \n",
       "chrI\\t28155\\t29092   65                          64                       \n",
       "chrI\\t29173\\t30197  324                         316                       \n",
       "                   WT.SCE.Rep1_R1_001 WT.SCE.Rep2_R1_001\n",
       "chrI\\t0\\t781        9                  244              \n",
       "chrI\\t6332\\t6549   90                 1230              \n",
       "chrI\\t9138\\t9609   17                  344              \n",
       "chrI\\t20611\\t21197 19                  410              \n",
       "chrI\\t28155\\t29092  1                   60              \n",
       "chrI\\t29173\\t30197 25                  249              "
      ]
     },
     "metadata": {},
     "output_type": "display_data"
    }
   ],
   "source": [
    "#We read in the counts data matrix and the metdata matrix in the same manner as we did in tutorial 3.1 \n",
    "#load the read count matrix\n",
    "count_data=read.table(\"all.readcount.txt\",header=TRUE)\n",
    "rownames(count_data)=paste(count_data$Chrom,count_data$Start,count_data$End,sep='\\t')\n",
    "#remove the columns we will not use \n",
    "count_data$Chrom=NULL\n",
    "count_data$Start=NULL\n",
    "count_data$End=NULL\n",
    "count_data$ID=NULL\n",
    "head(count_data)\n",
    "\n"
   ]
  },
  {
   "cell_type": "code",
   "execution_count": 41,
   "metadata": {
    "collapsed": false
   },
   "outputs": [
    {
     "data": {
      "text/html": [
       "<table>\n",
       "<thead><tr><th></th><th scope=col>Strain</th><th scope=col>Media</th></tr></thead>\n",
       "<tbody>\n",
       "\t<tr><th scope=row>cln3.SCD.0_6MNaCl.Rep1_R1_001</th><td>cln3</td><td>D   </td></tr>\n",
       "\t<tr><th scope=row>cln3.SCD.0_6MNaCl.Rep2_R1_001</th><td>cln3</td><td>D   </td></tr>\n",
       "\t<tr><th scope=row>cln3.SCD.Rep1_R1_001</th><td>cln3</td><td>D   </td></tr>\n",
       "\t<tr><th scope=row>cln3.SCD.Rep2_R1_001</th><td>cln3</td><td>D   </td></tr>\n",
       "\t<tr><th scope=row>cln3.SCE.0_6MNaCl.Rep1_R1_001</th><td>cln3</td><td>E   </td></tr>\n",
       "\t<tr><th scope=row>cln3.SCE.0_6MNaCl.Rep2_R1_001</th><td>cln3</td><td>E   </td></tr>\n",
       "\t<tr><th scope=row>cln3.SCE.Rep1_R1_001</th><td>cln3</td><td>E   </td></tr>\n",
       "\t<tr><th scope=row>cln3.SCE.Rep2_R1_001</th><td>cln3</td><td>E   </td></tr>\n",
       "\t<tr><th scope=row>whi5.cln3.SCE.Rep1_R1_001</th><td>whi5</td><td>E   </td></tr>\n",
       "\t<tr><th scope=row>whi5.cln3.SCE.Rep2_R1_001</th><td>whi5</td><td>E   </td></tr>\n",
       "\t<tr><th scope=row>whi5.SCE.Rep1_R1_001</th><td>whi5</td><td>E   </td></tr>\n",
       "\t<tr><th scope=row>whi5.SCE.Rep2_R1_001</th><td>whi5</td><td>E   </td></tr>\n",
       "\t<tr><th scope=row>WT.SCD.0_6MNaCl.Rep1_R1_001</th><td>WT  </td><td>D   </td></tr>\n",
       "\t<tr><th scope=row>WT.SCD.0_6MNaCl.Rep2_R1_001</th><td>WT  </td><td>D   </td></tr>\n",
       "\t<tr><th scope=row>WT.SCD.Rep1_R1_001</th><td>WT  </td><td>D   </td></tr>\n",
       "\t<tr><th scope=row>WT.SCD.Rep2_R1_001</th><td>WT  </td><td>D   </td></tr>\n",
       "\t<tr><th scope=row>WT.SCE.0_6MNaCl.Rep1_R1_001</th><td>WT  </td><td>E   </td></tr>\n",
       "\t<tr><th scope=row>WT.SCE.0_6MNaCl.Rep2_R1_001</th><td>WT  </td><td>E   </td></tr>\n",
       "\t<tr><th scope=row>WT.SCE.Rep1_R1_001</th><td>WT  </td><td>E   </td></tr>\n",
       "\t<tr><th scope=row>WT.SCE.Rep2_R1_001</th><td>WT  </td><td>E   </td></tr>\n",
       "</tbody>\n",
       "</table>\n"
      ],
      "text/latex": [
       "\\begin{tabular}{r|ll}\n",
       "  & Strain & Media\\\\\n",
       "\\hline\n",
       "\tcln3.SCD.0\\_6MNaCl.Rep1\\_R1\\_001 & cln3 & D   \\\\\n",
       "\tcln3.SCD.0\\_6MNaCl.Rep2\\_R1\\_001 & cln3 & D   \\\\\n",
       "\tcln3.SCD.Rep1\\_R1\\_001 & cln3 & D   \\\\\n",
       "\tcln3.SCD.Rep2\\_R1\\_001 & cln3 & D   \\\\\n",
       "\tcln3.SCE.0\\_6MNaCl.Rep1\\_R1\\_001 & cln3 & E   \\\\\n",
       "\tcln3.SCE.0\\_6MNaCl.Rep2\\_R1\\_001 & cln3 & E   \\\\\n",
       "\tcln3.SCE.Rep1\\_R1\\_001 & cln3 & E   \\\\\n",
       "\tcln3.SCE.Rep2\\_R1\\_001 & cln3 & E   \\\\\n",
       "\twhi5.cln3.SCE.Rep1\\_R1\\_001 & whi5 & E   \\\\\n",
       "\twhi5.cln3.SCE.Rep2\\_R1\\_001 & whi5 & E   \\\\\n",
       "\twhi5.SCE.Rep1\\_R1\\_001 & whi5 & E   \\\\\n",
       "\twhi5.SCE.Rep2\\_R1\\_001 & whi5 & E   \\\\\n",
       "\tWT.SCD.0\\_6MNaCl.Rep1\\_R1\\_001 & WT   & D   \\\\\n",
       "\tWT.SCD.0\\_6MNaCl.Rep2\\_R1\\_001 & WT   & D   \\\\\n",
       "\tWT.SCD.Rep1\\_R1\\_001 & WT   & D   \\\\\n",
       "\tWT.SCD.Rep2\\_R1\\_001 & WT   & D   \\\\\n",
       "\tWT.SCE.0\\_6MNaCl.Rep1\\_R1\\_001 & WT   & E   \\\\\n",
       "\tWT.SCE.0\\_6MNaCl.Rep2\\_R1\\_001 & WT   & E   \\\\\n",
       "\tWT.SCE.Rep1\\_R1\\_001 & WT   & E   \\\\\n",
       "\tWT.SCE.Rep2\\_R1\\_001 & WT   & E   \\\\\n",
       "\\end{tabular}\n"
      ],
      "text/markdown": [
       "\n",
       "| <!--/--> | Strain | Media | \n",
       "|---|---|---|---|---|---|---|---|---|---|---|---|---|---|---|---|---|---|---|---|\n",
       "| cln3.SCD.0_6MNaCl.Rep1_R1_001 | cln3 | D    | \n",
       "| cln3.SCD.0_6MNaCl.Rep2_R1_001 | cln3 | D    | \n",
       "| cln3.SCD.Rep1_R1_001 | cln3 | D    | \n",
       "| cln3.SCD.Rep2_R1_001 | cln3 | D    | \n",
       "| cln3.SCE.0_6MNaCl.Rep1_R1_001 | cln3 | E    | \n",
       "| cln3.SCE.0_6MNaCl.Rep2_R1_001 | cln3 | E    | \n",
       "| cln3.SCE.Rep1_R1_001 | cln3 | E    | \n",
       "| cln3.SCE.Rep2_R1_001 | cln3 | E    | \n",
       "| whi5.cln3.SCE.Rep1_R1_001 | whi5 | E    | \n",
       "| whi5.cln3.SCE.Rep2_R1_001 | whi5 | E    | \n",
       "| whi5.SCE.Rep1_R1_001 | whi5 | E    | \n",
       "| whi5.SCE.Rep2_R1_001 | whi5 | E    | \n",
       "| WT.SCD.0_6MNaCl.Rep1_R1_001 | WT   | D    | \n",
       "| WT.SCD.0_6MNaCl.Rep2_R1_001 | WT   | D    | \n",
       "| WT.SCD.Rep1_R1_001 | WT   | D    | \n",
       "| WT.SCD.Rep2_R1_001 | WT   | D    | \n",
       "| WT.SCE.0_6MNaCl.Rep1_R1_001 | WT   | E    | \n",
       "| WT.SCE.0_6MNaCl.Rep2_R1_001 | WT   | E    | \n",
       "| WT.SCE.Rep1_R1_001 | WT   | E    | \n",
       "| WT.SCE.Rep2_R1_001 | WT   | E    | \n",
       "\n",
       "\n"
      ],
      "text/plain": [
       "                              Strain Media\n",
       "cln3.SCD.0_6MNaCl.Rep1_R1_001 cln3   D    \n",
       "cln3.SCD.0_6MNaCl.Rep2_R1_001 cln3   D    \n",
       "cln3.SCD.Rep1_R1_001          cln3   D    \n",
       "cln3.SCD.Rep2_R1_001          cln3   D    \n",
       "cln3.SCE.0_6MNaCl.Rep1_R1_001 cln3   E    \n",
       "cln3.SCE.0_6MNaCl.Rep2_R1_001 cln3   E    \n",
       "cln3.SCE.Rep1_R1_001          cln3   E    \n",
       "cln3.SCE.Rep2_R1_001          cln3   E    \n",
       "whi5.cln3.SCE.Rep1_R1_001     whi5   E    \n",
       "whi5.cln3.SCE.Rep2_R1_001     whi5   E    \n",
       "whi5.SCE.Rep1_R1_001          whi5   E    \n",
       "whi5.SCE.Rep2_R1_001          whi5   E    \n",
       "WT.SCD.0_6MNaCl.Rep1_R1_001   WT     D    \n",
       "WT.SCD.0_6MNaCl.Rep2_R1_001   WT     D    \n",
       "WT.SCD.Rep1_R1_001            WT     D    \n",
       "WT.SCD.Rep2_R1_001            WT     D    \n",
       "WT.SCE.0_6MNaCl.Rep1_R1_001   WT     E    \n",
       "WT.SCE.0_6MNaCl.Rep2_R1_001   WT     E    \n",
       "WT.SCE.Rep1_R1_001            WT     E    \n",
       "WT.SCE.Rep2_R1_001            WT     E    "
      ]
     },
     "metadata": {},
     "output_type": "display_data"
    }
   ],
   "source": [
    "metadata=read.table(\"/srv/scratch/training_camp/metadata/TC2017_samples.tsv\",header=TRUE)\n",
    "#We use the \"factor\" function to tell R which variables are categorical rather than continuous \n",
    "metadata$Strain=factor(metadata$Strain)\n",
    "metadata$Media=factor(metadata$Media)\n",
    "#we don't need the other metadata columns for this analysis \n",
    "metadata$Sample=NULL\n",
    "metadata$Researcher=NULL\n",
    "metadata$Replicate=NULL\n",
    "rownames(metadata)=metadata$ID\n",
    "metadata$ID=NULL\n",
    "#make sure the rows in metadata match the order of the columns in count_data \n",
    "metadata=metadata[names(count_data),]\n",
    "metadata"
   ]
  },
  {
   "cell_type": "code",
   "execution_count": 71,
   "metadata": {
    "collapsed": true
   },
   "outputs": [],
   "source": [
    "#We set threshold for determining differential expression \n",
    "padjust_thresh=0.05 \n"
   ]
  },
  {
   "cell_type": "code",
   "execution_count": 72,
   "metadata": {
    "collapsed": false
   },
   "outputs": [],
   "source": [
    "#create a DESeq2 object with the data, metadata, and model information \n",
    "ddsMat=DESeqDataSetFromMatrix(countData=as.matrix(count_data),\n",
    "                            colData=metadata,\n",
    "                            design=~Strain+Media)\n"
   ]
  },
  {
   "cell_type": "code",
   "execution_count": 73,
   "metadata": {
    "collapsed": false
   },
   "outputs": [
    {
     "name": "stderr",
     "output_type": "stream",
     "text": [
      "estimating size factors\n",
      "estimating dispersions\n",
      "gene-wise dispersion estimates\n",
      "mean-dispersion relationship\n",
      "final dispersion estimates\n",
      "fitting model and testing\n"
     ]
    }
   ],
   "source": [
    "#Run DESeq2 analysis \n",
    "dds<-DESeq(ddsMat)"
   ]
  },
  {
   "cell_type": "code",
   "execution_count": 74,
   "metadata": {
    "collapsed": false
   },
   "outputs": [
    {
     "data": {
      "text/html": [
       "<ol class=list-inline>\n",
       "\t<li>'Intercept'</li>\n",
       "\t<li>'Straincln3'</li>\n",
       "\t<li>'Strainwhi5'</li>\n",
       "\t<li>'StrainWT'</li>\n",
       "\t<li>'MediaD'</li>\n",
       "\t<li>'MediaE'</li>\n",
       "</ol>\n"
      ],
      "text/latex": [
       "\\begin{enumerate*}\n",
       "\\item 'Intercept'\n",
       "\\item 'Straincln3'\n",
       "\\item 'Strainwhi5'\n",
       "\\item 'StrainWT'\n",
       "\\item 'MediaD'\n",
       "\\item 'MediaE'\n",
       "\\end{enumerate*}\n"
      ],
      "text/markdown": [
       "1. 'Intercept'\n",
       "2. 'Straincln3'\n",
       "3. 'Strainwhi5'\n",
       "4. 'StrainWT'\n",
       "5. 'MediaD'\n",
       "6. 'MediaE'\n",
       "\n",
       "\n"
      ],
      "text/plain": [
       "[1] \"Intercept\"  \"Straincln3\" \"Strainwhi5\" \"StrainWT\"   \"MediaD\"    \n",
       "[6] \"MediaE\"    "
      ]
     },
     "metadata": {},
     "output_type": "display_data"
    }
   ],
   "source": [
    "#We can examine several contrasts in the resulting DESeq2 object\n",
    "resultsNames(dds)"
   ]
  },
  {
   "cell_type": "code",
   "execution_count": 75,
   "metadata": {
    "collapsed": true
   },
   "outputs": [],
   "source": [
    "#Specify the contrasts we want to examine (we indicated these above)\n",
    "deseq_contrasts=list(c(\"Media\",\"D\",\"E\"),\n",
    "                     c(\"Strain\",\"WT\",\"cln3\"),\n",
    "                     c(\"Strain\",\"WT\",\"whi5\"),\n",
    "                     c(\"Strain\",\"cln3\",\"whi5\"))\n",
    "contrast_names=c(\"Media_SCD_vs_SCE\",\n",
    "        \"Strain_WT_vs_cln3\",\n",
    "        \"Strain_WT_vs_whi5\",\n",
    "        \"Strain_cln3_vs_whi5\")\n",
    "\n"
   ]
  },
  {
   "cell_type": "code",
   "execution_count": 86,
   "metadata": {
    "collapsed": false
   },
   "outputs": [
    {
     "name": "stdout",
     "output_type": "stream",
     "text": [
      "[1] \"Media_SCD_vs_SCE\"\n",
      "log2 fold change (MAP): Media D vs E \n",
      "Wald test p-value: Media D vs E \n",
      "DataFrame with 3455 rows and 6 columns\n",
      "                        baseMean log2FoldChange     lfcSE       stat\n",
      "                       <numeric>      <numeric> <numeric>  <numeric>\n",
      "chrI\\t0\\t781            71.42476     0.36254265 0.1910333  1.8977984\n",
      "chrI\\t6332\\t6549       391.51930    -0.09034538 0.1225859 -0.7369964\n",
      "chrI\\t9138\\t9609       103.12211     0.17084819 0.1522454  1.1221895\n",
      "chrI\\t20611\\t21197     116.90361     0.45614217 0.2069841  2.2037546\n",
      "chrI\\t28155\\t29092      17.91868     0.35457978 0.2693864  1.3162496\n",
      "...                          ...            ...       ...        ...\n",
      "chrXVI\\t920499\\t921897 208.25318     -0.8976245 0.1150745 -7.8003770\n",
      "chrXVI\\t927333\\t928679 276.36635      0.1132156 0.1911494  0.5922889\n",
      "chrXVI\\t930437\\t931270  66.09052      0.3222262 0.2464723  1.3073527\n",
      "chrXVI\\t938878\\t939160  19.37689     -0.1968364 0.2324888 -0.8466491\n",
      "chrXVI\\t942430\\t942789  29.97553      0.1478284 0.1826206  0.8094838\n",
      "                             pvalue         padj\n",
      "                          <numeric>    <numeric>\n",
      "chrI\\t0\\t781             0.05772264    0.4124863\n",
      "chrI\\t6332\\t6549         0.46112453    0.6968559\n",
      "chrI\\t9138\\t9609         0.26178188    0.5893695\n",
      "chrI\\t20611\\t21197       0.02754161    0.3034333\n",
      "chrI\\t28155\\t29092       0.18809029    0.5431589\n",
      "...                             ...          ...\n",
      "chrXVI\\t920499\\t921897 6.172248e-15 6.419138e-12\n",
      "chrXVI\\t927333\\t928679 5.536572e-01 7.555515e-01\n",
      "chrXVI\\t930437\\t931270 1.910929e-01 5.464803e-01\n",
      "chrXVI\\t938878\\t939160 3.971907e-01 6.637574e-01\n",
      "chrXVI\\t942430\\t942789 4.182369e-01 6.744213e-01\n",
      "[1] \"Strain_WT_vs_cln3\"\n",
      "log2 fold change (MAP): Strain WT vs cln3 \n",
      "Wald test p-value: Strain WT vs cln3 \n",
      "DataFrame with 3455 rows and 6 columns\n",
      "                        baseMean log2FoldChange     lfcSE        stat\n",
      "                       <numeric>      <numeric> <numeric>   <numeric>\n",
      "chrI\\t0\\t781            71.42476    -0.45243075 0.1896838  -2.3851839\n",
      "chrI\\t6332\\t6549       391.51930    -0.05327811 0.1222543  -0.4357975\n",
      "chrI\\t9138\\t9609       103.12211    -0.29864827 0.1513088  -1.9737672\n",
      "chrI\\t20611\\t21197     116.90361    -0.35848344 0.2053703  -1.7455464\n",
      "chrI\\t28155\\t29092      17.91868    -0.37116580 0.2584696  -1.4360136\n",
      "...                          ...            ...       ...         ...\n",
      "chrXVI\\t920499\\t921897 208.25318    -0.08909695 0.1133106 -0.78630705\n",
      "chrXVI\\t927333\\t928679 276.36635    -0.17444267 0.1902662 -0.91683473\n",
      "chrXVI\\t930437\\t931270  66.09052    -0.31970271 0.2409456 -1.32686682\n",
      "chrXVI\\t938878\\t939160  19.37689    -0.06986826 0.2271149 -0.30763392\n",
      "chrXVI\\t942430\\t942789  29.97553     0.01645761 0.1806580  0.09109815\n",
      "                           pvalue      padj\n",
      "                        <numeric> <numeric>\n",
      "chrI\\t0\\t781           0.01707058 0.4813437\n",
      "chrI\\t6332\\t6549       0.66298363 0.7452193\n",
      "chrI\\t9138\\t9609       0.04840822 0.4813437\n",
      "chrI\\t20611\\t21197     0.08088980 0.4813437\n",
      "chrI\\t28155\\t29092     0.15099848 0.4813437\n",
      "...                           ...       ...\n",
      "chrXVI\\t920499\\t921897  0.4316876 0.5881572\n",
      "chrXVI\\t927333\\t928679  0.3592292 0.5453150\n",
      "chrXVI\\t930437\\t931270  0.1845527 0.4813437\n",
      "chrXVI\\t938878\\t939160  0.7583609 0.8203309\n",
      "chrXVI\\t942430\\t942789  0.9274146 0.9521482\n",
      "[1] \"Strain_WT_vs_whi5\"\n",
      "log2 fold change (MAP): Strain WT vs whi5 \n",
      "Wald test p-value: Strain WT vs whi5 \n",
      "DataFrame with 3455 rows and 6 columns\n",
      "                        baseMean log2FoldChange     lfcSE       stat\n",
      "                       <numeric>      <numeric> <numeric>  <numeric>\n",
      "chrI\\t0\\t781            71.42476    -0.58750865 0.2121816 -2.7688959\n",
      "chrI\\t6332\\t6549       391.51930    -0.07920185 0.1442304 -0.5491341\n",
      "chrI\\t9138\\t9609       103.12211    -0.52688976 0.1741063 -3.0262540\n",
      "chrI\\t20611\\t21197     116.90361    -0.43706705 0.2264155 -1.9303760\n",
      "chrI\\t28155\\t29092      17.91868    -0.53389429 0.2606964 -2.0479544\n",
      "...                          ...            ...       ...        ...\n",
      "chrXVI\\t920499\\t921897 208.25318     -0.0309768 0.1320984 -0.2344979\n",
      "chrXVI\\t927333\\t928679 276.36635     -0.3505873 0.2134930 -1.6421493\n",
      "chrXVI\\t930437\\t931270  66.09052     -0.4577385 0.2525182 -1.8126953\n",
      "chrXVI\\t938878\\t939160  19.37689     -0.3796108 0.2412027 -1.5738252\n",
      "chrXVI\\t942430\\t942789  29.97553     -0.2114702 0.2010244 -1.0519629\n",
      "                            pvalue      padj\n",
      "                         <numeric> <numeric>\n",
      "chrI\\t0\\t781           0.005624661 0.2277909\n",
      "chrI\\t6332\\t6549       0.582913423 0.6298894\n",
      "chrI\\t9138\\t9609       0.002476042 0.2277909\n",
      "chrI\\t20611\\t21197     0.053560268 0.2277909\n",
      "chrI\\t28155\\t29092     0.040564465 0.2277909\n",
      "...                            ...       ...\n",
      "chrXVI\\t920499\\t921897  0.81459843 0.8396293\n",
      "chrXVI\\t927333\\t928679  0.10055907 0.2481289\n",
      "chrXVI\\t930437\\t931270  0.06987883 0.2370385\n",
      "chrXVI\\t938878\\t939160  0.11552788 0.2555943\n",
      "chrXVI\\t942430\\t942789  0.29281658 0.3811911\n",
      "[1] \"Strain_cln3_vs_whi5\"\n",
      "log2 fold change (MAP): Strain cln3 vs whi5 \n",
      "Wald test p-value: Strain cln3 vs whi5 \n",
      "DataFrame with 3455 rows and 6 columns\n",
      "                        baseMean log2FoldChange     lfcSE       stat    pvalue\n",
      "                       <numeric>      <numeric> <numeric>  <numeric> <numeric>\n",
      "chrI\\t0\\t781            71.42476    -0.13507790 0.2114985 -0.6386706 0.5230372\n",
      "chrI\\t6332\\t6549       391.51930    -0.02592374 0.1436657 -0.1804449 0.8568033\n",
      "chrI\\t9138\\t9609       103.12211    -0.22824149 0.1725056 -1.3230963 0.1858033\n",
      "chrI\\t20611\\t21197     116.90361    -0.07858361 0.2273517 -0.3456477 0.7296075\n",
      "chrI\\t28155\\t29092      17.91868    -0.16272849 0.2635665 -0.6174096 0.5369646\n",
      "...                          ...            ...       ...        ...       ...\n",
      "chrXVI\\t920499\\t921897 208.25318     0.05812015 0.1308072  0.4443191 0.6568119\n",
      "chrXVI\\t927333\\t928679 276.36635    -0.17614466 0.2145983 -0.8208113 0.4117538\n",
      "chrXVI\\t930437\\t931270  66.09052    -0.13803582 0.2549907 -0.5413367 0.5882756\n",
      "chrXVI\\t938878\\t939160  19.37689    -0.30974258 0.2421877 -1.2789358 0.2009197\n",
      "chrXVI\\t942430\\t942789  29.97553    -0.22792782 0.2004570 -1.1370408 0.2555212\n",
      "                            padj\n",
      "                       <numeric>\n",
      "chrI\\t0\\t781           0.9998181\n",
      "chrI\\t6332\\t6549       0.9998181\n",
      "chrI\\t9138\\t9609       0.9998181\n",
      "chrI\\t20611\\t21197     0.9998181\n",
      "chrI\\t28155\\t29092     0.9998181\n",
      "...                          ...\n",
      "chrXVI\\t920499\\t921897 0.9998181\n",
      "chrXVI\\t927333\\t928679 0.9998181\n",
      "chrXVI\\t930437\\t931270 0.9998181\n",
      "chrXVI\\t938878\\t939160 0.9998181\n",
      "chrXVI\\t942430\\t942789 0.9998181\n"
     ]
    }
   ],
   "source": [
    "#Query the DESeq2 results to find differential peaks for each contrast, using our padjust_thresh and lfc_thresh values.\n",
    "for(contrast_index in seq(1,4))\n",
    "{\n",
    "        comparison_name=unlist(contrast_names[contrast_index])    \n",
    "        print(comparison_name)\n",
    "        ds=results(dds,\n",
    "           contrast=unlist(deseq_contrasts[contrast_index]))\n",
    "        print(ds)\n",
    "        #write  entries for all peaks\n",
    "        write.table(ds,file=paste(comparison_name,\".txt\",sep=\"\"),quote=FALSE,row.names=TRUE,col.names=TRUE,sep='\\t')\n",
    "    \n",
    "        #subset the peak set to just the differential peaks \n",
    "        ds=na.omit(ds)\n",
    "        sig=ds[ds$padj<padjust_thresh,] \n",
    "        peaks_sig=rownames(sig)\n",
    "        head(peaks_sig)\n",
    "        write.table(peaks_sig,\n",
    "                    file=paste(comparison_name,\".differential.txt\",sep=\"\"),\n",
    "                    quote=FALSE,row.names=FALSE,col.names=FALSE,sep='\\t')\n",
    "}\n"
   ]
  },
  {
   "cell_type": "markdown",
   "metadata": {},
   "source": [
    "This code will generate 4 pairs of files: \n",
    "\n",
    "* Media_SCD_vs_SCE.txt  \n",
    "* Media_SCD_vs_SCE.differential.txt  \n",
    "\n",
    "\n",
    "* Strain_WT_vs_cln3.txt  \n",
    "* Strain_WT_vs_cln3.differential.txt\n",
    "\n",
    "* Strain_WT_vs_whi5.txt  \n",
    "* Strain_WT_vs_whi5.txt.sigPeakNames  \n",
    "\n",
    "\n",
    "* Strain_WT_vs_cln3.txt\n",
    "* Strain_WT_vs_cln3.differential.txt\n",
    "\n",
    "The first is the raw output from DESeq for all peaks. We will not have time to discuss everything in this file, but feel free to read the DESeq manual and see if you can understand it. The second,  contains a list of the IDs of the differentially open peaks from ATAC‐seq. The p‐value cutoff for differential openness that we use is 0.05. You can examine the content of these files with the following commands: "
   ]
  }
 ],
 "metadata": {
  "kernelspec": {
   "display_name": "R",
   "language": "R",
   "name": "ir"
  },
  "language_info": {
   "codemirror_mode": "r",
   "file_extension": ".r",
   "mimetype": "text/x-r-source",
   "name": "R",
   "pygments_lexer": "r",
   "version": "3.5.0"
  }
 },
 "nbformat": 4,
 "nbformat_minor": 0
}
