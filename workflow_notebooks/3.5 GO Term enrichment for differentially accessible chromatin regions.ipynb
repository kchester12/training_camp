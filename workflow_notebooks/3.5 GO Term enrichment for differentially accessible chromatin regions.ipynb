{
 "cells": [
  {
   "cell_type": "markdown",
   "metadata": {},
   "source": [
    "# 3.5 GO Term Enrichment for Differentially Accessible Chromatin Regions. #"
   ]
  },
  {
   "cell_type": "markdown",
   "metadata": {},
   "source": [
    "### IMPORTANT: Please make sure that you are using the bash kernel to run this notebook. ###\n"
   ]
  },
  {
   "cell_type": "code",
   "execution_count": null,
   "metadata": {
    "collapsed": false
   },
   "outputs": [],
   "source": [
    "### Set up variables storing the location of our data\n",
    "### The proper way to load your variables is with the ~/.bashrc command, but this is very slow in iPython \n",
    "export SUNETID=\"$(whoami)\"\n",
    "export WORK_DIR=\"/srv/scratch/training_camp/work/${SUNETID}\"\n",
    "export DATA_DIR=\"${WORK_DIR}/data\"\n",
    "[[ ! -d ${WORK_DIR}/data ]] && mkdir \"${WORK_DIR}/data\"\n",
    "export SRC_DIR=\"${WORK_DIR}/src\"\n",
    "[[ ! -d ${WORK_DIR}/src ]] && mkdir -p \"${WORK_DIR}/src\"\n",
    "export METADATA_DIR=\"/srv/scratch/training_camp/metadata\"\n",
    "export AGGREGATE_DATA_DIR=\"/srv/scratch/training_camp/data\"\n",
    "export AGGREGATE_ANALYSIS_DIR=\"/srv/scratch/training_camp/aggregate_analysis\"\n",
    "export YEAST_DIR=\"/srv/scratch/training_camp/saccer3\"\n",
    "export TMP=\"${WORK_DIR}/tmp\"\n",
    "export TEMP=$TMP\n",
    "export TMPDIR=$TMP\n",
    "[[ ! -d ${TMP} ]] && mkdir -p \"${TMP}\"\n",
    "\n"
   ]
  },
  {
   "cell_type": "markdown",
   "metadata": {},
   "source": [
    "In this tutorial, we will focus on GO term enrichment analysis: \n",
    "![Analysis pipeline](images/part5.png)"
   ]
  },
  {
   "cell_type": "markdown",
   "metadata": {},
   "source": [
    "In the previous tutorial, we identified differential peaks between pairs of strains and media. These were stored in the $WORK_DIR, as the following files: \n",
    "\n",
    "* Media_YPD_vs_YPGE.txt  \n",
    "* Media_YPD_vs_YPGE.differential.txt  \n",
    "\n",
    "\n",
    "* Strain_WT_vs_asf1.txt  \n",
    "* Strain_WT_vs_asdf1.differential.txt\n",
    "\n",
    "\n",
    "* Strain_WT_vs_rtt109.txt  \n",
    "* Strain_WT_vs_rtt109.differential.txt  \n",
    "\n",
    "\n",
    "* Strain_asf1_vs_rtt109.txt\n",
    "* Strain_asf1_vs_rtt109.differential.txt\n",
    "\n",
    "\n",
    "\n",
    "We'll perform GO Term enrichment for the Media variable. You can look at term enrichment between the different strains as an exercise. "
   ]
  },
  {
   "cell_type": "code",
   "execution_count": 26,
   "metadata": {
    "collapsed": false
   },
   "outputs": [
    {
     "name": "stdout",
     "output_type": "stream",
     "text": [
      "chrI\t0\t857\r\n",
      "chrI\t2415\t2586\r\n",
      "chrI\t6315\t6556\r\n",
      "chrI\t28570\t28931\r\n",
      "chrI\t29238\t29452\r\n",
      "chrI\t29729\t30050\r\n",
      "chrI\t31624\t35831\r\n",
      "chrI\t43206\t43632\r\n",
      "chrI\t44949\t46685\r\n",
      "chrI\t48249\t48767\r\n"
     ]
    }
   ],
   "source": [
    "cd $WORK_DIR\n",
    "head Media_YPD_vs_YPGE.differential.txt"
   ]
  },
  {
   "cell_type": "code",
   "execution_count": 24,
   "metadata": {
    "collapsed": false
   },
   "outputs": [
    {
     "name": "stdout",
     "output_type": "stream",
     "text": [
      "chrI\t0\t857\r\n",
      "chrI\t2415\t2586\r\n",
      "chrI\t6315\t6556\r\n",
      "chrI\t28570\t28931\r\n",
      "chrI\t29238\t29452\r\n",
      "chrI\t29729\t30050\r\n",
      "chrI\t31624\t35831\r\n",
      "chrI\t43206\t43632\r\n",
      "chrI\t44949\t46685\r\n",
      "chrI\t48249\t48767\r\n"
     ]
    }
   ],
   "source": [
    "cut -f1,2,3,5 Media_YPD_vs_YPGE.differential.txt > tmp.txt \n",
    "head tmp.txt"
   ]
  },
  {
   "cell_type": "code",
   "execution_count": null,
   "metadata": {
    "collapsed": true
   },
   "outputs": [],
   "source": [
    "grep \"\\-\" tmp.txt > down"
   ]
  },
  {
   "cell_type": "code",
   "execution_count": 13,
   "metadata": {
    "collapsed": false
   },
   "outputs": [
    {
     "name": "stdout",
     "output_type": "stream",
     "text": [
      "chrI\t0\t857\r\n",
      "chrI\t2415\t2586\r\n",
      "chrI\t6315\t6556\r\n",
      "chrI\t28570\t28931\r\n",
      "chrI\t29238\t29452\r\n",
      "chrI\t29729\t30050\r\n",
      "chrI\t31624\t35831\r\n",
      "chrI\t43206\t43632\r\n",
      "chrI\t44949\t46685\r\n",
      "chrI\t48249\t48767\r\n"
     ]
    }
   ],
   "source": [
    "head Media_YPD_vs_YPGE.differential.txt"
   ]
  },
  {
   "cell_type": "markdown",
   "metadata": {},
   "source": [
    "We will map the differentially expressed peaks to their nearest genes, as we did in tutorial 3.2, and search for GO term enrichment. The genes close to differential peaks will be the foreground set. The full set of genes near peaks will be the background set. \n",
    "\n"
   ]
  },
  {
   "cell_type": "code",
   "execution_count": 14,
   "metadata": {
    "collapsed": false
   },
   "outputs": [
    {
     "name": "stdout",
     "output_type": "stream",
     "text": []
    }
   ],
   "source": [
    "#foreground mapping\n",
    "bedtools closest -D a -a Media_YPD_vs_YPGE.differential.txt -b $YEAST_DIR/yeast_tss_coords.bed > Media_YPD_vs_YPGE.differential.togene.txt\n",
    "#background mapping \n",
    "\n",
    "tail -n +2 Media_YPD_vs_YPGE.txt| cut -f1,2,3 | bedtools closest -D a -a stdin -b $YEAST_DIR/yeast_tss_coords.bed > Media_YPD_vs_YPGE.togene.txt\n"
   ]
  },
  {
   "cell_type": "code",
   "execution_count": 15,
   "metadata": {
    "collapsed": false
   },
   "outputs": [
    {
     "name": "stdout",
     "output_type": "stream",
     "text": [
      "chrI\t0\t857\tchrI\t537\t538\tYAL068W-A\t0\t+\t0\r\n",
      "chrI\t2415\t2586\tchrI\t2479\t2480\tYAL067W-A\t0\t+\t0\r\n",
      "chrI\t6315\t6556\tchrI\t9015\t9016\tYAL067C\t0\t-\t2460\r\n",
      "chrI\t28570\t28931\tchrI\t27967\t27968\tYAL063C\t0\t-\t-603\r\n",
      "chrI\t29238\t29452\tchrI\t27967\t27968\tYAL063C\t0\t-\t-1271\r\n",
      "chrI\t29729\t30050\tchrI\t31566\t31567\tYAL062W\t0\t+\t1517\r\n",
      "chrI\t31624\t35831\tchrI\t35154\t35155\tYAL060W\t0\t+\t0\r\n",
      "chrI\t43206\t43632\tchrI\t42176\t42177\tYAL055W\t0\t+\t-1030\r\n",
      "chrI\t44949\t46685\tchrI\t45898\t45899\tYAL053W\t0\t+\t0\r\n",
      "chrI\t48249\t48767\tchrI\t48563\t48564\tYAL051W\t0\t+\t0\r\n"
     ]
    }
   ],
   "source": [
    "head Media_YPD_vs_YPGE.differential.togene.txt"
   ]
  },
  {
   "cell_type": "code",
   "execution_count": 16,
   "metadata": {
    "collapsed": false
   },
   "outputs": [
    {
     "name": "stdout",
     "output_type": "stream",
     "text": [
      "chrI\t0\t857\tchrI\t537\t538\tYAL068W-A\t0\t+\t0\r\n",
      "chrI\t2415\t2586\tchrI\t2479\t2480\tYAL067W-A\t0\t+\t0\r\n",
      "chrI\t6315\t6556\tchrI\t9015\t9016\tYAL067C\t0\t-\t2460\r\n",
      "chrI\t14706\t14936\tchrI\t13742\t13743\tYAL064C-A\t0\t-\t-964\r\n",
      "chrI\t20592\t21210\tchrI\t21565\t21566\tYAL064W\t0\t+\t356\r\n",
      "chrI\t28570\t28931\tchrI\t27967\t27968\tYAL063C\t0\t-\t-603\r\n",
      "chrI\t29238\t29452\tchrI\t27967\t27968\tYAL063C\t0\t-\t-1271\r\n",
      "chrI\t29729\t30050\tchrI\t31566\t31567\tYAL062W\t0\t+\t1517\r\n",
      "chrI\t31624\t35831\tchrI\t35154\t35155\tYAL060W\t0\t+\t0\r\n",
      "chrI\t42233\t42693\tchrI\t42176\t42177\tYAL055W\t0\t+\t-57\r\n"
     ]
    }
   ],
   "source": [
    "head Media_YPD_vs_YPGE.togene.txt"
   ]
  },
  {
   "cell_type": "code",
   "execution_count": 17,
   "metadata": {
    "collapsed": false
   },
   "outputs": [
    {
     "name": "stdout",
     "output_type": "stream",
     "text": []
    }
   ],
   "source": [
    "#As before, we want a list of genes to use in GO Term enrichment, so we extract column 7, which contains the gene names\n",
    "cut -f7 Media_YPD_vs_YPGE.differential.togene.txt > Media.foreground.txt\n",
    "cut -f7 Media_YPD_vs_YPGE.togene.txt > Media.background.txt "
   ]
  },
  {
   "cell_type": "code",
   "execution_count": 18,
   "metadata": {
    "collapsed": false
   },
   "outputs": [
    {
     "name": "stdout",
     "output_type": "stream",
     "text": [
      "YAL068W-A\r\n",
      "YAL067W-A\r\n",
      "YAL067C\r\n",
      "YAL064C-A\r\n",
      "YAL064W\r\n",
      "YAL063C\r\n",
      "YAL063C\r\n",
      "YAL062W\r\n",
      "YAL060W\r\n",
      "YAL055W\r\n"
     ]
    }
   ],
   "source": [
    "head Media.background.txt"
   ]
  },
  {
   "cell_type": "code",
   "execution_count": 19,
   "metadata": {
    "collapsed": false
   },
   "outputs": [
    {
     "name": "stdout",
     "output_type": "stream",
     "text": [
      "ln: failed to create symbolic link ‘/home/ubuntu/training_camp/workflow_notebooks/Media.foreground.txt’: File exists\r\n",
      "ln: failed to create symbolic link ‘/home/ubuntu/training_camp/workflow_notebooks/Media.background.txt’: File exists\r\n"
     ]
    }
   ],
   "source": [
    "#Add symbolic links to the gene lists in the folder where this notebook is stored.\n",
    "ln -s $WORK_DIR/*foreground* ~/training_camp/workflow_notebooks\n",
    "ln -s $WORK_DIR/*background* ~/training_camp/workflow_notebooks\n"
   ]
  },
  {
   "cell_type": "code",
   "execution_count": 20,
   "metadata": {
    "collapsed": false
   },
   "outputs": [
    {
     "name": "stdout",
     "output_type": "stream",
     "text": [
      "1619 Media.foreground.txt\r\n"
     ]
    }
   ],
   "source": [
    "wc -l Media.foreground.txt"
   ]
  },
  {
   "cell_type": "code",
   "execution_count": 21,
   "metadata": {
    "collapsed": false
   },
   "outputs": [
    {
     "name": "stdout",
     "output_type": "stream",
     "text": [
      "3287 Media.background.txt\r\n"
     ]
    }
   ],
   "source": [
    "wc -l Media.background.txt"
   ]
  },
  {
   "cell_type": "markdown",
   "metadata": {},
   "source": [
    "Now use the saccharomyces Genome Databases (SGD’s) GO Term finder tools (http://www.yeastgenome.org/cgi-bin/GO/goTermFinder.pl) to check for GO Term enrichment. Upload your differential gene list as the foreground set and the full gene list as the background set. "
   ]
  }
 ],
 "metadata": {
  "kernelspec": {
   "display_name": "Bash",
   "language": "bash",
   "name": "bash"
  },
  "language_info": {
   "codemirror_mode": "shell",
   "file_extension": ".sh",
   "mimetype": "text/x-sh",
   "name": "bash"
  }
 },
 "nbformat": 4,
 "nbformat_minor": 0
}
