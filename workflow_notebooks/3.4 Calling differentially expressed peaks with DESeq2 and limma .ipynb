{
 "cells": [
  {
   "cell_type": "markdown",
   "metadata": {},
   "source": [
    "# 3.4 Calling differentially expressed peaks with DESeq2 and limma"
   ]
  },
  {
   "cell_type": "markdown",
   "metadata": {},
   "source": [
    "### IMPORTANT: Please make sure that you are using the R kernel to run this notebook. ###\n"
   ]
  },
  {
   "cell_type": "markdown",
   "metadata": {},
   "source": [
    "In this tutorial, we will focus on calling differential peaks: \n",
    "![Analysis pipeline](images/part4.png)"
   ]
  },
  {
   "cell_type": "markdown",
   "metadata": {
    "collapsed": true
   },
   "source": [
    "## Running DESeq"
   ]
  },
  {
   "cell_type": "markdown",
   "metadata": {},
   "source": [
    "DESeq(https://bioconductor.org/packages/release/bioc/html/DESeq2.html) uses read count data, such as in our matrix **all.readcount.txt**, to estimate differential gene expression across conditions specified in a metdata file.  We run DESeq with 4 comparisons (which we call \"contrasts\"): \n",
    "* Media \n",
    "    * glucose vs ethanol\n",
    "* Strain: \n",
    "    *  WT vs asf1\n",
    "    *  WT vs rtt109\n",
    "    *  asf1 vs rtt109 \n",
    "   "
   ]
  },
  {
   "cell_type": "code",
   "execution_count": null,
   "metadata": {
    "collapsed": true
   },
   "outputs": [],
   "source": [
    "#change to your working directory \n",
    "username=\"ubuntu\"\n",
    "setwd(paste(\"/srv/scratch/training_camp/work/\",username,sep=\"\"))"
   ]
  },
  {
   "cell_type": "code",
   "execution_count": null,
   "metadata": {
    "collapsed": false
   },
   "outputs": [],
   "source": [
    "#load the DESeq2 library\n",
    "library(DESeq2,quietly = TRUE)\n"
   ]
  },
  {
   "cell_type": "code",
   "execution_count": null,
   "metadata": {
    "collapsed": false
   },
   "outputs": [],
   "source": [
    "#We read in the counts data matrix and the metdata matrix in the same manner as we did in tutorial 3.1 \n",
    "#load the read count matrix\n",
    "count_data=read.table(\"all.readcount.txt\",header=TRUE)\n",
    "rownames(count_data)=paste(count_data$Chrom,count_data$Start,count_data$End,sep='\\t')\n",
    "#remove the columns we will not use \n",
    "count_data$Chrom=NULL\n",
    "count_data$Start=NULL\n",
    "count_data$End=NULL\n",
    "count_data$ID=NULL\n",
    "#We mustn't forget to swap the sample columns for \"jkcheng_rtt109_YPGE_3\" and \"jkcheng_WT_YPD_3\"\n",
    "count_data$tmp1=count_data$jkcheng_rtt109_YPGE_3\n",
    "count_data$tmp2=count_data$jkcheng_WT_YPD_3\n",
    "count_data$jkcheng_rtt109_YPGE_3=count_data$tmp2\n",
    "count_data$jkcheng_WT_YPD_3=count_data$tmp1\n",
    "count_data$tmp1=NULL\n",
    "count_data$tmp2=NULL\n",
    "\n",
    "head(count_data)"
   ]
  },
  {
   "cell_type": "code",
   "execution_count": null,
   "metadata": {
    "collapsed": false
   },
   "outputs": [],
   "source": [
    "metadata=read.table(\"/srv/scratch/training_camp/metadata/TC2018_samples.tsv\",header=TRUE)\n",
    "#We use the \"factor\" function to tell R which variables are categorical rather than continuous \n",
    "metadata$Strain=factor(metadata$Strain)\n",
    "metadata$Media=factor(metadata$Media)\n",
    "metadata$Researcher=factor(metadata$Researcher)\n",
    "#we don't need the other metadata columns for this analysis \n",
    "metadata$Sample=NULL\n",
    "metadata$Replicate=NULL\n",
    "rownames(metadata)=metadata$ID\n",
    "metadata$ID=NULL\n",
    "metadata$ResearcherIntended=NULL\n",
    "metadata$Confounding=NULL\n",
    "metadata$Lane=NULL\n",
    "#make sure the rows in metadata match the order of the columns in count_data \n",
    "metadata=metadata[names(count_data),]\n",
    "head(metadata)"
   ]
  },
  {
   "cell_type": "code",
   "execution_count": null,
   "metadata": {
    "collapsed": true
   },
   "outputs": [],
   "source": [
    "#We set threshold for determining differential expression \n",
    "padjust_thresh=0.05 \n"
   ]
  },
  {
   "cell_type": "code",
   "execution_count": null,
   "metadata": {
    "collapsed": false
   },
   "outputs": [],
   "source": [
    "#create a DESeq2 object with the data, metadata, and model information \n",
    "ddsMat=DESeqDataSetFromMatrix(countData=as.matrix(count_data),\n",
    "                            colData=metadata,\n",
    "                            design=~Strain+Media+Researcher)\n"
   ]
  },
  {
   "cell_type": "code",
   "execution_count": null,
   "metadata": {
    "collapsed": false
   },
   "outputs": [],
   "source": [
    "#Run DESeq2 analysis \n",
    "dds<-DESeq(ddsMat)"
   ]
  },
  {
   "cell_type": "code",
   "execution_count": null,
   "metadata": {
    "collapsed": false
   },
   "outputs": [],
   "source": [
    "#We can examine several contrasts in the resulting DESeq2 object\n",
    "resultsNames(dds)"
   ]
  },
  {
   "cell_type": "code",
   "execution_count": null,
   "metadata": {
    "collapsed": true
   },
   "outputs": [],
   "source": [
    "#Specify the contrasts we want to examine (we indicated these above)\n",
    "deseq_contrasts=list(c(\"Media\",\"YPD\",\"YPGE\"),\n",
    "                     c(\"Strain\",\"WT\",\"asf1\"),\n",
    "                     c(\"Strain\",\"WT\",\"rtt109\"),\n",
    "                     c(\"Strain\",\"asf1\",\"rtt109\"))\n",
    "contrast_names=c(\"Media_YPD_vs_YPGE\",\n",
    "        \"Strain_WT_vs_asf1\",\n",
    "        \"Strain_WT_vs_rtt109\",\n",
    "        \"Strain_asf1_vs_rtt109\")\n",
    "\n"
   ]
  },
  {
   "cell_type": "code",
   "execution_count": null,
   "metadata": {
    "collapsed": false
   },
   "outputs": [],
   "source": [
    "#Query the DESeq2 results to find differential peaks for each contrast, using our padjust_thresh and lfc_thresh values.\n",
    "for(contrast_index in seq(1,4))\n",
    "{\n",
    "        comparison_name=unlist(contrast_names[contrast_index])    \n",
    "        print(comparison_name)\n",
    "        ds=results(dds,\n",
    "           contrast=unlist(deseq_contrasts[contrast_index]))\n",
    "        print(ds)\n",
    "        #write  entries for all peaks\n",
    "        write.table(ds,file=paste(comparison_name,\".txt\",sep=\"\"),quote=FALSE,row.names=TRUE,col.names=TRUE,sep='\\t')\n",
    "    \n",
    "        #subset the peak set to just the differential peaks \n",
    "        ds=na.omit(ds)\n",
    "        sig=ds[ds$padj<padjust_thresh,] \n",
    "        peaks_sig=rownames(sig)\n",
    "        head(peaks_sig)\n",
    "        write.table(peaks_sig,\n",
    "                    file=paste(comparison_name,\".differential.txt\",sep=\"\"),\n",
    "                    quote=FALSE,row.names=FALSE,col.names=FALSE,sep='\\t')\n",
    "}\n"
   ]
  },
  {
   "cell_type": "markdown",
   "metadata": {},
   "source": [
    "This code will generate 4 pairs of files: \n",
    "\n",
    "* Media_YPD_vs_YPGE.txt  \n",
    "* Media_YPD_vs_YPGE.differential.txt  \n",
    "\n",
    "\n",
    "* Strain_WT_vs_asf1.txt  \n",
    "* Strain_WT_vs_asdf1.differential.txt\n",
    "\n",
    "\n",
    "* Strain_WT_vs_rtt109.txt  \n",
    "* Strain_WT_vs_rtt109.differential.txt  \n",
    "\n",
    "\n",
    "* Strain_asf1_vs_rtt109.txt\n",
    "* Strain_asf1_vs_rtt109.differential.txt\n",
    "\n",
    "The first is the raw output from DESeq for all peaks. We will not have time to discuss everything in this file, but feel free to read the DESeq manual and see if you can understand it. The second,  contains a list of the IDs of the differentially open peaks from ATAC‐seq. The p‐value cutoff for differential openness that we use is 0.05. You can examine the content of these files with the following commands: "
   ]
  },
  {
   "cell_type": "markdown",
   "metadata": {},
   "source": [
    "### Running limma ###"
   ]
  },
  {
   "cell_type": "markdown",
   "metadata": {},
   "source": [
    "If you recall, we used the R limma package to remove the \"Researcher\" batch effect in our data. Limma can also be used for differential peak calling. Limma uses a similar algorithm to DESeq2. We will go through the process of calling differential peaks with limma and see how the peak rankings differ between limma and DESeq2 -- it's always best to sanity check your results by running them through several similar analysis algorithms. "
   ]
  },
  {
   "cell_type": "code",
   "execution_count": null,
   "metadata": {
    "collapsed": false
   },
   "outputs": [],
   "source": [
    "#import the limma library \n",
    "\n",
    "library(limma)\n",
    "#design the model \n",
    "design=model.matrix(~0+Strain+Media+Researcher,data=metadata)\n",
    "\n",
    "#We use the \"voom\" function associated with the limma package to normalize the count data \n",
    "vm=voom(count_data,design)\n",
    "\n",
    "#fit the model to the data \n",
    "fit=lmFit(vm,design=vm$design)\n",
    "\n",
    "\n",
    "#We'll examine the media contrast \n",
    "cont.matrix=makeContrasts(media=\"MediaYPGE\",levels=fit)\n",
    "media_model=eBayes(contrasts.fit(fit,cont.matrix))\n",
    "res_limma=topTable(media_model,n=nrow(count_data))\n",
    "head(res_limma)"
   ]
  },
  {
   "cell_type": "markdown",
   "metadata": {},
   "source": [
    "### Comparing DESeq2 and limma voom outputs ### "
   ]
  },
  {
   "cell_type": "code",
   "execution_count": null,
   "metadata": {
    "collapsed": false
   },
   "outputs": [],
   "source": [
    "#Let's extract the media comparison from DESeq2\n",
    "res_deseq2=results(dds,\n",
    "           contrast=unlist(deseq_contrasts[1]))\n",
    "res_deseq2=as.data.frame(res_deseq2)\n"
   ]
  },
  {
   "cell_type": "code",
   "execution_count": null,
   "metadata": {
    "collapsed": false
   },
   "outputs": [],
   "source": [
    "#We need to merge the two result dataframes by peak name So that we can generate a scatterplot of\n",
    "#padj in one vs the other \n",
    "res_limma$peak=rownames(res_limma)\n",
    "res_deseq2$peak=rownames(res_deseq2)\n",
    "nrow(res_limma)\n",
    "nrow(res_deseq2)"
   ]
  },
  {
   "cell_type": "code",
   "execution_count": null,
   "metadata": {
    "collapsed": false
   },
   "outputs": [],
   "source": [
    "merged_df=merge(res_limma,res_deseq2,by=\"peak\")\n",
    "merged_df$limma_padj=-10*log10(merged_df$padj)\n",
    "merged_df$deseq2_padj=-10*log10(merged_df$adj.P.Val)\n",
    "\n"
   ]
  },
  {
   "cell_type": "code",
   "execution_count": null,
   "metadata": {
    "collapsed": false
   },
   "outputs": [],
   "source": [
    "head(merged_df)"
   ]
  },
  {
   "cell_type": "code",
   "execution_count": null,
   "metadata": {
    "collapsed": false
   },
   "outputs": [],
   "source": [
    "library(ggplot2)\n",
    "ggplot(merged_df,aes(x=deseq2_padj,y=limma_padj))+\n",
    "    geom_point(alpha=0.1)+\n",
    "    xlim(0,400)+\n",
    "    ylim(0,400)"
   ]
  },
  {
   "cell_type": "markdown",
   "metadata": {},
   "source": [
    "The p-values appear to be pretty correlated. Let's make sure by computing the spearman and pearson correlations: "
   ]
  },
  {
   "cell_type": "code",
   "execution_count": null,
   "metadata": {
    "collapsed": false
   },
   "outputs": [],
   "source": [
    "spearman_cor=cor(merged_df$limma_padj,merged_df$deseq2_padj,method=\"spearman\")\n",
    "spearman_cor"
   ]
  },
  {
   "cell_type": "code",
   "execution_count": null,
   "metadata": {
    "collapsed": false
   },
   "outputs": [],
   "source": [
    "pearson_cor=cor(merged_df$limma_padj,merged_df$deseq2_padj,method=\"pearson\")\n",
    "pearson_cor"
   ]
  },
  {
   "cell_type": "markdown",
   "metadata": {},
   "source": [
    "Excellent, the correlations are near 90%. "
   ]
  },
  {
   "cell_type": "markdown",
   "metadata": {},
   "source": [
    "Finally, we plot the rank comparison of the p-values across the two methods. "
   ]
  },
  {
   "cell_type": "code",
   "execution_count": null,
   "metadata": {
    "collapsed": false
   },
   "outputs": [],
   "source": [
    "#use the \"rank\" function to generate rank columns for the p-values \n",
    "merged_df$limma_padj_rank=rank(merged_df$limma_padj)\n",
    "merged_df$deseq2_padj_rank=rank(merged_df$deseq2_padj)\n",
    "\n",
    "ggplot(merged_df,aes(x=deseq2_padj_rank,y=limma_padj_rank))+\n",
    "    geom_point(alpha=0.1)"
   ]
  },
  {
   "cell_type": "code",
   "execution_count": null,
   "metadata": {
    "collapsed": true
   },
   "outputs": [],
   "source": []
  }
 ],
 "metadata": {
  "kernelspec": {
   "display_name": "R",
   "language": "R",
   "name": "ir"
  },
  "language_info": {
   "codemirror_mode": "r",
   "file_extension": ".r",
   "mimetype": "text/x-r-source",
   "name": "R",
   "pygments_lexer": "r",
   "version": "3.5.0"
  }
 },
 "nbformat": 4,
 "nbformat_minor": 0
}
