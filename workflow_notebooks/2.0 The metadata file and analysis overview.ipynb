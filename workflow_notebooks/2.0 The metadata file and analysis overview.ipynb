{
 "cells": [
  {
   "cell_type": "markdown",
   "metadata": {},
   "source": [
    "# The metadata file #"
   ]
  },
  {
   "cell_type": "markdown",
   "metadata": {},
   "source": [
    "This is a short section, but given its importance, it gets its own page on the wiki.\n",
    "\n",
    "For every project you work on, it is absolutely essential to have a metadata sheet describing your data, and use it every time you perform operations on your data. You should NEVER perform operations involving multiple data files in your data \"by hand\", because that is NOT reproducible research.\n",
    "\n",
    "\n",
    "In our experiment we are examining 3 strains of Saccharomyces_cerevisiae (SacCer3): \n",
    "* Wild Type (WT) \n",
    "* Asf1 mutant \n",
    "* Rtt109 mutant\n",
    "\n",
    "These are cultured on 2 different media: \n",
    "* ethanol \n",
    "* glucose \n",
    "\n",
    "There are 6 replicates for each combination of strain and medium. We have designed the experiments in such a way that replicates 1 - 3 are not confounded: the two experiments performed by a single researcher used different strains and media.  \n",
    "\n",
    "However, replicates 4 - 6 have partial confounding: the two experiments performed by a single researcher used the same media. What kind of bias might this introduce in the data? How can we visualize and correct for this bias? We'll find out soon. "
   ]
  },
  {
   "cell_type": "markdown",
   "metadata": {},
   "source": [
    "The following treatments were applied to the SacCer3 yeast, also described in the sample sheet located in  **$METADATA_DIR/TC2018_samples.tsv** "
   ]
  },
  {
   "cell_type": "markdown",
   "metadata": {},
   "source": [
    "| Researcher | ID               | Replicate | Confounding? | Strain | Media   | \n",
    "|------------|------------------|-----------|--------------|--------|---------| \n",
    "| hrosenbl   | hrosenbl_WT_ethanol_1     | 1         | FALSE        | WT     | ethanol | \n",
    "| pgoddard   | pgoddard_asf1_ethanol_1   | 1         | FALSE        | asf1   | ethanol | \n",
    "| yiuwong    | yiuwong_rtt109_ethanol_1 | 1         | FALSE        | rtt109 | ethanol | \n",
    "| kjngo      | kjngo_WT_ethanol_2     | 2         | FALSE        | WT     | ethanol | \n",
    "| marinovg   | marinovg_asf1_ethanol_2   | 2         | FALSE        | asf1   | ethanol | \n",
    "| ambenj     | ambenj_rtt109_ethanol_2 | 2         | FALSE        | rtt109 | ethanol | \n",
    "| mkoska     | mkoska_WT_ethanol_3     | 3         | FALSE        | WT     | ethanol | \n",
    "| dcotter1   | dcotter1_asf1_ethanol_3   | 3         | FALSE        | asf1   | ethanol | \n",
    "| jkcheng    | jkcheng_rtt109_ethanol_3 | 3         | FALSE        | rtt109 | ethanol | \n",
    "| rpatel7    | rpatel7_WT_ethanol_4     | 4         | TRUE         | WT     | ethanol | \n",
    "| jarod      | jarod_asf1_ethanol_5   | 5         | TRUE         | asf1   | ethanol | \n",
    "| ktomins    | ktomins_rtt109_ethanol_5 | 5         | TRUE         | rtt109 | ethanol | \n",
    "| gamador    | gamador_WT_ethanol_6     | 6         | TRUE         | WT     | ethanol | \n",
    "| raungar    | raungar_asf1_ethanol_6   | 6         | TRUE         | asf1   | ethanol | \n",
    "| rosaxma    | rosaxma_rtt109_glucose_4 | 4         | TRUE         | rtt109 | glucose | \n",
    "| dmaghini   | dmaghini_WT,glucose_5     | 5         | TRUE         | WT     | glucose | \n",
    "| egreenwa   | egreenwa_asf1_glucose_6   | 6         | TRUE         | asf1   | glucose | \n",
    "| kjhanson   | kjhanson_rtt109_glucose_6 | 6         | TRUE         | rtt109 | glucose | \n",
    "| hrosenbl   | hrosenbl_asf1_glucose_1   | 1         | FALSE        | asf1   | glucose | \n",
    "| pgoddard   | pgoddard_rtt109_glucose_1 | 1         | FALSE        | rtt109 | glucose | \n",
    "| yiuwong    | yiuwong_WT_glucose_1     | 1         | FALSE        | WT     | glucose | \n",
    "| kjngo      | kjngo_rtt109_glucose_2 | 2         | FALSE        | rtt109 | glucose | \n",
    "| marinovg   | marinovg_WT_glucose_2     | 2         | FALSE        | WT     | glucose | \n",
    "| ambenj     | ambenj_asf1_glucose_2   | 2         | FALSE        | asf1   | glucose | \n",
    "| mkoska     | mkoska_asf1_glucose_3   | 3         | FALSE        | asf1   | glucose | \n",
    "| dcotter1   | dcotter1_rtt109_glucose_3 | 3         | FALSE        | rtt109 | glucose | \n",
    "| jkcheng    | jkcheng_WT_glucose_3     | 3         | FALSE        | WT     | glucose | \n",
    "| rpatel7    | rpatel7_asf1_ethanol_4   | 4         | TRUE         | asf1   | ethanol | \n",
    "| jarod      | jarod_rtt109_ethanol_4 | 4         | TRUE         | rtt109 | ethanol | \n",
    "| ktomins    | ktomins_WT_ethanol_5     | 5         | TRUE         | WT     | ethanol | \n",
    "| gamador    | gamador_rtt109_ethanol_6 | 6         | TRUE         | rtt109 | ethanol | \n",
    "| raungar    | raungar_WT_glucose_4     | 4         | TRUE         | WT     | glucose | \n",
    "| rosaxma    | rosaxma_asf1_glucose_4   | 4         | TRUE         | asf1   | glucose | \n",
    "| dmaghini   | dmaghini_asf1_glucose_5   | 5         | TRUE         | asf1   | glucose | \n",
    "| egreenwa   | egreenwa_rtt109_glucose_5 | 5         | TRUE         | rtt109 | glucose | \n",
    "| kjhanson   | kjhansen_WT_glucose_6     | 6         | TRUE         | WT     | glucose | \n"
   ]
  },
  {
   "cell_type": "markdown",
   "metadata": {
    "collapsed": true
   },
   "source": [
    "## Analysis Overview"
   ]
  },
  {
   "cell_type": "markdown",
   "metadata": {},
   "source": [
    "![Analysis Pipeline](images/tc2017_pipeline.png)"
   ]
  }
 ],
 "metadata": {
  "kernelspec": {
   "display_name": "Bash",
   "language": "bash",
   "name": "bash"
  },
  "language_info": {
   "codemirror_mode": "shell",
   "file_extension": ".sh",
   "mimetype": "text/x-sh",
   "name": "bash"
  }
 },
 "nbformat": 4,
 "nbformat_minor": 1
}
