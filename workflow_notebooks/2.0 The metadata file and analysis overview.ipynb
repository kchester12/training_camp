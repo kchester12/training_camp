{
 "cells": [
  {
   "cell_type": "markdown",
   "metadata": {},
   "source": [
    "# The metadata file #"
   ]
  },
  {
   "cell_type": "markdown",
   "metadata": {},
   "source": [
    "This is a short section, but given its importance, it gets its own page on the wiki.\n",
    "\n",
    "For every project you work on, it is absolutely essential to have a metadata sheet describing your data, and use it every time you perform operations on your data. You should NEVER perform operations involving multiple data files in your data \"by hand\", because that is NOT reproducible research.\n",
    "\n",
    "\n",
    "In our experiment we are examining 3 strains of Saccharomyces_cerevisiae (SacCer3): \n",
    "* Wild Type (WT) \n",
    "* Asf1 mutant \n",
    "* Rtt109 mutant\n",
    "\n",
    "These are cultured on 2 different media: \n",
    "* YPGE \n",
    "* YPD \n",
    "\n",
    "There are 6 replicates for each combination of strain and medium. We have designed the experiments in such a way that replicates 1 - 3 are not confounded: the two experiments performed by a single researcher used different strains and media.  \n",
    "\n",
    "However, replicates 4 - 6 have partial confounding: the two experiments performed by a single researcher used the same media. What kind of bias might this introduce in the data? How can we visualize and correct for this bias? We'll find out soon. "
   ]
  },
  {
   "cell_type": "markdown",
   "metadata": {},
   "source": [
    "The following treatments were applied to the SacCer3 yeast, also described in the sample sheet located in  **$METADATA_DIR/TC2018_samples.tsv** "
   ]
  },
  {
   "cell_type": "markdown",
   "metadata": {},
   "source": [
    "| Researcher | ID               | Replicate | Confounding? | Strain | Media   | \n",
    "|------------|------------------|-----------|--------------|--------|---------| \n",
    "| hrosenbl   | hrosenbl_WT_YPGE_1     | 1         | FALSE        | WT     | YPGE | \n",
    "| pgoddard   | pgoddard_asf1_YPGE_1   | 1         | FALSE        | asf1   | YPGE | \n",
    "| yiuwong    | yiuwong_rtt109_YPGE_1 | 1         | FALSE        | rtt109 | YPGE | \n",
    "| kjngo      | kjngo_WT_YPGE_2     | 2         | FALSE        | WT     | YPGE | \n",
    "| marinovg   | marinovg_asf1_YPGE_2   | 2         | FALSE        | asf1   | YPGE | \n",
    "| ambenj     | ambenj_rtt109_YPGE_2 | 2         | FALSE        | rtt109 | YPGE | \n",
    "| mkoska     | mkoska_WT_YPGE_3     | 3         | FALSE        | WT     | YPGE | \n",
    "| dcotter1   | dcotter1_asf1_YPGE_3   | 3         | FALSE        | asf1   | YPGE | \n",
    "| jkcheng    | jkcheng_rtt109_YPGE_3 | 3         | FALSE        | rtt109 | YPGE | \n",
    "| rpatel7    | rpatel7_WT_YPGE_4     | 4         | TRUE         | WT     | YPGE | \n",
    "| jarod      | jarod_asf1_YPGE_5   | 5         | TRUE         | asf1   | YPGE | \n",
    "| ktomins    | ktomins_rtt109_YPGE_5 | 5         | TRUE         | rtt109 | YPGE | \n",
    "| gamador    | gamador_WT_YPGE_6     | 6         | TRUE         | WT     | YPGE | \n",
    "| raungar    | raungar_asf1_YPGE_6   | 6         | TRUE         | asf1   | YPGE | \n",
    "| rosaxma    | rosaxma_rtt109_YPD_4 | 4         | TRUE         | rtt109 | YPD | \n",
    "| dmaghini   | dmaghini_WT,YPD_5     | 5         | TRUE         | WT     | YPD | \n",
    "| egreenwa   | egreenwa_asf1_YPD_6   | 6         | TRUE         | asf1   | YPD | \n",
    "| kjhanson   | kjhanson_rtt109_YPD_6 | 6         | TRUE         | rtt109 | YPD | \n",
    "| hrosenbl   | hrosenbl_asf1_YPD_1   | 1         | FALSE        | asf1   | YPD | \n",
    "| pgoddard   | pgoddard_rtt109_YPD_1 | 1         | FALSE        | rtt109 | YPD | \n",
    "| yiuwong    | yiuwong_WT_YPD_1     | 1         | FALSE        | WT     | YPD | \n",
    "| kjngo      | kjngo_rtt109_YPD_2 | 2         | FALSE        | rtt109 | YPD | \n",
    "| marinovg   | marinovg_WT_YPD_2     | 2         | FALSE        | WT     | YPD | \n",
    "| ambenj     | ambenj_asf1_YPD_2   | 2         | FALSE        | asf1   | YPD | \n",
    "| mkoska     | mkoska_asf1_YPD_3   | 3         | FALSE        | asf1   | YPD | \n",
    "| dcotter1   | dcotter1_rtt109_YPD_3 | 3         | FALSE        | rtt109 | YPD | \n",
    "| jkcheng    | jkcheng_WT_YPD_3     | 3         | FALSE        | WT     | YPD | \n",
    "| rpatel7    | rpatel7_asf1_YPGE_4   | 4         | TRUE         | asf1   | YPGE | \n",
    "| jarod      | jarod_rtt109_YPGE_4 | 4         | TRUE         | rtt109 | YPGE | \n",
    "| ktomins    | ktomins_WT_YPGE_5     | 5         | TRUE         | WT     | YPGE | \n",
    "| gamador    | gamador_rtt109_YPGE_6 | 6         | TRUE         | rtt109 | YPGE | \n",
    "| raungar    | raungar_WT_YPD_4     | 4         | TRUE         | WT     | YPD | \n",
    "| rosaxma    | rosaxma_asf1_YPD_4   | 4         | TRUE         | asf1   | YPD | \n",
    "| dmaghini   | dmaghini_asf1_YPD_5   | 5         | TRUE         | asf1   | YPD | \n",
    "| egreenwa   | egreenwa_rtt109_YPD_5 | 5         | TRUE         | rtt109 | YPD | \n",
    "| kjhanson   | kjhansen_WT_YPD_6     | 6         | TRUE         | WT     | YPD | \n"
   ]
  },
  {
   "cell_type": "markdown",
   "metadata": {
    "collapsed": true
   },
   "source": [
    "## Analysis Overview"
   ]
  },
  {
   "cell_type": "markdown",
   "metadata": {},
   "source": [
    "![Analysis Pipeline](images/tc2017_pipeline.png)"
   ]
  }
 ],
 "metadata": {
  "kernelspec": {
   "display_name": "Bash",
   "language": "bash",
   "name": "bash"
  },
  "language_info": {
   "codemirror_mode": "shell",
   "file_extension": ".sh",
   "mimetype": "text/x-sh",
   "name": "bash"
  }
 },
 "nbformat": 4,
 "nbformat_minor": 1
}
